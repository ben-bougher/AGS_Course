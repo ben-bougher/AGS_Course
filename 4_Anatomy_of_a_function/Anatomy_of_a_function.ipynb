{
 "metadata": {
  "name": "Anatomy_of_a_function.ipynb"
 },
 "nbformat": 3,
 "nbformat_minor": 0,
 "worksheets": [
  {
   "cells": [
    {
     "cell_type": "heading",
     "level": 1,
     "metadata": {},
     "source": [
      "Anatomy of a function"
     ]
    },
    {
     "cell_type": "code",
     "collapsed": false,
     "input": [
      "#The keyword def indicates the start of a function.\n",
      "#The function is called add and it takes (requires) two arguments)\n",
      "#A colon (:) terminates the function signature\n",
      "def add(arg0, arg1):\n",
      "    \"\"\"Add two numbers\"\"\"\n",
      "    #an optional docstring is used to document the function in a standard way for tools like iPython\n",
      "    #Indentation is used to indicate the contents of the function. \n",
      "    #It is NOT optional, it is part of the required syntax, 4 spaces!!!\n",
      "    \n",
      "    a = arg0 + arg1\n",
      "    #An optional return statement specifies the value return from the function. \n",
      "    #If return is omitted, the function returns the special value \"None\"\n",
      "    return a"
     ],
     "language": "python",
     "metadata": {},
     "outputs": []
    },
    {
     "cell_type": "markdown",
     "metadata": {},
     "source": [
      "Our new function in action (we just created it in the code block above, but you can do it line by line in the interpreter"
     ]
    },
    {
     "cell_type": "code",
     "collapsed": false,
     "input": [
      "x = 2\n",
      "y = 3\n",
      "add(x,y)"
     ],
     "language": "python",
     "metadata": {},
     "outputs": []
    },
    {
     "cell_type": "code",
     "collapsed": false,
     "input": [
      "#How about strings?\n",
      "s1 = 'www.Agile'\n",
      "s2 = 'Geoscience.com'\n",
      "add(s1,s2)"
     ],
     "language": "python",
     "metadata": {},
     "outputs": []
    },
    {
     "cell_type": "code",
     "collapsed": false,
     "input": [
      "#Function can be assigned to variables\n",
      "add_operator = add\n",
      "add_operator(x,y)"
     ],
     "language": "python",
     "metadata": {},
     "outputs": []
    },
    {
     "cell_type": "code",
     "collapsed": false,
     "input": [
      "#How about numbers and strings?\n",
      "#add('abc', 1)\n",
      "\n",
      "add(2,1)\n",
      "\n",
      "add('2', '1')"
     ],
     "language": "python",
     "metadata": {},
     "outputs": []
    },
    {
     "cell_type": "heading",
     "level": 2,
     "metadata": {},
     "source": [
      "Function calling conventions"
     ]
    },
    {
     "cell_type": "heading",
     "level": 3,
     "metadata": {},
     "source": [
      "Positional arguments"
     ]
    },
    {
     "cell_type": "code",
     "collapsed": false,
     "input": [
      "Do the contents of the function in the <code>return</code> statement,"
     ],
     "language": "python",
     "metadata": {},
     "outputs": []
    },
    {
     "cell_type": "code",
     "collapsed": false,
     "input": [
      "def empower(x,y):\n",
      "    return x**y\n",
      "empower(2,3)"
     ],
     "language": "python",
     "metadata": {},
     "outputs": []
    },
    {
     "cell_type": "heading",
     "level": 3,
     "metadata": {},
     "source": [
      "Keyword arguments"
     ]
    },
    {
     "cell_type": "code",
     "collapsed": false,
     "input": [
      "def subtract(first, second):\n",
      "    \"\"\"subtract the second value from the first\"\"\"\n",
      "    return first - second"
     ],
     "language": "python",
     "metadata": {},
     "outputs": []
    },
    {
     "cell_type": "markdown",
     "metadata": {},
     "source": [
      "For keyword arguments, you can either specify the argument names,"
     ]
    },
    {
     "cell_type": "code",
     "collapsed": false,
     "input": [
      "subtract(first=10,second=3)"
     ],
     "language": "python",
     "metadata": {},
     "outputs": []
    },
    {
     "cell_type": "markdown",
     "metadata": {},
     "source": [
      "or not,"
     ]
    },
    {
     "cell_type": "code",
     "collapsed": false,
     "input": [
      "subtract(10,3)"
     ],
     "language": "python",
     "metadata": {},
     "outputs": []
    },
    {
     "cell_type": "markdown",
     "metadata": {},
     "source": [
      "when the arguments are named, the order doesn't matter,"
     ]
    },
    {
     "cell_type": "code",
     "collapsed": false,
     "input": [
      "subtract(second=10, first=3)"
     ],
     "language": "python",
     "metadata": {},
     "outputs": []
    },
    {
     "cell_type": "markdown",
     "metadata": {},
     "source": [
      "and you can even do a mixture if you are careful about the order,"
     ]
    },
    {
     "cell_type": "code",
     "collapsed": false,
     "input": [
      "subtract(10, second=3)"
     ],
     "language": "python",
     "metadata": {},
     "outputs": [
      {
       "ename": "ValueError",
       "evalue": "invalid number of arguments",
       "output_type": "pyerr",
       "traceback": [
        "\u001b[0;31m---------------------------------------------------------------------------\u001b[0m\n\u001b[0;31mValueError\u001b[0m                                Traceback (most recent call last)",
        "\u001b[0;32m<ipython-input-1-adbd4c8aa581>\u001b[0m in \u001b[0;36m<module>\u001b[0;34m()\u001b[0m\n\u001b[0;32m----> 1\u001b[0;31m \u001b[0msubtract\u001b[0m\u001b[0;34m(\u001b[0m\u001b[0;36m10\u001b[0m\u001b[0;34m,\u001b[0m \u001b[0msecond\u001b[0m\u001b[0;34m=\u001b[0m\u001b[0;36m3\u001b[0m\u001b[0;34m)\u001b[0m\u001b[0;34m\u001b[0m\u001b[0m\n\u001b[0m",
        "\u001b[0;31mValueError\u001b[0m: invalid number of arguments"
       ]
      }
     ],
     "prompt_number": 1
    },
    {
     "cell_type": "code",
     "collapsed": false,
     "input": [
      "#try:\n",
      "#>>>subtract(second=3, 10) #...what happens?"
     ],
     "language": "python",
     "metadata": {},
     "outputs": []
    },
    {
     "cell_type": "code",
     "collapsed": false,
     "input": [
      "Default values: arguments can be assigned default values,"
     ],
     "language": "python",
     "metadata": {},
     "outputs": []
    },
    {
     "cell_type": "code",
     "collapsed": false,
     "input": [
      "def quad(x, a=1, b=1, c=0):\n",
      "    return a*x**2+ b*x + c"
     ],
     "language": "python",
     "metadata": {},
     "outputs": []
    },
    {
     "cell_type": "markdown",
     "metadata": {},
     "source": [
      "Use defaults for a, b, and c,"
     ]
    },
    {
     "cell_type": "code",
     "collapsed": false,
     "input": [
      "quad(2.0)\n"
     ],
     "language": "python",
     "metadata": {},
     "outputs": []
    },
    {
     "cell_type": "markdown",
     "metadata": {},
     "source": [
      "Set <code>b=3</code>. Defaults for <code>a</code> and <code>c</code>,"
     ]
    },
    {
     "cell_type": "code",
     "collapsed": false,
     "input": [
      "quad(2.0, b=3)"
     ],
     "language": "python",
     "metadata": {},
     "outputs": []
    },
    {
     "cell_type": "markdown",
     "metadata": {},
     "source": [
      "Keyword argumnets can be passed in and out of order,"
     ]
    },
    {
     "cell_type": "code",
     "collapsed": false,
     "input": [
      "quad(2.0, c=1, a=3, b=2)"
     ],
     "language": "python",
     "metadata": {},
     "outputs": []
    },
    {
     "cell_type": "code",
     "collapsed": false,
     "input": [
      "but the positional arguments must come before the default values."
     ],
     "language": "python",
     "metadata": {},
     "outputs": []
    },
    {
     "cell_type": "code",
     "collapsed": false,
     "input": [
      "#try: quad(c=1, 2.0, a=3, b=2)\n",
      "#try: quad(c=1, x=2.0, a=3, b=2)"
     ],
     "language": "python",
     "metadata": {},
     "outputs": []
    },
    {
     "cell_type": "heading",
     "level": 3,
     "metadata": {},
     "source": [
      "Variable number of arguments (args)"
     ]
    },
    {
     "cell_type": "markdown",
     "metadata": {},
     "source": [
      "Pass in any number of arguments. Extra arguments are put in the tuple called <code>args</code>."
     ]
    },
    {
     "cell_type": "code",
     "collapsed": false,
     "input": [
      "def func(x, y, *args):\n",
      "    print x, y, args\n",
      "    \n",
      "func(2,3,'hello',4, 5,'goodbye')"
     ],
     "language": "python",
     "metadata": {},
     "outputs": []
    },
    {
     "cell_type": "heading",
     "level": 3,
     "metadata": {},
     "source": [
      "Variable keyword arguments"
     ]
    },
    {
     "cell_type": "markdown",
     "metadata": {},
     "source": [
      "Extra keyword arguments are put in the dictionary called <code>kw</code>"
     ]
    },
    {
     "cell_type": "code",
     "collapsed": false,
     "input": [
      "def funk(x, y, **kw):\n",
      "    print x, y, kw\n",
      "    \n",
      "funk(1,2,a=3,b=4,c=5)"
     ],
     "language": "python",
     "metadata": {},
     "outputs": []
    },
    {
     "cell_type": "heading",
     "level": 3,
     "metadata": {},
     "source": [
      "The \"anything\" signature"
     ]
    },
    {
     "cell_type": "markdown",
     "metadata": {},
     "source": [
      "This signature takes any number of positional and keyword arguments"
     ]
    },
    {
     "cell_type": "code",
     "collapsed": false,
     "input": [
      "def whatever(*args, **kw):\n",
      "    print args, kw\n",
      "    \n",
      "whatever(2, 3, x = 'hello', y = 'stranger')"
     ],
     "language": "python",
     "metadata": {},
     "outputs": []
    },
    {
     "cell_type": "heading",
     "level": 3,
     "metadata": {},
     "source": [
      "Multiple function returns"
     ]
    },
    {
     "cell_type": "markdown",
     "metadata": {},
     "source": [
      "To <code>return</code> multiple values from a function, we <code>return</code> a tuple containing those values. This is a common use of multiple (tuple) assignment."
     ]
    },
    {
     "cell_type": "code",
     "collapsed": false,
     "input": [
      "def functions(x):\n",
      "    y1 = x**2+x\n",
      "    y2 = x**3 + x**2 + 2*x\n",
      "    return y1, y2\n",
      "\n",
      "a,b = functions(2)\n",
      "print a,b"
     ],
     "language": "python",
     "metadata": {},
     "outputs": []
    },
    {
     "cell_type": "heading",
     "level": 3,
     "metadata": {},
     "source": [
      "Expanding function arguments"
     ]
    },
    {
     "cell_type": "markdown",
     "metadata": {},
     "source": [
      "Positional argument expansion:"
     ]
    },
    {
     "cell_type": "code",
     "collapsed": false,
     "input": [
      "def add(x,y):\n",
      "    return x + y"
     ],
     "language": "python",
     "metadata": {},
     "outputs": [],
     "prompt_number": 2
    },
    {
     "cell_type": "markdown",
     "metadata": {},
     "source": [
      "Putting <code>*</code> in a function call converts a sequence into the arguments to a function\n"
     ]
    },
    {
     "cell_type": "code",
     "collapsed": false,
     "input": [
      "vars = [1,2]\n",
      "add(*vars)"
     ],
     "language": "python",
     "metadata": {},
     "outputs": []
    },
    {
     "cell_type": "markdown",
     "metadata": {},
     "source": [
      "Keyword argument expansion:"
     ]
    },
    {
     "cell_type": "code",
     "collapsed": false,
     "input": [
      "def funky(x, y=1, **kw):\n",
      "    print x, y, kw"
     ],
     "language": "python",
     "metadata": {},
     "outputs": []
    },
    {
     "cell_type": "markdown",
     "metadata": {},
     "source": [
      "Putting <code>**</code> expands a dictionary into keyword arguments for a function"
     ]
    },
    {
     "cell_type": "code",
     "collapsed": false,
     "input": [
      "vars = {'y':3, 'z':4}\n",
      "funky(1, **vars)"
     ],
     "language": "python",
     "metadata": {},
     "outputs": []
    },
    {
     "cell_type": "heading",
     "level": 1,
     "metadata": {},
     "source": [
      "Modules"
     ]
    },
    {
     "cell_type": "code",
     "collapsed": false,
     "input": [
      "#%pylab inline"
     ],
     "language": "python",
     "metadata": {},
     "outputs": []
    },
    {
     "cell_type": "code",
     "collapsed": false,
     "input": [
      "#ricker_simple.py\n",
      "\"\"\"\n",
      "Save this code block in your working directory,\n",
      "- save file as 'ricker_simple.py'\n",
      "Then run \n",
      "\"\"\"\n",
      "pi = 3.14159\n",
      "x = linspace(-0.256 , 0.255, 256)\n",
      "\n",
      "def ricker(f,length=0.512,dt=0.002 ):\n",
      "    # make a time-domain for a function (vector)\n",
      "    t = linspace(-length/2, (length-dt)/2, length/dt)\n",
      "    # compute the function\n",
      "    y = (1.-2.*(pi**2)*(f**2)*(t**2))*exp(-(pi**2)*(f**2)*(t**2))\n",
      "    return y,t\n",
      "\n",
      "y1,t1 = ricker (5)\n",
      "plot(y1,t1, lw=3, alpha=0.5)\n",
      "grid()\n",
      "#hold('True')\n",
      "y2 ,t2 = ricker(10,length=0.256, dt=0.001)\n",
      "plot(y2,t2,'g', lw=6, alpha=0.5)\n",
      "x = t1\n",
      "y = y1"
     ],
     "language": "python",
     "metadata": {},
     "outputs": []
    },
    {
     "cell_type": "code",
     "collapsed": false,
     "input": [
      "##From shell\n",
      "##>> python ricker_simple.py\n",
      "import ricker_simple"
     ],
     "language": "python",
     "metadata": {},
     "outputs": []
    },
    {
     "cell_type": "code",
     "collapsed": false,
     "input": [
      "##From the interpreter\n",
      "\n",
      "#load and execute the module\n",
      "import ricker_simple\n",
      "# get/set a module variable\n",
      "print ricker_simple.t[:10]\n",
      "# call a module function\n",
      "print ricker_simple.y[:10]\n",
      "# call a module function\n",
      "f = 20\n",
      "l = 0.128\n",
      "plot(ricker(f,length=l)[0],ricker(f,length=l)[1])\n",
      "grid()"
     ],
     "language": "python",
     "metadata": {},
     "outputs": []
    },
    {
     "cell_type": "code",
     "collapsed": false,
     "input": [
      "#A Python file can be used as a script, or as a module , or both"
     ],
     "language": "python",
     "metadata": {},
     "outputs": []
    },
    {
     "cell_type": "code",
     "collapsed": false,
     "input": [
      "#setting up a directory"
     ],
     "language": "python",
     "metadata": {},
     "outputs": []
    },
    {
     "cell_type": "heading",
     "level": 2,
     "metadata": {},
     "source": [
      "Object-oriented plotting"
     ]
    },
    {
     "cell_type": "markdown",
     "metadata": {},
     "source": [
      "http://www.ster.kuleuven.be/~pieterd/python/html/plotting/advanced.html"
     ]
    },
    {
     "cell_type": "code",
     "collapsed": false,
     "input": [
      "# Fill curve between y1 and y2\n",
      "fig1a = figure(figsize=(7,3))\n",
      "ax1a = fig1a.add_subplot(1,1,1) #creates an axes object in the figure\n",
      "ax1a.plot(x,y,color='grey', alpha=1, lw=2)\n",
      "#the 'fill_between' command makes filled polygons between two curves\n",
      "ax1a.fill_between( x,0,y,color='black', alpha = 0.25)\n",
      "ax1a.grid()\n",
      "\n",
      "# Fill curve between y1 and y2, where(...)\n",
      "fig1b = figure(figsize=(7,3))\n",
      "ax1b = fig1b.add_subplot(1,1,1)\n",
      "ax1b.plot (x, y, color='grey', alpha=1 , lw=2)\n",
      "ax1b.fill_between(x, 0, y, y > 0, color='red', alpha=.25)\n",
      "ax1b.fill_between(x, 0, y, y < 0, color='blue',  alpha=.25)\n",
      "ax1b.grid()\n",
      "\n",
      "# Make a img plot of the variable intensity image,\n",
      "fig1c = figure(figsize=(7,3))\n",
      "ax1c = fig1c.add_subplot(1,1,1)\n",
      "ax1c.imgplot = imshow( [y,y], cmap = cm.seismic, origin='lower', extent = ( 0 , 250 , -0.5 , 1.0), vmin=-1,vmax= 1, alpha=0.5)\n",
      "ax1c.axis('tight')\n",
      "ax1c.hold(True)\n",
      "ax1c.plot (y[1:], color='black', alpha=0.5 , lw=2)\n",
      "# Now the do slightly more arduous curve fills,\n",
      "\n",
      "#fill below the curve to make a white mask,\n",
      "ax1c.fill_between(500*x+126.5, -0.5, y, y <= 0.05, color= 'white', alpha=1)\n",
      "#fill from below the curve to the zero line for y > 0,\n",
      "ax1c.fill_between(500*x+126.5,  -0.5, 0, y >= 0.00, color= 'white', alpha=1)\n",
      "#fill bottom\n",
      "ax1c.fill_between(500*x+126.5, y, 1.0, y >= 0, color= 'white', alpha=1)\n",
      "ax1c.fill_between(500*x+126.5, 0 , 1.0, y <= 0.1, color= 'white', alpha=1)\n",
      "ax1c.grid()\n"
     ],
     "language": "python",
     "metadata": {},
     "outputs": []
    },
    {
     "cell_type": "heading",
     "level": 3,
     "metadata": {},
     "source": [
      "Scatter plot"
     ]
    },
    {
     "cell_type": "markdown",
     "metadata": {},
     "source": [
      "lets make a scatter plot (a.k.a a cross plot)\n",
      "\n",
      "scatter( x , y , size = '...', color = '...', )"
     ]
    },
    {
     "cell_type": "code",
     "collapsed": false,
     "input": [
      "fig1d = figure(figsize(7,3))\n",
      "ax1d = fig1d.add_subplot(1,1,1)\n",
      "ax1d.scatter(x,y,100*y**2 , alpha=0.5)\n",
      "ax1d.grid()\n",
      "ax1d.set_ylim([0,1])"
     ],
     "language": "python",
     "metadata": {},
     "outputs": []
    },
    {
     "cell_type": "heading",
     "level": 3,
     "metadata": {},
     "source": [
      "3D scatter plot and 3D plotting"
     ]
    },
    {
     "cell_type": "code",
     "collapsed": false,
     "input": [
      "\n",
      "a = rand(200)\n",
      "b = rand(200)\n",
      "c = rand(200)\n",
      "size = rand(200)*300\n",
      "color = rand(200)\n",
      "\n",
      "fig2 = figure(figsize=(14,7))\n",
      "ax2a = fig2.add_subplot(1,2,1)\n",
      "ax2a.scatter(a,b,s=size,c=color)\n",
      "\n",
      "from mpl_toolkits.mplot3d import Axes3D\n",
      "\n",
      "def randrange(n, vmin, vmax):\n",
      "    return (vmax-vmin)*random.rand(n) + vmin\n",
      "\n",
      "ax2b = fig2.add_subplot( 122, projection='3d')\n",
      "\n",
      "n = 100\n",
      "\n",
      "ax2b.scatter(a, b, c, c=color, s=size)\n",
      "\n",
      "ax2b.set_xlabel('Easting [m]')\n",
      "ax2b.set_ylabel('Northing [m]')\n",
      "ax2b.set_zlabel('Elevation [m]')\n",
      "\n",
      "\n",
      "#If you like, cut and paste this code snippet into the interpreter, run it, and you will get a 3D window that you can move around."
     ],
     "language": "python",
     "metadata": {},
     "outputs": []
    },
    {
     "cell_type": "heading",
     "level": 3,
     "metadata": {},
     "source": [
      "Mayavi: a 3D example for Steve"
     ]
    },
    {
     "cell_type": "markdown",
     "metadata": {},
     "source": [
      "* plotting a continuous function as an image"
     ]
    },
    {
     "cell_type": "code",
     "collapsed": false,
     "input": [
      "from ricker_simple import ricker\n",
      "#create arrays\n",
      "x, y = mgrid[-5:5:100j,-5:5:100j]\n",
      "r = -x**2 + y**2 + 0.7*(x-5)**2 - 0.5*(y-4)**2\n",
      "z = sin(r) / r\n",
      "#this returns the peak to peak value of the function.\n",
      "z.ptp()\n",
      "# plot with pylab\n",
      "imshow(z, vmin=0 ,vmax=1)"
     ],
     "language": "python",
     "metadata": {},
     "outputs": []
    },
    {
     "cell_type": "markdown",
     "metadata": {},
     "source": [
      "* plotting a continuous function as a surface (in Mayavi)"
     ]
    },
    {
     "cell_type": "code",
     "collapsed": false,
     "input": [
      "from mayavi import mlab\n",
      "mlab.surf(x,y,z)\n",
      "show()\n",
      "#note: matplotlib also has an mlab namespace. \n",
      "#Be sure that you are using the one from mayavi"
     ],
     "language": "python",
     "metadata": {},
     "outputs": []
    },
    {
     "cell_type": "markdown",
     "metadata": {},
     "source": [
      "* a microseismic example"
     ]
    },
    {
     "cell_type": "code",
     "collapsed": false,
     "input": [
      "#plotting a line in 3D\n",
      "#do this in iPython interpreter\n",
      "x = [0,  0,    0,    0,   5,   10,   20,    40,  160, 600, 600]\n",
      "y = [0,  0,    0,    0,    0,   10,   20,   80,  160, 320, 320]\n",
      "z = [0,  0, -100, -200, -300, -400, -500, -600, -700, -800,-800]\n",
      "\n",
      "mlab.figure(size=(400, 320), bgcolor=(1.0, 1.0, 1.0))\n",
      "mlab.plot3d(x,y,z, color=(0.0, 0.0, 1.0), tube_radius = 4)\n",
      "\n",
      "#make up a cloud of points at max(x), max(y), argmax(z)\n",
      "cent_x = max(x)\n",
      "cent_y = max(y)\n",
      "cent_z = z[argmin(z)]\n",
      "\n",
      "from numpy.random import rand\n",
      "\n",
      "scaler = 200\n",
      "a = scaler*rand(100) + cent_x\n",
      "b = scaler*rand(100) + cent_y\n",
      "c = scaler*rand(100) + cent_z\n",
      "size = rand(100)*300\n",
      "color = rand(100)\n",
      "\n",
      "mlab.points3d(a,b,c,size, mode='sphere')\n",
      "\n"
     ],
     "language": "python",
     "metadata": {},
     "outputs": []
    },
    {
     "cell_type": "markdown",
     "metadata": {},
     "source": [
      "Another Demo example: microseis1.py"
     ]
    },
    {
     "cell_type": "heading",
     "level": 3,
     "metadata": {},
     "source": [
      "A bit more on plotting"
     ]
    },
    {
     "cell_type": "markdown",
     "metadata": {},
     "source": [
      "Sometimes we want to overlay them, sometimes we want two plots in the same figure,"
     ]
    },
    {
     "cell_type": "code",
     "collapsed": false,
     "input": [
      "fig3 = figure(figsize(10,3))\n",
      "ax3a = fig3.add_subplot(2,1,1)\n",
      "ax3b = fig3.add_subplot(2,1,2)\n",
      "#rows, columns, active plot\n",
      "ax3a.plot (x,y)\n",
      "hold(True)\n",
      "ax3a.plot (x , 4*y,'ro',alpha = 0.2)\n",
      "ax3a.axis('tight')\n",
      "#now activate a new plot area\n",
      "ax3b.scatter ( x, y**2-x**2 , 50 ,x)\n",
      "ax3b.axis('tight')"
     ],
     "language": "python",
     "metadata": {},
     "outputs": []
    },
    {
     "cell_type": "code",
     "collapsed": false,
     "input": [
      "#erasing old plots \n",
      "fig4 = figure()\n",
      "ax4a = fig4.add_subplot(1,2,1)\n",
      "ax4a.plot (x,y,'b')\n",
      "hold(True)\n",
      "ax4a.plot(x,y**2,'r') \n",
      "#by default, hold is on until you change the state. Once hold is set to false, every plot you make will replace the old one\n",
      "ax4b = fig4.add_subplot(1,2,2)\n",
      "ax4b.plot (x,y,'b')\n",
      "hold(False)\n",
      "ax4b.plot(x,y**2,'r')"
     ],
     "language": "python",
     "metadata": {},
     "outputs": []
    },
    {
     "cell_type": "code",
     "collapsed": false,
     "input": [
      "x = linspace(0,2*pi, 53)\n",
      "fig5 = figure(figsize(4,4))\n",
      "ax5a = fig5.add_subplot(211)\n",
      "ax5b = fig5.add_subplot(212)\n",
      "#Legend labels with plot command\n",
      "ax5a.plot(x, sin(x) ,label = 'sin(x)')\n",
      "hold(True)\n",
      "ax5a.plot(x, cos(x), label = 'cos(x)')\n",
      "ax5a.legend()\n",
      "#Or after using a list in legend()\n",
      "ax5b.plot(x,sin(x))\n",
      "ax5b.plot(x,cos(x))\n",
      "ax5b.legend(['sin(x)','cos(x)'])"
     ],
     "language": "python",
     "metadata": {},
     "outputs": []
    },
    {
     "cell_type": "code",
     "collapsed": false,
     "input": [
      "#Titles and Grid\n",
      "scatter(x,sin(10*x),60)\n",
      "xlabel('radians')\n",
      "#Keywords set text properties\n",
      "ylabel('amplitude', fontsize='large')\n",
      "title('sin(x)')\n",
      "#Grid\n",
      "grid()\n",
      "#print the current axis limits\n",
      "#Set the axis limits to v [xmin,xmax,ymin,ymax]\n",
      "v = [-1.5, 1.5 , -2 , 2 ]\n",
      "axis(v)"
     ],
     "language": "python",
     "metadata": {},
     "outputs": []
    },
    {
     "cell_type": "heading",
     "level": 3,
     "metadata": {},
     "source": [
      "Reading arrays from text files"
     ]
    },
    {
     "cell_type": "heading",
     "level": 4,
     "metadata": {},
     "source": [
      "Net Pay example"
     ]
    },
    {
     "cell_type": "code",
     "collapsed": false,
     "input": [],
     "language": "python",
     "metadata": {},
     "outputs": []
    },
    {
     "cell_type": "heading",
     "level": 2,
     "metadata": {},
     "source": [
      "Histograms and statistics"
     ]
    },
    {
     "cell_type": "code",
     "collapsed": false,
     "input": [
      "#plot histogram\n",
      "#defaults to 10 bins\n",
      "hist(randn(1000))\n",
      "#histogram2\n",
      "hist(randn(1000),30)\n",
      "#if this turns out to be slow, use SciPy stats module\n",
      "\n",
      "#vp0 = np.random.standard_normal((3000,100))\n",
      "vp0 = np.random.normal(3000,100,1000)\n",
      "figure()\n",
      "hist(vp0)"
     ],
     "language": "python",
     "metadata": {},
     "outputs": []
    },
    {
     "cell_type": "heading",
     "level": 3,
     "metadata": {},
     "source": [
      "Normal distribution"
     ]
    },
    {
     "cell_type": "code",
     "collapsed": false,
     "input": [
      "\n",
      "x = linspace(0.,100.,1001)\n",
      "#Normal distribution\n",
      "#\n",
      "sigma = 10     #std dev\n",
      "mu = 30      #mean\n",
      "f = (1/(sigma*(sqrt(2*pi))))*(exp(-((x-mu)*(x-mu))/(2*sigma*sigma)))\n",
      "figure()\n",
      "plot(x,f,lw=4)\n",
      "#now add the cum distrbution function\n",
      "g = cumsum(f)\n",
      "gnorm = g*max(f)/max(g)\n",
      "plot(x,gnorm,'grey',lw=4)\n",
      "grid()\n",
      "arange(10)"
     ],
     "language": "python",
     "metadata": {},
     "outputs": []
    },
    {
     "cell_type": "heading",
     "level": 3,
     "metadata": {},
     "source": [
      "Lognormal distribution"
     ]
    },
    {
     "cell_type": "code",
     "collapsed": false,
     "input": [
      "imshow("
     ],
     "language": "python",
     "metadata": {},
     "outputs": []
    },
    {
     "cell_type": "code",
     "collapsed": false,
     "input": [],
     "language": "python",
     "metadata": {},
     "outputs": []
    },
    {
     "cell_type": "heading",
     "level": 2,
     "metadata": {},
     "source": [
      "Image Display"
     ]
    },
    {
     "cell_type": "code",
     "collapsed": false,
     "input": [
      "from scipy.misc import lena\n",
      "img = lena()\n",
      "#display image with the jet colormap, and setting x and y extents of the plot\n",
      "imshow(img, extent=[0,50,-25,25], cmap = cm.summer,aspect=.6)\n",
      "colorbar()\n",
      "#try out different colormaps using the cm module"
     ],
     "language": "python",
     "metadata": {},
     "outputs": []
    },
    {
     "cell_type": "code",
     "collapsed": false,
     "input": [
      "imshow? # run this line if you want to learn more about imshow"
     ],
     "language": "python",
     "metadata": {},
     "outputs": []
    },
    {
     "cell_type": "code",
     "collapsed": false,
     "input": [
      " #Sometimes you want to set Vmin and Vmax\n",
      "imshow(img, extent=[0,50,-25,25], cmap = cm.bone, vmin=0,vmax=128)\n",
      "colorbar()"
     ],
     "language": "python",
     "metadata": {},
     "outputs": []
    },
    {
     "cell_type": "heading",
     "level": 2,
     "metadata": {},
     "source": [
      "Filters"
     ]
    },
    {
     "cell_type": "markdown",
     "metadata": {},
     "source": [
      "1-D Convolution, Correlation, 2-D convolution, Smoothing, Blurring."
     ]
    },
    {
     "cell_type": "markdown",
     "metadata": {},
     "source": [
      "Convolution is an important operator in signal and image processing. Convolution operates on two signals (in 1-D) or two images (in 2-D). You can think of one as the \"input\" signal (or image) and the other as the \"filter\" (called a kernel) on the input image, producing an output signal. \n",
      "\n",
      "Let's call our input vector f and our kernel g, and say that f has length n, and g has length m. The convolution f * g of f and g is defined as:"
     ]
    },
    {
     "cell_type": "code",
     "collapsed": false,
     "input": [
      "#Here I am trying to mess around with equations in iPython...\n",
      "%%latex\n",
      "\\begin{eqnarray}\n",
      "(f*g)(i) = \\sum_{j=1}^{m}g\\left ( j \\right )f\\left ( i-j+m/2 \\right )\\\n",
      "\\end{eqnarray}"
     ],
     "language": "python",
     "metadata": {},
     "outputs": []
    },
    {
     "cell_type": "code",
     "collapsed": false,
     "input": [
      "#Example: 1D convolution\n",
      "#Do it the manual way\n",
      "\n",
      "f = [10.,50.,60.,10.,20.,40.,30.]\n",
      "print f\n",
      "g = [1/3., 1/3., 1/3.]\n",
      "print g\n",
      "\n",
      "#Do it using scipy.convolve\n",
      "\n",
      "from scipy import convolve\n",
      "print convolve(f,g)"
     ],
     "language": "python",
     "metadata": {},
     "outputs": []
    },
    {
     "cell_type": "code",
     "collapsed": false,
     "input": [
      "#Example 2D\n",
      "from scipy.misc import lena\n",
      "from scipy.signal import convolve2d\n",
      "g1 =array(([0., 0., 0.],[0.,1., 0.],[0., 0., 0.]))\n",
      "\n",
      "f = lena()\n",
      "g2 = float(1./9.)*array(([1.,1.,1.],[1.,1.,1.],[1.,1.,1.]))\n",
      "\n",
      "#Sobel Kernels in x and y\n",
      "g3 = float(1./9.)*array(([-1., 0., 1.],[-2.,0., 2.],[-1., 0., 1.]))\n",
      "g4 = float(1./9.)*array(([-1., -2., -1.],[0., 0., 0.,],[ 1., 2., 1.]))\n",
      "fig6 = figure(figsize=(15,10))\n",
      "subplot(231)\n",
      "imshow(f,cmap=cm.bone)\n",
      "subplot(232)\n",
      "imshow(convolve2d(f,g2),cmap=cm.bone)\n",
      "tight_layout()\n",
      "subplot(233)\n",
      "imshow(convolve2d(f,g3), cmap=cm.bone)\n",
      "subplot(234)\n",
      "imshow(convolve2d(f,g4), cmap=cm.bone)\n",
      "#Single Edge detector: the Laplacian\n",
      "g5 = float(1./9.)*array(([0.,-1.,0.],[-1.,4.,-1.],[0.,-1.,0.]))\n",
      "subplot(235)\n",
      "imshow(convolve2d(f,g5), cmap=cm.bone)\n",
      "subplot(236)\n",
      "imshow(convolve2d(convolve2d(convolve2d(f,g2),g2),g5), cmap=cm.bone)\n",
      "tight_layout()"
     ],
     "language": "python",
     "metadata": {},
     "outputs": []
    },
    {
     "cell_type": "heading",
     "level": 2,
     "metadata": {},
     "source": [
      "Reading seismic data (SEGY) files"
     ]
    },
    {
     "cell_type": "markdown",
     "metadata": {},
     "source": [
      "Drag and drop a SEGY file from disk to the workspace, and to the command prompt"
     ]
    },
    {
     "cell_type": "code",
     "collapsed": false,
     "input": [
      "from __future__ import print_function\n",
      "import sys\n",
      "\n",
      "#import numpy\n",
      "#import matplotlib.pyplot as plt\n",
      "from geophysics.model.seg_y.seg_y import SegY\n",
      "from geophysics.util.types import SYSTEM_ENDIANNESS"
     ],
     "language": "python",
     "metadata": {},
     "outputs": []
    },
    {
     "cell_type": "markdown",
     "metadata": {},
     "source": [
      "Read a file from a location on disk"
     ]
    },
    {
     "cell_type": "code",
     "collapsed": false,
     "input": [
      "SEGY_PATH = u'/Users/Evan/Dropbox/Agile/Misc_Seismic_data/F3.sgy'\n",
      "segy = SegY.from_filename(SEGY_PATH)\n",
      "\n",
      "#get the inline numbers from the trace headers\n",
      "inlines = segy.trace_headers.inline\n",
      "#get the crossline numbers from the trace headers\n",
      "crosslines = segy.trace_headers.crossline\n",
      "#pick an inline for this example\n",
      "pick = 500\n",
      "indices = numpy.where(inlines==pick)[0]\n",
      "\n",
      "inline_section = segy.raw_traces[indices,:]\n",
      "format = segy.binary_header.format\n",
      "\n",
      "if format == 1:\n",
      "    # IBM floating point\n",
      "    from geolib_io.fastio import ibm2ieee\n",
      "    raw_traces = ibm2ieee(inline_section)\n",
      "traces = raw_traces.astype(SYSTEM_ENDIANNESS + 'f4')"
     ],
     "language": "python",
     "metadata": {},
     "outputs": []
    },
    {
     "cell_type": "markdown",
     "metadata": {},
     "source": [
      "plot the traces as an image"
     ]
    },
    {
     "cell_type": "code",
     "collapsed": false,
     "input": [
      "plt.imshow(traces )\n",
      "plt.show()"
     ],
     "language": "python",
     "metadata": {},
     "outputs": []
    },
    {
     "cell_type": "heading",
     "level": 4,
     "metadata": {},
     "source": [
      "Q: What is wrong with this cross-section?"
     ]
    },
    {
     "cell_type": "markdown",
     "metadata": {},
     "source": [
      "A: The distance and time axis are flipped"
     ]
    },
    {
     "cell_type": "code",
     "collapsed": false,
     "input": [
      "traces = numpy.transpose(traces)\n",
      "traces.shape"
     ],
     "language": "python",
     "metadata": {},
     "outputs": []
    },
    {
     "cell_type": "code",
     "collapsed": false,
     "input": [
      "#try the plot again, but let's change the color this time\n",
      "fig4 = figure(figsize=(10,4))\n",
      "imshow(traces[:,:], cmap=cm.gray)\n",
      "#we can make a very similar looking plot by plotting every third trace,\n",
      "fig5 = figure(figsize=(10,4))\n",
      "resamp_traces = traces[75:225:1,::3]\n",
      "imshow(resamp_traces, cmap=cm.gray)\n",
      "#colorbar()\n",
      "\n",
      "#Do the plot again, but this time chance the \n",
      "fig6 = figure(figsize=(10,4))\n",
      "imshow(resamp_traces, cmap=cm.gray, vmin=-5000,vmax=5000)\n",
      "#colorbar()"
     ],
     "language": "python",
     "metadata": {},
     "outputs": []
    },
    {
     "cell_type": "heading",
     "level": 3,
     "metadata": {},
     "source": [
      "Indexing multidimensional arrays"
     ]
    },
    {
     "cell_type": "markdown",
     "metadata": {},
     "source": [
      "Now get a single trace from the middle of the cross-section in traces and plot it"
     ]
    },
    {
     "cell_type": "code",
     "collapsed": false,
     "input": [
      "middle = int(numpy.mean(crosslines))\n",
      "trace = traces[:,middle]\n",
      "#make the trace an array\n",
      "trace = array(trace)\n",
      "#print trace.shape\n",
      "#make a plot of trace\n",
      "fig7 = figure(figsize=[15,1])\n",
      "plt.plot(trace)"
     ],
     "language": "python",
     "metadata": {},
     "outputs": []
    },
    {
     "cell_type": "markdown",
     "metadata": {},
     "source": [
      "Get a time slice"
     ]
    },
    {
     "cell_type": "code",
     "collapsed": false,
     "input": [
      "from geophysics.model.seg_y.seg_y import SegY\n",
      "import numpy as np\n",
      "\n",
      "#time to extract\n",
      "time = 1600                          #to extract in ms\n",
      "dt = segy.get_sample_interval()      #Get sample interval in seconds\n",
      "#get index number to extract\n",
      "idz = int(ceil(time/(1000*dt)))\n",
      "\n",
      "SEGY_PATH = u'/Users/Evan/Dropbox/Agile/Misc_Seismic_data/F3.sgy'\n",
      "segy = SegY.from_filename(SEGY_PATH)\n",
      "data = segy.raw_traces.astype(SYSTEM_ENDIANNESS + 'f4')\n",
      "\n",
      "#This could be a function called \"get_time_section\"\n",
      "\n",
      "inline = segy.trace_headers.inline\n",
      "crossline = segy.trace_headers.crossline\n",
      "unique_inline = numpy.unique(inline)\n",
      "unique_inline.sort()\n",
      "unique_crossline = numpy.unique(crossline)\n",
      "unique_crossline.sort()\n",
      "\n",
      "time_section = segy.raw_traces[:,idz]\n",
      "format = segy.binary_header.format\n",
      "\n",
      "if format == 1:\n",
      "    # IBM floating point\n",
      "    from geolib_io.fastio import ibm2ieee\n",
      "    raw_traces = ibm2ieee(time_section)\n",
      "\n",
      "traces = raw_traces.astype(SYSTEM_ENDIANNESS + 'f4')\n",
      "\n",
      "traces_grid = numpy.zeros((len(unique_inline), len(unique_crossline), traces.shape[-1]))\n",
      "\n",
      "i = numpy.searchsorted(unique_inline, inline)\n",
      "j = numpy.searchsorted(unique_crossline, crossline)\n",
      "traces_grid[i,j,:] = traces\n",
      "# End of function\n",
      "figure(figsize=(12,12))\n",
      "imshow(traces_grid)"
     ],
     "language": "python",
     "metadata": {},
     "outputs": []
    },
    {
     "cell_type": "heading",
     "level": 3,
     "metadata": {},
     "source": [
      "Seismic attributes"
     ]
    },
    {
     "cell_type": "markdown",
     "metadata": {},
     "source": [
      "* RMS Energy (window)"
     ]
    },
    {
     "cell_type": "code",
     "collapsed": false,
     "input": [
      "w = 100 #Window length in milliseconds\n",
      "dt = segy.trace_headers.dt[0]/1000 #sample rate in milliseconds\n",
      "import numpy\n",
      "\n",
      "def compute_energy(traces, w):\n",
      "    \"\"\" Compute an instantaneous RMS energy for each point of a seismic cube.\n",
      "    \"\"\"\n",
      "\n",
      "\n",
      "from matplotlib import pyplot\n",
      "fig1 = figure(figsize=(16,8))\n",
      "ax = fig1.add_subplot(111)\n",
      "ax.imshow( transpose(traces), cmap=cm.gray)\n"
     ],
     "language": "python",
     "metadata": {},
     "outputs": []
    },
    {
     "cell_type": "markdown",
     "metadata": {},
     "source": [
      "* Compute Similarity attributes"
     ]
    },
    {
     "cell_type": "heading",
     "level": 3,
     "metadata": {},
     "source": [
      "Fourier transform (fft)"
     ]
    },
    {
     "cell_type": "code",
     "collapsed": false,
     "input": [
      "#Compute fft of trace\n",
      "from scipy import fft\n",
      "TRACE = abs(fft(trace))\n",
      "fig8 = figure(figsize=(16,4)) \n",
      "#do a plot\n",
      "ax1 = fig8.add_subplot(1,2,1)\n",
      "line, = ax1.plot (TRACE , color = 'red', lw=2)\n",
      "ax1.set_yscale('linear')\n",
      "#do a plot with log y-scale\n",
      "ax2 = fig8.add_subplot(1,2,2)\n",
      "line, = ax2.plot (TRACE , color = 'red', lw=2, )\n",
      "ax2.set_yscale('log')\n",
      "ax2.grid()\n"
     ],
     "language": "python",
     "metadata": {},
     "outputs": []
    },
    {
     "cell_type": "heading",
     "level": 3,
     "metadata": {},
     "source": [
      "Inverse Fourier Transform (ifft)"
     ]
    },
    {
     "cell_type": "code",
     "collapsed": false,
     "input": [
      "#Do a section here on Nyquist, Setting the time axis \n",
      "\n",
      "# Do some spectral filtering and then do inverse.\n",
      "\n",
      "#Do an example using a for loop where you can pass in any number of traces, plot all of them as dotted lines, and then plot the average as a thick black line\n",
      "\n",
      "#Do an example where construct a seismic wavelet from the coefficients of the spectrum.\n",
      "from scipy import ifft\n",
      "wv_trace = ifft(fft(trace))\n",
      "fig9 = figure(figsize(15,2))\n",
      "plot(wv_trace[1:-1],'k', trace+1000,'r:',lw=2, alpha=0.5)\n",
      "grid()\n",
      "axis('tight')\n"
     ],
     "language": "python",
     "metadata": {},
     "outputs": []
    },
    {
     "cell_type": "heading",
     "level": 3,
     "metadata": {},
     "source": [
      "Bandpass filtering"
     ]
    },
    {
     "cell_type": "code",
     "collapsed": false,
     "input": [
      "\"\"\"\n",
      "function  [o] =  bp_filter(d,dt,f1,f2,f3,f4);\n",
      "BP_Filter: Apply a band-pass filter to a group of traces.\n",
      "\n",
      "  [o] = bp_filter(d,dt,f1,f2,f3,f4);\n",
      "\n",
      "  IN   d:    data (columns are traces)\n",
      "       dt:   sampling interval in sec\n",
      "       f1:   freq. in Hz\n",
      "       f2:   freq. in Hz\n",
      "       f3:   freq. in Hz\n",
      "       f4:   freq. in Hz\n",
      " \n",
      "   ^\n",
      "   |     ___________\n",
      "   |    /           \\   Amplitude spectrum\n",
      "   |   /             \\\n",
      "   |  /               \\\n",
      "   |------------------------>\n",
      "      f1 f2        f3 f4\n",
      "\n",
      "  OUT  o:    output  (columns are traces)\n",
      "\n",
      "  Example: \n",
      "    d=linear_events; \n",
      "    dout = bp_filter(d,0.004,1,3,30,40); \n",
      "    wigb([d,dout]);\n",
      "\"\"\"\n",
      "\n",
      " [nt,nx] = size(d);\n",
      " k = nextpow2(nt);\n",
      " nf = 4*(2^k);\n",
      "\n",
      " i1 = floor(nf*f1*dt)+1;\n",
      " i2 = floor(nf*f2*dt)+1;\n",
      " i3 = floor(nf*f3*dt)+1;\n",
      " i4 = floor(nf*f4*dt)+1;\n",
      "\n",
      " up =  (1:1:(i2-i1))/(i2-i1);\n",
      " down = (i4-i3:-1:1)/(i4-i3);\n",
      " aux = [zeros(1,i1), up, ones(1,i3-i2), down, zeros(1,nf/2+1-i4) ];\n",
      " aux2 = fliplr(aux(1,2:nf/2));\n",
      "\n",
      " c = 0; % zero phase (could apply rotations as well)\n",
      " F = ([aux,aux2]');\n",
      " Phase = (pi/180.)*[0.,-c*ones(1,nf/2-1),0.,c*ones(1,nf/2-1)];\n",
      " Transfer = F.*exp(-i*Phase');\n",
      "\n",
      "\n",
      " D = fft(d,nf,1);\n",
      "\n",
      " for k = 1:nx\n",
      "  Do(:,k) = Transfer.*D(:,k);\n",
      " end\n",
      "\n",
      " o = ifft(Do,nf,1);\n",
      "\n",
      " o = real(o(1:nt,:));\n",
      "\"\"\"\n"
     ],
     "language": "python",
     "metadata": {},
     "outputs": []
    },
    {
     "cell_type": "heading",
     "level": 3,
     "metadata": {},
     "source": [
      "F-K transform and F-K Filtering (fft2 and ifft2)"
     ]
    },
    {
     "cell_type": "code",
     "collapsed": false,
     "input": [
      "from geophysics.model.seg_y.seg_y import SegY\n",
      "import numpy as np\n",
      "\n",
      "datafile = \"dmult.segy\"\n",
      "segy = SegY.from_filename(datafile)\n",
      "data = segy.traces\n",
      "data = np.transpose(data)\n",
      "nt, nx = data.shape\n",
      "\n",
      "figure(figsize=(25,6))\n",
      "subplot(151)\n",
      "imshow(data,vmin=-.3, vmax=.3,cmap=cm.seismic)\n",
      "colorbar()\n",
      "title('data')\n",
      "\n",
      "subplot(152)\n",
      "from numpy.fft import fft, fftfreq\n",
      "TRACE = fft( data [:,10] )\n",
      "timestep = 0.001\n",
      "freqs = fftfreq ( nt , d = timestep)\n",
      "nfreqs = freqs.shape[0]\n",
      "plot(freqs[:int(nfreqs/2)/3] ,abs(TRACE[:int(nfreqs/2)/3]))\n",
      "title('power spectrum at trace 80')\n",
      "\n",
      "subplot(153)\n",
      "from numpy.fft import fft2\n",
      "DATA = fft2(data)\n",
      "timestep = 0.001\n",
      "offstep = 50 \n",
      "freqs = fftfreq( nt, d = timestep)\n",
      "nfreqs = freqs.shape[0]\n",
      "wavenumbers = fftfreq( nx, d = offstep)\n",
      "nwaves = wavenumbers.shape[0]\n",
      "#imshow( (abs(DATA[:int(DATA.shape[0]/2),:int(DATA.shape[1]/2) ])), vmin = 0, vmax=10 )\n",
      "imshow(abs(DATA), vmin=0, vmax=10)\n",
      "axis('tight')\n",
      "colorbar()\n",
      "title('F-K spectrum')\n",
      "\n",
      "#\n",
      "from numpy.fft import ifft2\n",
      "DATA[3:45,2:-2] = 0\n",
      "DATA[-45:-3,2:-2] = 0\n",
      "Data_filt1 = ifft2(DATA)\n",
      "\n",
      "subplot(154)\n",
      "imshow(abs(Data_filt1), vmin=-.3, vmax=.3, cmap=cm.seismic)\n",
      "colorbar()\n",
      "title('F-K filtered response')\n",
      "\n",
      "DATA = fft2(data)\n",
      "DATA[3:45,0:1]=0\n",
      "DATA[-45:-4,0:1] =0\n",
      "DATA[3:45,-1:]=0\n",
      "DATA[-45:-3,-1:] =0\n",
      "Data_filt2 = ifft2(DATA)\n",
      "\n",
      "subplot(155)\n",
      "imshow(abs(Data_filt2), vmin=-.3, vmax=0.3, cmap=cm.seismic)\n",
      "colorbar()\n",
      "title('F-K filtered response')"
     ],
     "language": "python",
     "metadata": {},
     "outputs": []
    },
    {
     "cell_type": "heading",
     "level": 3,
     "metadata": {},
     "source": [
      "Radon transform and multiple attenuation"
     ]
    },
    {
     "cell_type": "markdown",
     "metadata": {},
     "source": [
      "doesn't exist yet."
     ]
    },
    {
     "cell_type": "heading",
     "level": 3,
     "metadata": {},
     "source": [
      "Excerise: Make a (complex) ricker wavelet"
     ]
    },
    {
     "cell_type": "markdown",
     "metadata": {},
     "source": [
      "The Ricker wavelet (also known as the Mexican Hat wavelet) is used regularly in geophysics because it can be defined analytically, and has some simple characteristics\n",
      "\n",
      "Need to add:\n",
      "\n",
      "1. Equation for Ricker wavelet\n",
      "1. Start with basics - much earlier on: compute and plot, then turn into function\n",
      "1. Then build with arrays\n",
      "1. Then compare with scipy.signal.ricker function"
     ]
    },
    {
     "cell_type": "code",
     "collapsed": false,
     "input": [
      "#build a Ricker wavelet that with a that\n",
      "import numpy\n",
      "from scipy import fft\n",
      "from numpy import zeros, pi,ones\n",
      "f = 20 #frequency in Hz\n",
      "nsamps = 512  #number of samples in the wavelet\n",
      "dt = 0.001     #sample rate in seconds\n",
      "w = nsamps*dt  #window length in seconds\n",
      "\n",
      "#time-base for ricker\n",
      "t = linspace(-1*floor(nsamps/2)*dt,floor(nsamps/2)*dt,nsamps)\n",
      "#definition of ricker wavelet\n",
      "ricker = (1.-2.*pi*pi*f*f*t*t)*exp(-pi*pi*f*f*t*t)\n",
      "#return ricker, t\n",
      "\n",
      "####\n",
      "#figure\n",
      "###\n",
      "from agilegeo.wavelet import rotate_phase\n",
      "new_ricker = rotate_phase(ricker,-pi/3)\n",
      "figure(figsize=[15,2.5])\n",
      "subplot(131)\n",
      "plot(t[192:-192],ricker[192:-192],'bo-',lw=3,alpha=0.5)\n",
      "hold(True)\n",
      "plot(t[192:-192],new_ricker[192:-192],'mo-',lw=3,alpha=0.5)\n",
      "grid()\n",
      "xlabel('two-way-time [s]', fontsize=16)\n",
      "ylabel('amplitude', fontsize=16)\n",
      "axis('tight')\n",
      "#set_ylim([-1,1])\n",
      "\n",
      "\n",
      "#note, I don't think I totally have the frequency x-axis figured out correctly.\n",
      "spectrum = abs(fft(ricker))\n",
      "spectrum_nyq = spectrum[:nsamps/2]\n",
      "freqs = linspace(1,nsamps,nsamps/2)\n",
      "subplot(132)\n",
      "plot(freqs[:nsamps/16],spectrum_nyq[:nsamps/16],'mo:',lw=3,alpha=0.5)\n",
      "hold(True)\n",
      "plot(freqs[:nsamps/16],spectrum_nyq[:nsamps/16],'bo:',lw=3,alpha=0.5)\n",
      "grid()\n",
      "xlabel('frequency [Hz]', fontsize=16)\n",
      "ylabel('amplitude', fontsize=16)\n",
      "axis('tight')\n",
      "\n",
      "subplot(133)\n",
      "plot( freqs[:nsamps/16],(pi/3)*ones( shape(spectrum_nyq[:nsamps/16])[0] ),'mo-',lw=3,alpha=0.5)\n",
      "hold(True)\n",
      "plot( freqs[:nsamps/16], zeros(shape(freqs[:nsamps/16])[0]),'bo-',lw=3,alpha=0.5 ) \n",
      "ylim(-3.14,3.14)\n",
      "grid()\n",
      "xlabel('frequency [Hz]', fontsize=16)\n",
      "ylabel('phase', fontsize=16)\n",
      "#savefig('phase_rot_ricker.png', bbox_inches = 'tight')\n",
      "\n",
      "# To do. Many rock interfaces don't have a linear phase response.\n",
      "# Key Point: many people have a hard time understanding a complex frequency spectrum\n",
      "# Do a traits-like responsive \"graphic equalizer\"\n",
      "# do an Taner-like isometric plot."
     ],
     "language": "python",
     "metadata": {},
     "outputs": []
    },
    {
     "cell_type": "heading",
     "level": 3,
     "metadata": {},
     "source": [
      "Exercise: 2D Wedge Model"
     ]
    },
    {
     "cell_type": "markdown",
     "metadata": {},
     "source": [
      "Make a wedge with 3 layers, Z1, Z2, Z3 (Z is acoustic impedance)\n",
      "\n",
      "Wedge can be in the time domain\n",
      "\n",
      "\n"
     ]
    },
    {
     "cell_type": "code",
     "collapsed": false,
     "input": [
      "Z = [5, 6, 5.5]\n",
      "tmax = 0.200\n",
      "theta = 20\n",
      "ntraces = 500\n",
      "trace_no = linspace(0,ntraces-1,ntraces)\n",
      "thick1 = 200\n",
      "thick2 = 500\n",
      "thick3 = 200\n",
      "\n",
      "wedge = ones([thick1+thick2+thick3,ntraces])\n",
      "\n",
      "\n",
      "for i in trace_no:\n",
      "    upper= repeat(Z[0],200)\n",
      "    middle= repeat(Z[1],i)     \n",
      "    lower= repeat(Z[2],700-i)\n",
      "    wedge[:,i]=concatenate((upper, middle, lower))\n",
      "\n",
      "fig12 = figure(figsize=(2,3.5), dpi=80)    \n",
      "ax12 = fig12.add_axes([0.05,0.05,0.95,0.95])\n",
      "ax12.imshow(wedge,cmap=cm.copper)\n",
      "\n",
      "#advanced trick - change the angle.\n"
     ],
     "language": "python",
     "metadata": {},
     "outputs": []
    },
    {
     "cell_type": "code",
     "collapsed": false,
     "input": [
      "#Create wedge synthetic\n",
      "synth = ones([thick1+thick2+thick3+nsamps-1,ntraces])\n",
      "for i in trace_no:\n",
      "    synth[:,i] = convolve(-1*gradient(wedge[:,i]),ricker)\n",
      "    \n",
      "figwedge = figure(figsize=(12,6))\n",
      "axwedge = figwedge.add_subplot(111)\n",
      "axwedge = imshow(synth[300:-300,:],cmap=cm.seismic, vmin = -2.5, vmax = 2.5)\n",
      "#colorbar_ax = figwedge.add_axes([0.7,0.1,0.05,0.8])\n",
      "figwedge.colorbar(axwedge)"
     ],
     "language": "python",
     "metadata": {},
     "outputs": []
    },
    {
     "cell_type": "code",
     "collapsed": false,
     "input": [
      "import matplotlib.pyplot as plt\n",
      "\n",
      "from mpl_toolkits.axes_grid1.inset_locator import zoomed_inset_axes\n",
      "from mpl_toolkits.axes_grid1.inset_locator import mark_inset\n",
      "\n",
      "def get_demo_image():\n",
      "    from matplotlib.cbook import get_sample_data\n",
      "    import numpy as np\n",
      "    f = get_sample_data(\"axes_grid/bivariate_normal.npy\", asfileobj=False)\n",
      "    z = np.load(f)\n",
      "    # z is a numpy array of 15x15\n",
      "    return z, (-3,4,-4,3)\n",
      "\n",
      "fig, ax = plt.subplots(figsize=[10,8])\n",
      "\n",
      "# prepare the demo image\n",
      "Z, extent = get_demo_image()\n",
      "Z2 = np.zeros([150, 150], dtype=\"d\")\n",
      "ny, nx = Z.shape\n",
      "Z2[30:30+ny, 30:30+nx] = Z\n",
      "\n",
      "# extent = [-3, 4, -4, 3]\n",
      "ax.imshow(synth, extent=extent, interpolation=\"nearest\",\n",
      "          origin=\"upper\", cmap=cm.seismic, vmin = -2.5, vmax = 2.5)\n",
      "\n",
      "axins = zoomed_inset_axes(ax, 3, loc=4) # zoom = 4\n",
      "axins.imshow(synth, extent=extent, interpolation=\"nearest\",\n",
      "             origin=\"upper\", cmap=cm.seismic, vmin = -2.5, vmax = 2.5  )\n",
      "\n",
      "# sub region of the original image\n",
      "x1, x2, y1, y2 = -3, -2, 0.4, 1.0\n",
      "axins.set_xlim(x1, x2)\n",
      "axins.set_ylim(y1, y2)\n",
      "\n",
      "plt.xticks(visible=False)\n",
      "plt.yticks(visible=False)\n",
      "\n",
      "# draw a bbox of the region of the inset axes in the parent axes and\n",
      "# connecting lines between the bbox and the inset axes area\n",
      "mark_inset(ax, axins, loc1=3, loc2=1, fc=\"none\", ec=\"0.5\")\n",
      "\n",
      "plt.draw()\n",
      "plt.show()"
     ],
     "language": "python",
     "metadata": {},
     "outputs": []
    },
    {
     "cell_type": "markdown",
     "metadata": {},
     "source": [
      "Now plot the mimimum amplitude across all the traces:"
     ]
    },
    {
     "cell_type": "code",
     "collapsed": false,
     "input": [
      "event = zeros(ntraces)\n",
      "eventtime = zeros(ntraces)\n",
      "\n",
      "for i in trace_no:\n",
      "    event[i]= min(synth[200:-200,i])\n",
      "    event = array(event)\n",
      "\n",
      "eventtime = argmin(synth,0)\n",
      "    \n",
      "figure()\n",
      "plot(trace_no, event)\n",
      "figure()\n",
      "\n",
      "figure()\n",
      "plot(trace_no,eventtime)\n",
      "ylim( (460, 450) )\n",
      "xlim( (1, 100) )"
     ],
     "language": "python",
     "metadata": {},
     "outputs": []
    },
    {
     "cell_type": "heading",
     "level": 3,
     "metadata": {},
     "source": [
      "    Plotting and analysis for Petrophysics"
     ]
    },
    {
     "cell_type": "code",
     "collapsed": false,
     "input": [
      "- Parse a text file\n",
      "- Display as a log with annotation\n",
      "- Display as a crossplot with annotation / mask\n",
      "- Do a regression\n",
      "- Display back on log the mask\n",
      "- Smooth the curve, or change the scale\n",
      "- Basic LMR Vp/Vs vs. AI templates with templates overlain"
     ],
     "language": "python",
     "metadata": {},
     "outputs": []
    },
    {
     "cell_type": "heading",
     "level": 3,
     "metadata": {},
     "source": [
      "Exercise: plot a Gamma-Ray log from a LAS file"
     ]
    },
    {
     "cell_type": "code",
     "collapsed": false,
     "input": [
      "import numpy\n",
      "from las import LASReader\n",
      "B90 = LASReader('B-90.las', null_subs=np.nan)\n",
      "first_z = amin(B90.data['DEPTH'])\n",
      "last_z = amax(B90.data['DEPTH'])\n",
      "\n",
      "#figure(figsize = (40,3))\n",
      "#plot(B90.data['DEPTH'],B90.data['GR'],'k')\n",
      "#fill_between(1*B90.data['DEPTH'], 50, B90.data['GR'], B90.data['GR']<50 , color= 'yellow', alpha=1)\n",
      "#fill_between(1*B90.data['DEPTH'], 50, B90.data['GR'], B90.data['GR']>50 , color= 'green', alpha=1)\n",
      "#grid()\n",
      "\n",
      "figure(figsize = (30,3))\n",
      "imshow(transpose( reshape ( repeat( B90.data['GR'],200 ), ( shape(B90.data['GR'])[0] , 200 ) ) ),origin='lower',cmap=cm.summer_r, extent=[ first_z, last_z, 0,150 ])\n",
      "axis('tight')\n",
      "plot(B90.data['DEPTH'], B90.data['GR'],'k')\n",
      "\n",
      "#fill above the curve to make a white mask,\n",
      "fill_between(B90.data['DEPTH'], B90.data['GR'], 200, color= 'white', alpha=1)\n",
      "title('GR log with GR color fill')\n",
      "xlabel('measured depth [m]', fontsize = '12')\n",
      "ylabel('GR [API]', fontsize = '12')\n",
      "colorbar()\n",
      "grid()"
     ],
     "language": "python",
     "metadata": {},
     "outputs": [
      {
       "ename": "ImportError",
       "evalue": "No module named las",
       "output_type": "pyerr",
       "traceback": [
        "\u001b[0;31m---------------------------------------------------------------------------\u001b[0m\n\u001b[0;31mImportError\u001b[0m                               Traceback (most recent call last)",
        "\u001b[0;32m<ipython-input-4-db1e5b59a59b>\u001b[0m in \u001b[0;36m<module>\u001b[0;34m()\u001b[0m\n\u001b[1;32m      1\u001b[0m \u001b[0;32mimport\u001b[0m \u001b[0mnumpy\u001b[0m\u001b[0;34m\u001b[0m\u001b[0m\n\u001b[0;32m----> 2\u001b[0;31m \u001b[0;32mfrom\u001b[0m \u001b[0mlas\u001b[0m \u001b[0;32mimport\u001b[0m \u001b[0mLASReader\u001b[0m\u001b[0;34m\u001b[0m\u001b[0m\n\u001b[0m\u001b[1;32m      3\u001b[0m \u001b[0mB90\u001b[0m \u001b[0;34m=\u001b[0m \u001b[0mLASReader\u001b[0m\u001b[0;34m(\u001b[0m\u001b[0;34m'LASOut_12_27_SEIS.las'\u001b[0m\u001b[0;34m,\u001b[0m \u001b[0mnull_subs\u001b[0m\u001b[0;34m=\u001b[0m\u001b[0mnp\u001b[0m\u001b[0;34m.\u001b[0m\u001b[0mnan\u001b[0m\u001b[0;34m)\u001b[0m\u001b[0;34m\u001b[0m\u001b[0m\n\u001b[1;32m      4\u001b[0m \u001b[0mfirst_z\u001b[0m \u001b[0;34m=\u001b[0m \u001b[0mamin\u001b[0m\u001b[0;34m(\u001b[0m\u001b[0mB90\u001b[0m\u001b[0;34m.\u001b[0m\u001b[0mdata\u001b[0m\u001b[0;34m[\u001b[0m\u001b[0;34m'DEPTH'\u001b[0m\u001b[0;34m]\u001b[0m\u001b[0;34m)\u001b[0m\u001b[0;34m\u001b[0m\u001b[0m\n\u001b[1;32m      5\u001b[0m \u001b[0mlast_z\u001b[0m \u001b[0;34m=\u001b[0m \u001b[0mamax\u001b[0m\u001b[0;34m(\u001b[0m\u001b[0mB90\u001b[0m\u001b[0;34m.\u001b[0m\u001b[0mdata\u001b[0m\u001b[0;34m[\u001b[0m\u001b[0;34m'DEPTH'\u001b[0m\u001b[0;34m]\u001b[0m\u001b[0;34m)\u001b[0m\u001b[0;34m\u001b[0m\u001b[0m\n",
        "\u001b[0;31mImportError\u001b[0m: No module named las"
       ]
      }
     ],
     "prompt_number": 4
    },
    {
     "cell_type": "code",
     "collapsed": false,
     "input": [
      "Exercise: Plot a Gamma-Ray log and do arbitray parametery color fill"
     ],
     "language": "python",
     "metadata": {},
     "outputs": []
    },
    {
     "cell_type": "code",
     "collapsed": false,
     "input": [
      "##Fill the color value with impedance instead!\n",
      "figure(figsize = (30,3))\n",
      "DT_img = transpose( reshape ( repeat( B90.data['DT'],200 ), ( shape(B90.data['DT'])[0] , 200 ) ) )\n",
      "RHOB_img = transpose( reshape ( repeat( B90.data['RHOB'],200 ), ( shape(B90.data['RHOB'])[0] , 200 ) ) )\n",
      "imshow((1./DT_img)*RHOB_img,origin='lower',vmin = 5, vmax = 15,cmap=cm.jet , extent=[ first_z, last_z, 0,200 ])\n",
      "axis('tight')\n",
      "\n",
      "colorbar()\n",
      "plot(B90.data['DEPTH'], B90.data['GR'],'k')\n",
      "#fill above the curve to make a white mask,\n",
      "fill_between(B90.data['DEPTH'], B90.data['GR'], 200, color= 'white', alpha=1)\n",
      "title('GR log with Acoustic Impedance color fill')\n",
      "xlabel('measured depth [m]', fontsize = '12' )\n",
      "ylabel('GR [API]', fontsize = '12')\n",
      "grid()\n",
      "axis('tight')"
     ],
     "language": "python",
     "metadata": {},
     "outputs": []
    },
    {
     "cell_type": "heading",
     "level": 3,
     "metadata": {},
     "source": [
      "Make a synthetic seismogram"
     ]
    },
    {
     "cell_type": "code",
     "collapsed": false,
     "input": [
      "#import ricker\n",
      "\n",
      "#make reflectivity\n",
      "\n",
      "figure(figsize=(40,3))\n",
      "Ac_Imp=(1000000/B90.data['DT'])*(B90.data['RHOB'])\n",
      "plot(convolve(ricker,gradient(Ac_Imp)),'k',alpha=0.5)\n",
      "axis('tight')\n",
      "grid()"
     ],
     "language": "python",
     "metadata": {},
     "outputs": []
    },
    {
     "cell_type": "heading",
     "level": 3,
     "metadata": {},
     "source": [
      "Exercise: crossplotting and rock physics templates"
     ]
    },
    {
     "cell_type": "code",
     "collapsed": false,
     "input": [
      "sonic = B90.data['VP']\n",
      "den = B90.data['RHOZ']\n",
      "gr = B90.data['GR']\n",
      "depth = B90.data['DEPTH']\n",
      "#\n",
      "fig100 = figure(figsize=(16,5), facecolor = 'white') # create a figure object, and set it's size\n",
      "\n",
      "ax1 = fig100.add_subplot(1, 2, 1)\n",
      "ax1.set_title(\"11-20 sonic vs. density colored by gamma-ray\", fontsize=14)\n",
      "ax1.set_xlabel(\"sonic [ft/s] \", fontsize = 14)\n",
      "ax1.set_ylabel(\"density [kg/m3] \", fontsize = 14)\n",
      "ax1.grid(True, linestyle='-', color='0.75')\n",
      "#ax1.set_xlim([0,600])\n",
      "#ax1.set_ylim([1800,2800])\n",
      "crossplot1 = ax1.scatter(sonic/0.3048, den, c=depth, cmap=cm.jet_r, s =20, alpha =1, edgecolors='grey', linewidths='0.5')\n",
      "cbar1 = fig100.colorbar(crossplot1, ax=ax1,shrink=0.5) \n",
      "cbar1.set_label('DEPTH [ft]')\n",
      "\n",
      "#\n",
      "#subplot with GR color\n",
      "ax2 = fig100.add_subplot(1,2,2)\n",
      "ax2.set_title(\"11-20 sonic vs. density colored by gamma-ray\", fontsize=14)\n",
      "ax2.set_xlabel(\"sonic [ft/s] \", fontsize = 14)\n",
      "ax2.set_ylabel(\"density [kg/m3] \", fontsize = 14)\n",
      "ax2.grid(True, linestyle='-', color='0.75')\n",
      "#ax2.set_xlim([0,600])\n",
      "#ax2.set_ylim([1800,2800])\n",
      "crossplot2 = ax2.scatter(sonic/0.3048, den, c=depth, cmap=cm.jet_r, s=20, alpha =.06, edgecolors='grey', linewidths='0.5')\n",
      "cbar2 = fig100.colorbar(crossplot2, ax=ax2, shrink=0.5)\n",
      "cbar2.set_label('DEPTH [ft]')\n",
      "\n",
      "## To Do, what do I do to change the figure size? \n",
      "\n",
      "##play with the alpha value in the scatter plot function to look at depth / compaction trends, and different patterns.\n",
      "##"
     ],
     "language": "python",
     "metadata": {},
     "outputs": []
    },
    {
     "cell_type": "heading",
     "level": 3,
     "metadata": {},
     "source": [
      "Exercise: Read and plot a well, example 2"
     ]
    },
    {
     "cell_type": "code",
     "collapsed": false,
     "input": [
      "import numpy\n",
      "from las import LASReader\n",
      "D399 = LASReader('Alma3/D399.las', null_subs=np.nan)\n",
      "first_z = amin(D399.data['DEPT'])\n",
      "last_z = amax(D399.data['DEPT'])\n",
      "\n",
      "#figure(figsize = (40,3))\n",
      "#plot(B90.data['DEPTH'],B90.data['GR'],'k')\n",
      "#fill_between(1*B90.data['DEPTH'], 50, B90.data['GR'], B90.data['GR']<50 , color= 'yellow', alpha=1)\n",
      "#fill_between(1*B90.data['DEPTH'], 50, B90.data['GR'], B90.data['GR']>50 , color= 'green', alpha=1)\n",
      "#grid()\n",
      "\n",
      "figure(figsize = (30,3))\n",
      "imshow(transpose( reshape ( repeat( D399.data['GR'],150 ), ( shape(D399.data['GR'])[0] , 150 ) ) ),origin='lower',cmap=cm.summer_r, extent=[ first_z, last_z, 0,150 ])\n",
      "axis('tight')\n",
      "plot(D399.data['DEPT'], D399.data['GR'],'k')\n",
      "\n",
      "#fill above the curve to make a white mask,\n",
      "fill_between(D399.data['DEPT'], D399.data['GR'], 150, color= 'white', alpha=1)\n",
      "title('GR log with GR color fill')\n",
      "xlabel('measured depth [m]', fontsize = '12')\n",
      "ylabel('GR [API]', fontsize = '12')\n",
      "colorbar()\n",
      "grid()\n",
      "\n",
      "##Fill the color value with impedance instead!\n",
      "figure(figsize = (30,3))\n",
      "DT_img = transpose( reshape ( repeat( D399.data['DT4P'],150 ), ( shape(D399.data['DT4P'])[0] , 150 ) ) )\n",
      "RHOB_img = transpose( reshape ( repeat( D399.data['RHOB'],150 ), ( shape(D399.data['RHOB'])[0] , 150 ) ) )\n",
      "imshow((1./DT_img)*RHOB_img,origin='lower',vmin = 5, vmax = 15,cmap=cm.jet , extent=[ first_z, last_z, 0,150 ])\n",
      "axis('tight')\n",
      "\n",
      "colorbar()\n",
      "plot(D399.data['DEPT'], D399.data['GR'],'k')\n",
      "#fill above the curve to make a white mask,\n",
      "fill_between(D399.data['DEPT'], D399.data['GR'], 150, color= 'white', alpha=1)\n",
      "title('GR log with Acoustic Impedance color fill')\n",
      "xlabel('measured depth [m]', fontsize = '12' )\n",
      "ylabel('GR [API]', fontsize = '12')\n",
      "grid()\n",
      "axis('tight')\n"
     ],
     "language": "python",
     "metadata": {},
     "outputs": []
    },
    {
     "cell_type": "heading",
     "level": 3,
     "metadata": {},
     "source": [
      "Exercise: crossplotting and rock physics templates"
     ]
    },
    {
     "cell_type": "code",
     "collapsed": false,
     "input": [
      "# Build a rock physics template\n",
      "# \n",
      "psonic = D399.data['DT4P']\n",
      "ssonic = D399.data['DT4S']\n",
      "den = D399.data['RHOB']\n",
      "npor = D399.data['NPOR']\n",
      "drho = D399.data['DRHO']\n",
      "gr = D399.data['GR']\n",
      "cali = D399.data['CALI']\n",
      "bitsize = D399.data['BS']\n",
      "depth = D399.data['DEPT']\n",
      "\n",
      "##computed curves\n",
      "vp = 1000000/psonic\n",
      "vs = 1000000/ssonic\n",
      "acImp = (1000000/psonic)*den\n",
      "VpVs = ssonic / psonic\n",
      "Lambda = den*(vp*vp - 2*vs*vs)\n",
      "Mu = den*vs*vs\n",
      "\n",
      "#\n",
      "fig200 = figure(figsize=(21,16)) # create a figure object, and set it's size\n",
      "\n",
      "ax1 = fig200.add_subplot(2, 2, 1)\n",
      "ax1.set_title(\"D399 sonic vs. density colored by gamma-ray\", fontsize=14)\n",
      "ax1.set_xlabel(\"Acoustic Impedance [kg/s2m2] \", fontsize = 14)\n",
      "ax1.set_ylabel(\"Vp-Vs ratio \", fontsize = 14)\n",
      "ax1.grid(True, linestyle='-', color='0.75')\n",
      "#ax1.set_xlim([0,600])\n",
      "ax1.set_ylim([1.3,2.3])\n",
      "crossplot1 = ax1.scatter(acImp, VpVs, c=gr, cmap=cm.summer_r, s =20, alpha =0.2, edgecolors='grey', linewidths='0.5')\n",
      "cbar1 = fig200.colorbar(crossplot1, ax=ax1,shrink=0.5) \n",
      "cbar1.set_label('GR')\n",
      "\n",
      "#\n",
      "#subplot with GR color\n",
      "ax2 = fig200.add_subplot(2,2,2)\n",
      "ax2.set_title(\"D399 sonic vs. density colored by depth\", fontsize=14)\n",
      "ax2.set_xlabel(\"Acoustic Impedance [kg/s2m2] \", fontsize = 14)\n",
      "ax2.set_ylabel(\"Vp-Vs ratio\", fontsize = 14)\n",
      "ax2.grid(True, linestyle='-', color='0.75')\n",
      "#ax2.set_xlim([0,600])\n",
      "ax2.set_ylim([1.3,2.3])\n",
      "crossplot2 = ax2.scatter(acImp, VpVs, c=depth, cmap=cm.jet, s=20, alpha =.2, edgecolors='grey', linewidths='0.5')\n",
      "cbar2 = fig200.colorbar(crossplot2, ax=ax2, shrink=0.5)\n",
      "cbar2.set_label('depth [m]')\n",
      "\n",
      "#LMR plot with GR\n",
      "ax3 = fig200.add_subplot(223)\n",
      "ax3.set_title(\"D399 sonic vs. density colored by gamma-ray\", fontsize=14)\n",
      "ax3.set_xlabel(\"Lamdba*Rho \", fontsize = 14)\n",
      "ax3.set_ylabel(\"Mu*Rho \", fontsize = 14)\n",
      "ax3.grid(True, linestyle='-', color='0.75')\n",
      "#ax1.set_xlim([0,600])\n",
      "#ax3.set_ylim([1.3,2.3])\n",
      "crossplot3 = ax3.scatter(Lambda*den, Mu*den, c=gr, cmap=cm.summer_r, s =20, alpha =0.2, edgecolors='grey', linewidths='0.5')\n",
      "cbar3 = fig200.colorbar(crossplot3, ax=ax3,shrink=0.5) \n",
      "cbar3.set_label('GR')\n",
      "\n",
      "#\n",
      "#LMR plot with Depth\n",
      "ax4 = fig200.add_subplot(224)\n",
      "ax4.set_title(\"D399 sonic vs. density colored by depth\", fontsize=14)\n",
      "ax4.set_xlabel(\"Lambda*Rho\", fontsize = 14)\n",
      "ax4.set_ylabel(\"Mu*Rho\", fontsize = 14)\n",
      "ax4.grid(True, linestyle='-', color='0.75')\n",
      "#ax2.set_xlim([0,600])\n",
      "#ax4.set_ylim([1.3,2.3])\n",
      "crossplot4 = ax4.scatter(Lambda*den, Mu*den, c=depth, cmap=cm.jet, s=20, alpha =.2, edgecolors='grey', linewidths='0.5')\n",
      "cbar4 = fig200.colorbar(crossplot4, ax=ax4, shrink=0.5)\n",
      "cbar2.set_label('depth [m]')\n",
      "\n"
     ],
     "language": "python",
     "metadata": {},
     "outputs": []
    },
    {
     "cell_type": "heading",
     "level": 3,
     "metadata": {},
     "source": [
      "Data Clustering"
     ]
    },
    {
     "cell_type": "code",
     "collapsed": false,
     "input": [
      "# k-means clustering example\n",
      "\"\"\"\n",
      "example\n",
      "http://glowingpython.blogspot.ca/2012/04/k-means-clustering-with-scipy.html\n",
      "\"\"\"\n",
      "from numpy import vstack, array\n",
      "from scipy.cluster.vq import kmeans2, vq\n",
      "\n",
      "# data generation\n",
      "from las import LASReader\n",
      "B90 = LASReader('Panuke_B-90/Panuke_B90_LASOut_W9_Own_Digits.las', null_subs=np.nan)\n",
      "#read first and last depth\n",
      "first_z = amin(B90.data['DEPTH'])\n",
      "last_z = amax(B90.data['DEPTH'])\n",
      "# logs\n",
      "sonic = B90.data['DT']\n",
      "den = B90.data['RHOB']\n",
      "gr = B90.data['GR']\n",
      "depth = B90.data['DEPTH']\n",
      "\n",
      "\n",
      "# data formatting\n",
      "data = vstack((sonic, den))\n",
      "\n",
      "# computing k-means with k=4\n",
      "centroids,_ = kmeans2(data,4)\n",
      "\n",
      "#assign each sample to a cluster\n",
      "idx,_ = vq(data, centroids)\n",
      "print idx\n",
      "#some plotting using numpy's logical indexing\n",
      "figure(figsize(10,10))\n",
      "scatter( data[idx==0,0], data[idx==0,1], 'r',    \n",
      "         data[idx==1,0], data[idx==1,1], 'b',    \n",
      "         data[idx==2,0], data[idx==2,1], 'g',   \n",
      "         data[idx==3,0], data[idx==3,1], 'm',  )             \n",
      "scatter( centroids[:,0], centroids[:,1], 'sg', markersize = 50)"
     ],
     "language": "python",
     "metadata": {},
     "outputs": []
    },
    {
     "cell_type": "heading",
     "level": 3,
     "metadata": {},
     "source": [
      "Exercise: Visualizing meta-data"
     ]
    },
    {
     "cell_type": "code",
     "collapsed": false,
     "input": [
      "# *** Well scorecard ***\n",
      "\n",
      "import matplotlib.pyplot as plt\n",
      "import numpy\n",
      "from las import LASReader\n",
      "\n",
      "files = ['E-38.las','E-38-2.las']\n",
      "\n",
      "figure(figsize=(15,8))\n",
      "offset = 0\n",
      "for k in files:\n",
      "\n",
      "    E38 = LASReader(k , null_subs=np.nan)\n",
      "\n",
      "\n",
      "    data2d = E38.data2d\n",
      "    nz, nc = E38.data2d.shape\n",
      "    \n",
      "    #this is a vector of the depth value for every \"row\"\n",
      "    depths = E38.data2d[:,0]\n",
      "    \n",
      "    for j in arange(1,nc):\n",
      "        index = where(isfinite(data2d[:,j]) )[0] \n",
      "        bottom = []\n",
      "        top = []\n",
      "        top.append( index [0] )\n",
      "        for i in  arange( index.size -1 ):\n",
      "            if (( index[i+1] - index[i] ) > 1):\n",
      "                bottom.append( index[i] )\n",
      "                top.append( index(i+1) )\n",
      "            \n",
      "        bottom.append( index[-1]  )\n",
      "        \n",
      "        y = numpy.asarray(bottom)\n",
      "        x = numpy.zeros(y.size)+offset\n",
      "        heights = y - numpy.asarray(top)\n",
      "        plt.bar( x , depths[heights], bottom=depths[y], width=1, alpha=0.8)\n",
      "        offset += 2\n",
      "ax = plt.gca()\n",
      "ax.set_ylim(ax.get_ylim()[::-1])\n",
      "plt.grid()\n",
      "plt.tight()"
     ],
     "language": "python",
     "metadata": {},
     "outputs": []
    },
    {
     "cell_type": "heading",
     "level": 2,
     "metadata": {},
     "source": [
      "Maps, Geographical databases, and GIS"
     ]
    },
    {
     "cell_type": "heading",
     "level": 3,
     "metadata": {},
     "source": [
      "Gridding, contouring, and Contour plots"
     ]
    },
    {
     "cell_type": "code",
     "collapsed": false,
     "input": [
      "from pylab import *\n",
      "def f(x,y): return (1-x/2+x**5+y**3)*np.exp(-x**2-y**2)\n",
      "\n",
      "n = 256\n",
      "x = np.linspace(-3,3,n)\n",
      "y = np.linspace(-3,3,n)\n",
      "X,Y = np.meshgrid(x,y)\n",
      "\n",
      "figure(figsize(13,10))\n",
      "axes([0.025,0.025,0.95,0.95])\n",
      "contour(\n",
      "contourf(X, Y, f(X,Y), 8, alpha=.75, cmap=cm.hot)\n",
      "C = contour(X, Y, f(X,Y), 8, colors='black', linewidth=.5)\n",
      "clabel(C, inline=1, fontsize=10)\n",
      "scatter(X[::25,::25],Y[::25,::25], alpha = 0.3, c='black')\n",
      "clabel(\n",
      "xticks([]), yticks([])\n",
      "# savefig('../figures/contour_ex.png',dpi=48)\n",
      "show()"
     ],
     "language": "python",
     "metadata": {},
     "outputs": []
    },
    {
     "cell_type": "markdown",
     "metadata": {},
     "source": [
      "Demo: net_pay.py"
     ]
    },
    {
     "cell_type": "heading",
     "level": 3,
     "metadata": {},
     "source": [
      "Quiver plots (for vector fields)"
     ]
    },
    {
     "cell_type": "code",
     "collapsed": false,
     "input": [
      "from pylab import *\n",
      "n = 8\n",
      "X,Y = np.mgrid[0:n,0:n]\n",
      "T = np.arctan2(Y-n/2.0, X-n/2.0)\n",
      "R = 10+np.sqrt((Y-n/2.0)**2+(X-n/2.0)**2)\n",
      "U,V = R*np.cos(T), R*np.sin(T)\n",
      "\n",
      "axes([0.025,0.025,0.95,0.95])\n",
      "quiver(X,Y,U,V,R, alpha=.5)\n",
      "quiver(X,Y,U,V, edgecolor='k', facecolor='None', linewidth=.5)\n",
      "\n",
      "xlim(-1,n), xticks([])\n",
      "ylim(-1,n), yticks([])\n",
      "\n",
      "# savefig('../figures/quiver_ex.png',dpi=48)\n",
      "show()"
     ],
     "language": "python",
     "metadata": {},
     "outputs": []
    },
    {
     "cell_type": "heading",
     "level": 3,
     "metadata": {},
     "source": [
      "Other fancy plots with Matplotlib"
     ]
    },
    {
     "cell_type": "code",
     "collapsed": false,
     "input": [
      "#Grids example: http://www.loria.fr/~rougier/teaching/matplotlib/scripts/grid_ex.py\n",
      "from pylab import *\n",
      "ax = axes([0.025,0.025,0.95,0.95])\n",
      "\n",
      "ax.set_xlim(0,4)\n",
      "ax.set_ylim(0,3)\n",
      "ax.xaxis.set_major_locator(MultipleLocator(1.0))\n",
      "ax.xaxis.set_minor_locator(MultipleLocator(0.1))\n",
      "ax.yaxis.set_major_locator(MultipleLocator(1.0))\n",
      "ax.yaxis.set_minor_locator(MultipleLocator(0.1))\n",
      "ax.grid(which='major', axis='x', linewidth=0.75, linestyle='-', color='0.75')\n",
      "ax.grid(which='minor', axis='x', linewidth=0.25, linestyle='-', color='0.75')\n",
      "ax.grid(which='major', axis='y', linewidth=0.75, linestyle='-', color='0.75')\n",
      "ax.grid(which='minor', axis='y', linewidth=0.25, linestyle='-', color='0.75')\n",
      "ax.set_xticklabels([])\n",
      "ax.set_yticklabels([])\n",
      "\n",
      "# savefig('../figures/grid_ex.png',dpi=48)\n",
      "show()"
     ],
     "language": "python",
     "metadata": {},
     "outputs": []
    },
    {
     "cell_type": "heading",
     "level": 3,
     "metadata": {},
     "source": [
      "Creating multiple axes in a single figure or interface"
     ]
    },
    {
     "cell_type": "code",
     "collapsed": false,
     "input": [
      "#Multiple plots: http://www.loria.fr/~rougier/teaching/matplotlib/scripts/multiplot_ex.py\n",
      "from pylab import *\n",
      "import matplotlib.gridspec as gridspec\n",
      "fig =figure(figsize = (15,4))\n",
      "fig.subplots_adjust(bottom=0.025, left=0.025, top = 0.975, right=0.975)\n",
      "\n",
      "G = gridspec.GridSpec(2,9)\n",
      "\n",
      "ax_1 = subplot(G[:,0:3])\n",
      "xticks([]), yticks([])\n",
      "#text(0.14,0.5, 'AVO plot',ha='center',va='center',size=20,alpha=.5)\n",
      "\n",
      "ax_2 = subplot(G[:,3:6])\n",
      "xticks([]), yticks([])\n",
      "#text(0.50,0.5, 'Int-Gradient plot',ha='center',va='center',size=20,alpha=.5)\n",
      "\n",
      "ax_3 = subplot(G[0,6])\n",
      "xticks([]), yticks([])\n",
      "#text(0.70,0.66, 'Vp0',ha='center',va='center',size=20,alpha=.5)\n",
      "\n",
      "ax_4 = subplot(G[0,7])\n",
      "xticks([]), yticks([])\n",
      "#text(0.85,0.66, 'Vs0',ha='center',va='center',size=20,alpha=.5)\n",
      "\n",
      "ax_5 = subplot(G[0,8])\n",
      "xticks([]), yticks([])\n",
      "#text(0.92,0.66, 'Rho0',ha='center',va='center',size=20,alpha=.5)\n",
      "\n",
      "ax_6 = subplot(G[1,6])\n",
      "xticks([]), yticks([])\n",
      "#text(0.70,0.66, 'Vp0',ha='center',va='center',size=20,alpha=.5)\n",
      "\n",
      "ax_7 = subplot(G[1,7])\n",
      "xticks([]), yticks([])\n",
      "#text(0.85,0.66, 'Vs0',ha='center',va='center',size=20,alpha=.5)\n",
      "\n",
      "ax_8 = subplot(G[1,8])\n",
      "xticks([]), yticks([])\n",
      "#text(0.92,0.66, 'Rho0',ha='center',va='center',size=20,alpha=.5)\n",
      "axis('tight')\n",
      "#savefig('../figures/multiplot_ex.png',dpi=48)\n",
      "show()\n",
      "gridspec("
     ],
     "language": "python",
     "metadata": {},
     "outputs": []
    },
    {
     "cell_type": "markdown",
     "metadata": {},
     "source": [
      "Exercise: Rose diagrams"
     ]
    },
    {
     "cell_type": "code",
     "collapsed": false,
     "input": [
      "#Rose diagrams: polar axis plots: http://www.loria.fr/~rougier/teaching/matplotlib/scripts/polar_ex.py\n",
      "from pylab import *\n",
      "ax = axes([0.025,0.025,0.95,0.95], polar=True)\n",
      "\n",
      "N = 20\n",
      "theta = np.arange(0.0, 2*np.pi, 2*np.pi/N)\n",
      "radii = 10*np.random.rand(N)\n",
      "width = np.pi/4*np.random.rand(N)\n",
      "bars = bar(theta, radii, width=width, bottom=0.0)\n",
      "\n",
      "for r,bar in zip(radii, bars):\n",
      "    bar.set_facecolor( cm.jet(r/10.))\n",
      "    bar.set_alpha(0.5)\n",
      "\n",
      "ax.set_xticklabels([])\n",
      "ax.set_yticklabels([])\n",
      "# savefig('../figures/polar_ex.png',dpi=48)\n",
      "show()"
     ],
     "language": "python",
     "metadata": {},
     "outputs": []
    },
    {
     "cell_type": "heading",
     "level": 3,
     "metadata": {},
     "source": [
      "Exercise: Gorgeous graphics"
     ]
    },
    {
     "cell_type": "code",
     "collapsed": false,
     "input": [
      "#Text: http://www.loria.fr/~rougier/teaching/matplotlib/scripts/text_ex.py\n",
      "from pylab import *\n",
      "\n",
      "eqs = []\n",
      "eqs.append((r\"$W^{3\\beta}_{\\delta_1 \\rho_1 \\sigma_2} = U^{3\\beta}_{\\delta_1 \\rho_1} + \\frac{1}{8 \\pi 2} \\int^{\\alpha_2}_{\\alpha_2} d \\alpha^\\prime_2 \\left[\\frac{ U^{2\\beta}_{\\delta_1 \\rho_1} - \\alpha^\\prime_2U^{1\\beta}_{\\rho_1 \\sigma_2} }{U^{0\\beta}_{\\rho_1 \\sigma_2}}\\right]$\"))\n",
      "eqs.append((r\"$\\frac{d\\rho}{d t} + \\rho \\vec{v}\\cdot\\nabla\\vec{v} = -\\nabla p + \\mu\\nabla^2 \\vec{v} + \\rho \\vec{g}$\"))\n",
      "eqs.append((r\"$\\int_{-\\infty}^\\infty e^{-x^2}dx=\\sqrt{\\pi}$\"))\n",
      "eqs.append((r\"$E = mc^2 = \\sqrt{{m_0}^2c^4 + p^2c^2}$\"))\n",
      "eqs.append((r\"$F_G = G\\frac{m_1m_2}{r^2}$\"))\n",
      "\n",
      "\n",
      "axes([0.025,0.025,0.95,0.95])\n",
      "\n",
      "for i in range(24):\n",
      "    index = np.random.randint(0,len(eqs))\n",
      "    eq = eqs[index]\n",
      "    size = np.random.uniform(12,32)\n",
      "    x,y = np.random.uniform(0,1,2)\n",
      "    alpha = np.random.uniform(0.25,.75)\n",
      "    text(x, y, eq, ha='center', va='center', color=\"#11557c\", alpha=alpha,\n",
      "         transform=gca().transAxes, fontsize=size, clip_on=True)\n",
      "xticks([]), yticks([])\n",
      "# savefig('../figures/text_ex.png',dpi=48)\n",
      "show()"
     ],
     "language": "python",
     "metadata": {},
     "outputs": []
    },
    {
     "cell_type": "heading",
     "level": 2,
     "metadata": {},
     "source": [
      "Other topics"
     ]
    },
    {
     "cell_type": "markdown",
     "metadata": {},
     "source": [
      "* PCA - Principle component analysis\n",
      "\n",
      "* SVD - singular value decomposition\n",
      "    \n",
      "* Inverse problems (optimization problems)\n",
      "    \n",
      "* Clustering, classification, and machine learning\n",
      "    \n",
      "* Color in scientific analysis and visualiztion\n",
      "\n",
      "* Finite difference simulation (Wave equation, or Navier-Stokes equation)\n",
      "\n",
      "* Python wrapper to other languagea (i.e. Madagascar, Seismic Un*x, ArcGis, QGIS)"
     ]
    }
   ],
   "metadata": {}
  }
 ]
}