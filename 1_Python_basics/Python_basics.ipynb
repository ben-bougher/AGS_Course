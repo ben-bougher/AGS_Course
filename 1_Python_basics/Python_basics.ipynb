{
 "metadata": {
  "name": "Python_basics.ipynb"
 },
 "nbformat": 3,
 "nbformat_minor": 0,
 "worksheets": [
  {
   "cells": [
    {
     "cell_type": "heading",
     "level": 1,
     "metadata": {},
     "source": [
      "Agile Geocomputing 101"
     ]
    },
    {
     "cell_type": "heading",
     "level": 2,
     "metadata": {},
     "source": [
      "Getting started"
     ]
    },
    {
     "cell_type": "code",
     "collapsed": false,
     "input": [
      "ls"
     ],
     "language": "python",
     "metadata": {},
     "outputs": []
    },
    {
     "cell_type": "markdown",
     "metadata": {},
     "source": [
      "To bookmark a directory"
     ]
    },
    {
     "cell_type": "code",
     "collapsed": false,
     "input": [
      "pwd\n",
      "cd #/to/where/the/course/is\n",
      "%bookmark course"
     ],
     "language": "python",
     "metadata": {},
     "outputs": []
    },
    {
     "cell_type": "markdown",
     "metadata": {},
     "source": [
      "Tab completion"
     ]
    },
    {
     "cell_type": "code",
     "collapsed": false,
     "input": [
      "%run #press tab"
     ],
     "language": "python",
     "metadata": {},
     "outputs": []
    },
    {
     "cell_type": "markdown",
     "metadata": {},
     "source": [
      "Function information"
     ]
    },
    {
     "cell_type": "code",
     "collapsed": false,
     "input": [
      "len(# tab..."
     ],
     "language": "python",
     "metadata": {},
     "outputs": []
    },
    {
     "cell_type": "code",
     "collapsed": false,
     "input": [
      "s1 = \"Gord\""
     ],
     "language": "python",
     "metadata": {},
     "outputs": [],
     "prompt_number": 3
    },
    {
     "cell_type": "code",
     "collapsed": false,
     "input": [
      "print s1"
     ],
     "language": "python",
     "metadata": {},
     "outputs": [
      {
       "output_type": "stream",
       "stream": "stdout",
       "text": [
        "Gord\n"
       ]
      }
     ],
     "prompt_number": 4
    },
    {
     "cell_type": "code",
     "collapsed": false,
     "input": [
      "%whos"
     ],
     "language": "python",
     "metadata": {},
     "outputs": [
      {
       "output_type": "stream",
       "stream": "stdout",
       "text": [
        "Variable   Type    Data/Info\n",
        "----------------------------\n",
        "s1         str     Gord\n"
       ]
      }
     ],
     "prompt_number": 5
    },
    {
     "cell_type": "markdown",
     "metadata": {},
     "source": [
      "To get information about any function put <code>?</code> in any Python interpreter, \n",
      "or follow a command with <code>??</code> to print out the source code. "
     ]
    },
    {
     "cell_type": "heading",
     "level": 2,
     "metadata": {},
     "source": [
      "IPython Notebook"
     ]
    },
    {
     "cell_type": "markdown",
     "metadata": {},
     "source": [
      "* use SHIFT + ENTER to execute each code block"
     ]
    },
    {
     "cell_type": "heading",
     "level": 2,
     "metadata": {},
     "source": [
      "Python language basics"
     ]
    },
    {
     "cell_type": "markdown",
     "metadata": {},
     "source": [
      "* Interactive Calculator\n",
      "* Strings and string methods\n",
      "* String formatting\n",
      "* Lists and list methods\n",
      "* Indexing lists\n",
      "* Slicing lists\n",
      "* Tuples (Mutable vs Immutable)\n",
      "* Dictionaries\n",
      "* Dictionary methods\n",
      "* Set objects\n",
      "* Set operations\n",
      "* Assignment of a \"simple\" object\n",
      "* Assignment of a container object\n",
      "* If statements\n",
      "* While loops\n",
      "* For loops\n",
      "* List comprehension\n",
      "* Generator expressions\n",
      "* Multiple assignments\n",
      "* Looping patterns\n",
      "* Looping over a dictionary\n",
      "* Sorting"
     ]
    },
    {
     "cell_type": "markdown",
     "metadata": {},
     "source": [
      "\n"
     ]
    },
    {
     "cell_type": "heading",
     "level": 3,
     "metadata": {},
     "source": [
      "Interactive Calculator"
     ]
    },
    {
     "cell_type": "heading",
     "level": 4,
     "metadata": {},
     "source": [
      "Adding two values"
     ]
    },
    {
     "cell_type": "code",
     "collapsed": false,
     "input": [
      "1+1"
     ],
     "language": "python",
     "metadata": {},
     "outputs": [
      {
       "output_type": "pyout",
       "prompt_number": 6,
       "text": [
        "2"
       ]
      }
     ],
     "prompt_number": 6
    },
    {
     "cell_type": "heading",
     "level": 4,
     "metadata": {},
     "source": [
      "setting a variable"
     ]
    },
    {
     "cell_type": "code",
     "collapsed": false,
     "input": [
      "a = 1\n",
      "b = 'Evan'"
     ],
     "language": "python",
     "metadata": {},
     "outputs": [],
     "prompt_number": 7
    },
    {
     "cell_type": "heading",
     "level": 4,
     "metadata": {},
     "source": [
      "checking the type of a variable"
     ]
    },
    {
     "cell_type": "code",
     "collapsed": false,
     "input": [
      "type(a),type(b)"
     ],
     "language": "python",
     "metadata": {},
     "outputs": [
      {
       "output_type": "pyout",
       "prompt_number": 8,
       "text": [
        "(int, str)"
       ]
      }
     ],
     "prompt_number": 8
    },
    {
     "cell_type": "code",
     "collapsed": false,
     "input": [
      "%whos"
     ],
     "language": "python",
     "metadata": {},
     "outputs": [
      {
       "output_type": "stream",
       "stream": "stdout",
       "text": [
        "Variable   Type    Data/Info\n",
        "----------------------------\n",
        "a          int     1\n",
        "b          str     Evan\n",
        "s1         str     Gord\n"
       ]
      }
     ],
     "prompt_number": 9
    },
    {
     "cell_type": "code",
     "collapsed": false,
     "input": [
      "%reset"
     ],
     "language": "python",
     "metadata": {},
     "outputs": [],
     "prompt_number": 10
    },
    {
     "cell_type": "code",
     "collapsed": false,
     "input": [
      "%whos"
     ],
     "language": "python",
     "metadata": {},
     "outputs": [
      {
       "output_type": "stream",
       "stream": "stdout",
       "text": [
        "Interactive namespace is empty.\n"
       ]
      }
     ],
     "prompt_number": 11
    },
    {
     "cell_type": "heading",
     "level": 4,
     "metadata": {},
     "source": [
      "an arbitrarily long interger"
     ]
    },
    {
     "cell_type": "code",
     "collapsed": false,
     "input": [
      "a = 12345678901234567890"
     ],
     "language": "python",
     "metadata": {},
     "outputs": [],
     "prompt_number": 17
    },
    {
     "cell_type": "code",
     "collapsed": false,
     "input": [
      "a, type(a)"
     ],
     "language": "python",
     "metadata": {},
     "outputs": [
      {
       "output_type": "pyout",
       "prompt_number": 13,
       "text": [
        "(12345678901234567890L, long)"
       ]
      }
     ],
     "prompt_number": 13
    },
    {
     "cell_type": "heading",
     "level": 4,
     "metadata": {},
     "source": [
      "remove a from the namespace"
     ]
    },
    {
     "cell_type": "code",
     "collapsed": false,
     "input": [
      "del a"
     ],
     "language": "python",
     "metadata": {},
     "outputs": [],
     "prompt_number": 19
    },
    {
     "cell_type": "code",
     "collapsed": false,
     "input": [
      "a"
     ],
     "language": "python",
     "metadata": {},
     "outputs": [
      {
       "ename": "NameError",
       "evalue": "name 'a' is not defined",
       "output_type": "pyerr",
       "traceback": [
        "\u001b[0;31m---------------------------------------------------------------------------\u001b[0m\n\u001b[0;31mNameError\u001b[0m                                 Traceback (most recent call last)",
        "\u001b[0;32m<ipython-input-20-60b725f10c9c>\u001b[0m in \u001b[0;36m<module>\u001b[0;34m()\u001b[0m\n\u001b[0;32m----> 1\u001b[0;31m \u001b[0ma\u001b[0m\u001b[0;34m\u001b[0m\u001b[0m\n\u001b[0m",
        "\u001b[0;31mNameError\u001b[0m: name 'a' is not defined"
       ]
      }
     ],
     "prompt_number": 20
    },
    {
     "cell_type": "heading",
     "level": 4,
     "metadata": {},
     "source": [
      "real numbers"
     ]
    },
    {
     "cell_type": "code",
     "collapsed": false,
     "input": [
      "b = 1.4 + 2.3"
     ],
     "language": "python",
     "metadata": {},
     "outputs": [],
     "prompt_number": 21
    },
    {
     "cell_type": "code",
     "collapsed": false,
     "input": [
      "b\n",
      "#floating point error"
     ],
     "language": "python",
     "metadata": {},
     "outputs": [
      {
       "output_type": "pyout",
       "prompt_number": 22,
       "text": [
        "3.6999999999999997"
       ]
      }
     ],
     "prompt_number": 22
    },
    {
     "cell_type": "heading",
     "level": 4,
     "metadata": {},
     "source": [
      "prettier version"
     ]
    },
    {
     "cell_type": "code",
     "collapsed": false,
     "input": [
      "print(b)"
     ],
     "language": "python",
     "metadata": {},
     "outputs": [
      {
       "output_type": "stream",
       "stream": "stdout",
       "text": [
        "3.7\n"
       ]
      }
     ],
     "prompt_number": 23
    },
    {
     "cell_type": "code",
     "collapsed": false,
     "input": [
      "type(b)"
     ],
     "language": "python",
     "metadata": {},
     "outputs": [
      {
       "output_type": "pyout",
       "prompt_number": 24,
       "text": [
        "float"
       ]
      }
     ],
     "prompt_number": 24
    },
    {
     "cell_type": "heading",
     "level": 4,
     "metadata": {},
     "source": [
      "complex numbers"
     ]
    },
    {
     "cell_type": "code",
     "collapsed": false,
     "input": [
      "c = 2 + 1.5j"
     ],
     "language": "python",
     "metadata": {},
     "outputs": [],
     "prompt_number": 25
    },
    {
     "cell_type": "code",
     "collapsed": false,
     "input": [
      "c"
     ],
     "language": "python",
     "metadata": {},
     "outputs": [
      {
       "output_type": "pyout",
       "prompt_number": 27,
       "text": [
        "(2+1.5j)"
       ]
      }
     ],
     "prompt_number": 27
    },
    {
     "cell_type": "code",
     "collapsed": false,
     "input": [
      "d = 10 / "
     ],
     "language": "python",
     "metadata": {},
     "outputs": [
      {
       "ename": "SyntaxError",
       "evalue": "invalid syntax (<ipython-input-35-9eae191b19c7>, line 2)",
       "output_type": "pyerr",
       "traceback": [
        "\u001b[0;36m  File \u001b[0;32m\"<ipython-input-35-9eae191b19c7>\"\u001b[0;36m, line \u001b[0;32m2\u001b[0m\n\u001b[0;31m    typ(d\u001b[0m\n\u001b[0m         ^\u001b[0m\n\u001b[0;31mSyntaxError\u001b[0m\u001b[0;31m:\u001b[0m invalid syntax\n"
       ]
      }
     ],
     "prompt_number": 35
    },
    {
     "cell_type": "heading",
     "level": 4,
     "metadata": {},
     "source": [
      "The four numeric types in Python on 32-bit architecture are:"
     ]
    },
    {
     "cell_type": "markdown",
     "metadata": {},
     "source": [
      "* integer (4 bit)\n",
      "\n",
      "* long integer (any precision) \n",
      "\n",
      "* float (8 bit) \n",
      "\n",
      "* doubles (32 bit)\n",
      "\n",
      "* complex (16 bit)\n",
      "\n",
      "The NumPy module, which we will see later, supports a larger number of numeric types."
     ]
    },
    {
     "cell_type": "heading",
     "level": 4,
     "metadata": {},
     "source": [
      "Logical expressions, bool data type"
     ]
    },
    {
     "cell_type": "markdown",
     "metadata": {},
     "source": [
      "Comparison operators\n",
      "\n",
      "* #####< , less than\n",
      "\n",
      "* #####> , greater than\n",
      "\n",
      "* #####<= , less than or equal to\n",
      "\n",
      "* #####>= , greater than or equal to\n",
      "\n",
      "* #####== , equal to \n",
      "\n",
      "* #####!= , not equal to"
     ]
    },
    {
     "cell_type": "code",
     "collapsed": false,
     "input": [
      "1 >= 2"
     ],
     "language": "python",
     "metadata": {},
     "outputs": [
      {
       "output_type": "pyout",
       "prompt_number": 36,
       "text": [
        "False"
       ]
      }
     ],
     "prompt_number": 36
    },
    {
     "cell_type": "code",
     "collapsed": false,
     "input": [
      "1 + 1 == 2"
     ],
     "language": "python",
     "metadata": {},
     "outputs": [
      {
       "output_type": "pyout",
       "prompt_number": 37,
       "text": [
        "True"
       ]
      }
     ],
     "prompt_number": 37
    },
    {
     "cell_type": "code",
     "collapsed": false,
     "input": [
      "2**3 != 3**2"
     ],
     "language": "python",
     "metadata": {},
     "outputs": [
      {
       "output_type": "pyout",
       "prompt_number": 38,
       "text": [
        "True"
       ]
      }
     ],
     "prompt_number": 38
    },
    {
     "cell_type": "markdown",
     "metadata": {},
     "source": [
      "Chained comparisons"
     ]
    },
    {
     "cell_type": "code",
     "collapsed": false,
     "input": [
      "1 < 10 < 100\n",
      "print a"
     ],
     "language": "python",
     "metadata": {},
     "outputs": [
      {
       "output_type": "stream",
       "stream": "stdout",
       "text": [
        "True\n"
       ]
      }
     ],
     "prompt_number": 44
    },
    {
     "cell_type": "code",
     "collapsed": false,
     "input": [
      "a = False\n",
      "if 2: \n",
      "    print 'it is true'\n",
      "else:\n",
      "    print 'not true'"
     ],
     "language": "python",
     "metadata": {},
     "outputs": [
      {
       "output_type": "stream",
       "stream": "stdout",
       "text": [
        "it is true\n"
       ]
      }
     ],
     "prompt_number": 49
    },
    {
     "cell_type": "code",
     "collapsed": false,
     "input": [
      "if 0: \n",
      "    print 'it is true'\n",
      "else:\n",
      "    print 'not true'"
     ],
     "language": "python",
     "metadata": {},
     "outputs": [
      {
       "output_type": "stream",
       "stream": "stdout",
       "text": [
        "it is true\n"
       ]
      }
     ],
     "prompt_number": 46
    },
    {
     "cell_type": "code",
     "collapsed": false,
     "input": [
      "2"
     ],
     "language": "python",
     "metadata": {},
     "outputs": [
      {
       "output_type": "pyout",
       "prompt_number": 50,
       "text": [
        "2"
       ]
      }
     ],
     "prompt_number": 50
    },
    {
     "cell_type": "code",
     "collapsed": false,
     "input": [
      "#one more case"
     ],
     "language": "python",
     "metadata": {},
     "outputs": []
    },
    {
     "cell_type": "heading",
     "level": 4,
     "metadata": {},
     "source": [
      "bool DATA TYPE"
     ]
    },
    {
     "cell_type": "code",
     "collapsed": false,
     "input": [
      "q = 1 > 0"
     ],
     "language": "python",
     "metadata": {},
     "outputs": [],
     "prompt_number": 51
    },
    {
     "cell_type": "code",
     "collapsed": false,
     "input": [
      "q"
     ],
     "language": "python",
     "metadata": {},
     "outputs": [
      {
       "output_type": "pyout",
       "prompt_number": 52,
       "text": [
        "True"
       ]
      }
     ],
     "prompt_number": 52
    },
    {
     "cell_type": "code",
     "collapsed": false,
     "input": [
      "type(q)"
     ],
     "language": "python",
     "metadata": {},
     "outputs": [
      {
       "output_type": "pyout",
       "prompt_number": 53,
       "text": [
        "bool"
       ]
      }
     ],
     "prompt_number": 53
    },
    {
     "cell_type": "heading",
     "level": 4,
     "metadata": {},
     "source": [
      "and OPERATOR"
     ]
    },
    {
     "cell_type": "code",
     "collapsed": false,
     "input": [
      "1 > 0 and 5 == 5\n",
      "#If first operand is True, the second one is evaluated"
     ],
     "language": "python",
     "metadata": {},
     "outputs": [
      {
       "output_type": "pyout",
       "prompt_number": 54,
       "text": [
        "True"
       ]
      }
     ],
     "prompt_number": 54
    },
    {
     "cell_type": "code",
     "collapsed": false,
     "input": [
      "1 < 0 and max(0,1,2) > 1\n",
      "#If first operand is false, the second one is not evaluated"
     ],
     "language": "python",
     "metadata": {},
     "outputs": [
      {
       "output_type": "pyout",
       "prompt_number": 55,
       "text": [
        "False"
       ]
      }
     ],
     "prompt_number": 55
    },
    {
     "cell_type": "heading",
     "level": 4,
     "metadata": {},
     "source": [
      "or OPERATOR"
     ]
    },
    {
     "cell_type": "code",
     "collapsed": false,
     "input": [
      "a = 50\n",
      "a < 10 or a > 90"
     ],
     "language": "python",
     "metadata": {},
     "outputs": [
      {
       "output_type": "pyout",
       "prompt_number": 56,
       "text": [
        "False"
       ]
      }
     ],
     "prompt_number": 56
    },
    {
     "cell_type": "code",
     "collapsed": false,
     "input": [
      "a = 0\n",
      "a < 10 or a > 90\n",
      "#If the first opernad is true, the second is not evaluated"
     ],
     "language": "python",
     "metadata": {},
     "outputs": [
      {
       "output_type": "pyout",
       "prompt_number": 57,
       "text": [
        "True"
       ]
      }
     ],
     "prompt_number": 57
    },
    {
     "cell_type": "heading",
     "level": 4,
     "metadata": {},
     "source": [
      "not OPERATOR"
     ]
    },
    {
     "cell_type": "code",
     "collapsed": false,
     "input": [
      "a=0\n",
      "not 10 <= a <= 90"
     ],
     "language": "python",
     "metadata": {},
     "outputs": [
      {
       "output_type": "pyout",
       "prompt_number": 58,
       "text": [
        "True"
       ]
      }
     ],
     "prompt_number": 58
    },
    {
     "cell_type": "heading",
     "level": 3,
     "metadata": {},
     "source": [
      "Arithmetic operations"
     ]
    },
    {
     "cell_type": "code",
     "collapsed": false,
     "input": [
      "1 + 2 - ( 3 * 4 / 6 )**5 + ( 7 % 5 )"
     ],
     "language": "python",
     "metadata": {},
     "outputs": [
      {
       "output_type": "pyout",
       "prompt_number": 59,
       "text": [
        "-27"
       ]
      }
     ],
     "prompt_number": 59
    },
    {
     "cell_type": "code",
     "collapsed": false,
     "input": [
      "4 % 5 "
     ],
     "language": "python",
     "metadata": {},
     "outputs": [
      {
       "output_type": "pyout",
       "prompt_number": 62,
       "text": [
        "4"
       ]
      }
     ],
     "prompt_number": 62
    },
    {
     "cell_type": "heading",
     "level": 3,
     "metadata": {},
     "source": [
      "Simple built-in math functions"
     ]
    },
    {
     "cell_type": "code",
     "collapsed": false,
     "input": [
      "abs( -3 )"
     ],
     "language": "python",
     "metadata": {},
     "outputs": [
      {
       "output_type": "pyout",
       "prompt_number": 63,
       "text": [
        "3"
       ]
      }
     ],
     "prompt_number": 63
    },
    {
     "cell_type": "code",
     "collapsed": false,
     "input": [
      "max( 0, min( 10, -1, 4, 3) )"
     ],
     "language": "python",
     "metadata": {},
     "outputs": [
      {
       "output_type": "pyout",
       "prompt_number": 64,
       "text": [
        "0"
       ]
      }
     ],
     "prompt_number": 64
    },
    {
     "cell_type": "code",
     "collapsed": false,
     "input": [
      "round(2.718281828)"
     ],
     "language": "python",
     "metadata": {},
     "outputs": [
      {
       "output_type": "pyout",
       "prompt_number": 65,
       "text": [
        "3.0"
       ]
      }
     ],
     "prompt_number": 65
    },
    {
     "cell_type": "code",
     "collapsed": false,
     "input": [
      "np.ceil(2.5), np.floor(2.5)"
     ],
     "language": "python",
     "metadata": {},
     "outputs": [
      {
       "ename": "NameError",
       "evalue": "name 'np' is not defined",
       "output_type": "pyerr",
       "traceback": [
        "\u001b[0;31m---------------------------------------------------------------------------\u001b[0m\n\u001b[0;31mNameError\u001b[0m                                 Traceback (most recent call last)",
        "\u001b[0;32m<ipython-input-66-16c74d2ee214>\u001b[0m in \u001b[0;36m<module>\u001b[0;34m()\u001b[0m\n\u001b[0;32m----> 1\u001b[0;31m \u001b[0mnp\u001b[0m\u001b[0;34m.\u001b[0m\u001b[0mceil\u001b[0m\u001b[0;34m(\u001b[0m\u001b[0;36m2.5\u001b[0m\u001b[0;34m)\u001b[0m\u001b[0;34m,\u001b[0m \u001b[0mnp\u001b[0m\u001b[0;34m.\u001b[0m\u001b[0mfloor\u001b[0m\u001b[0;34m(\u001b[0m\u001b[0;36m2.5\u001b[0m\u001b[0;34m)\u001b[0m\u001b[0;34m\u001b[0m\u001b[0m\n\u001b[0m",
        "\u001b[0;31mNameError\u001b[0m: name 'np' is not defined"
       ]
      }
     ],
     "prompt_number": 66
    },
    {
     "cell_type": "heading",
     "level": 4,
     "metadata": {},
     "source": [
      "Overwriting functions"
     ]
    },
    {
     "cell_type": "code",
     "collapsed": false,
     "input": [
      "#Don't do this\n",
      "# max = 100\n",
      "# ...some time later...\n",
      "# x = max(4,5)\n",
      "# TypeError: 'int' object is not callable"
     ],
     "language": "python",
     "metadata": {},
     "outputs": []
    },
    {
     "cell_type": "heading",
     "level": 3,
     "metadata": {},
     "source": [
      "Type conversion"
     ]
    },
    {
     "cell_type": "code",
     "collapsed": false,
     "input": [
      "int(3.14159)"
     ],
     "language": "python",
     "metadata": {},
     "outputs": [
      {
       "output_type": "pyout",
       "prompt_number": 67,
       "text": [
        "3"
       ]
      }
     ],
     "prompt_number": 67
    },
    {
     "cell_type": "code",
     "collapsed": false,
     "input": [
      "float(2)"
     ],
     "language": "python",
     "metadata": {},
     "outputs": [
      {
       "output_type": "pyout",
       "prompt_number": 68,
       "text": [
        "2.0"
       ]
      }
     ],
     "prompt_number": 68
    },
    {
     "cell_type": "code",
     "collapsed": false,
     "input": [
      "1+float(2)"
     ],
     "language": "python",
     "metadata": {},
     "outputs": [
      {
       "output_type": "pyout",
       "prompt_number": 69,
       "text": [
        "3.0"
       ]
      }
     ],
     "prompt_number": 69
    },
    {
     "cell_type": "code",
     "collapsed": true,
     "input": [
      "10/3"
     ],
     "language": "python",
     "metadata": {},
     "outputs": [
      {
       "output_type": "pyout",
       "prompt_number": 70,
       "text": [
        "3"
       ]
      }
     ],
     "prompt_number": 70
    },
    {
     "cell_type": "code",
     "collapsed": false,
     "input": [
      "10/3.0"
     ],
     "language": "python",
     "metadata": {},
     "outputs": [
      {
       "output_type": "pyout",
       "prompt_number": 71,
       "text": [
        "3.3333333333333335"
       ]
      }
     ],
     "prompt_number": 71
    },
    {
     "cell_type": "heading",
     "level": 3,
     "metadata": {},
     "source": [
      "Alternative notations"
     ]
    },
    {
     "cell_type": "code",
     "collapsed": false,
     "input": [
      "if 2**8-1 == 0xFF:\n",
      "    print \"yes!\""
     ],
     "language": "python",
     "metadata": {},
     "outputs": [
      {
       "output_type": "stream",
       "stream": "stdout",
       "text": [
        "yes!\n"
       ]
      }
     ],
     "prompt_number": 73
    },
    {
     "cell_type": "code",
     "collapsed": false,
     "input": [
      "023 #octal! 19"
     ],
     "language": "python",
     "metadata": {},
     "outputs": [
      {
       "output_type": "pyout",
       "prompt_number": 74,
       "text": [
        "19"
       ]
      }
     ],
     "prompt_number": 74
    },
    {
     "cell_type": "code",
     "collapsed": false,
     "input": [
      "6e3"
     ],
     "language": "python",
     "metadata": {},
     "outputs": [
      {
       "output_type": "pyout",
       "prompt_number": 75,
       "text": [
        "6000.0"
       ]
      }
     ],
     "prompt_number": 75
    },
    {
     "cell_type": "heading",
     "level": 3,
     "metadata": {},
     "source": [
      "In place operations"
     ]
    },
    {
     "cell_type": "code",
     "collapsed": false,
     "input": [
      "b = 2.5"
     ],
     "language": "python",
     "metadata": {},
     "outputs": [],
     "prompt_number": 76
    },
    {
     "cell_type": "code",
     "collapsed": false,
     "input": [],
     "language": "python",
     "metadata": {},
     "outputs": []
    },
    {
     "cell_type": "code",
     "collapsed": false,
     "input": [
      "b **= 0.5    # b = b +0.5 \n",
      "b"
     ],
     "language": "python",
     "metadata": {},
     "outputs": [
      {
       "output_type": "pyout",
       "prompt_number": 77,
       "text": [
        "3.0"
       ]
      }
     ],
     "prompt_number": 77
    },
    {
     "cell_type": "markdown",
     "metadata": {},
     "source": [
      "Also -=, *=, /=, etc."
     ]
    },
    {
     "cell_type": "heading",
     "level": 3,
     "metadata": {},
     "source": [
      "Strings and string methods"
     ]
    },
    {
     "cell_type": "code",
     "collapsed": false,
     "input": [
      "#use double quotes\n",
      "s = \"this is a string using double quotes\"\n",
      "s"
     ],
     "language": "python",
     "metadata": {},
     "outputs": [
      {
       "output_type": "pyout",
       "prompt_number": 78,
       "text": [
        "'this is a string using double quotes'"
       ]
      }
     ],
     "prompt_number": 78
    },
    {
     "cell_type": "code",
     "collapsed": false,
     "input": [
      "#or single quotes\n",
      "s = 'this is single quotes'\n",
      "s"
     ],
     "language": "python",
     "metadata": {},
     "outputs": [
      {
       "output_type": "pyout",
       "prompt_number": 79,
       "text": [
        "'this is single quotes'"
       ]
      }
     ],
     "prompt_number": 79
    },
    {
     "cell_type": "code",
     "collapsed": false,
     "input": [
      "#concatenating two strings\n",
      "sos = \"save\" + \"our\" + \"seismic\"\n",
      "sos"
     ],
     "language": "python",
     "metadata": {},
     "outputs": [
      {
       "output_type": "pyout",
       "prompt_number": 80,
       "text": [
        "'saveourseismic'"
       ]
      }
     ],
     "prompt_number": 80
    },
    {
     "cell_type": "code",
     "collapsed": false,
     "input": [
      "#string length\n",
      "len(sos)"
     ],
     "language": "python",
     "metadata": {},
     "outputs": [
      {
       "output_type": "pyout",
       "prompt_number": 81,
       "text": [
        "14"
       ]
      }
     ],
     "prompt_number": 81
    },
    {
     "cell_type": "code",
     "collapsed": false,
     "input": [
      "#repeating a string\n",
      "greeting =  \"Merry Christmas \" + \"Ho \"*3\n",
      "greeting"
     ],
     "language": "python",
     "metadata": {},
     "outputs": [
      {
       "output_type": "pyout",
       "prompt_number": 84,
       "text": [
        "'Merry Christmas Ho Ho Ho '"
       ]
      }
     ],
     "prompt_number": 84
    },
    {
     "cell_type": "code",
     "collapsed": false,
     "input": [
      "#split space delimted words\n",
      "word_list = greeting.split()\n",
      "print word_list\n",
      "print word_list[:]"
     ],
     "language": "python",
     "metadata": {},
     "outputs": [
      {
       "output_type": "stream",
       "stream": "stdout",
       "text": [
        "['Merry', 'Christmas', 'Ho', 'Ho', 'Ho']\n",
        "['Merry', 'Christmas', 'Ho', 'Ho', 'Ho']\n"
       ]
      }
     ],
     "prompt_number": 88
    },
    {
     "cell_type": "code",
     "collapsed": false,
     "input": [
      "#join words back together\n",
      "space = ' '\n",
      "#print space\n",
      "space.join(word_list)\n",
      "#print space"
     ],
     "language": "python",
     "metadata": {},
     "outputs": [
      {
       "output_type": "pyout",
       "prompt_number": 97,
       "text": [
        "'Merry Christmas Ho Ho Ho'"
       ]
      }
     ],
     "prompt_number": 97
    },
    {
     "cell_type": "markdown",
     "metadata": {},
     "source": [
      "Some string methods"
     ]
    },
    {
     "cell_type": "code",
     "collapsed": false,
     "input": [
      "#replacing text\n",
      "greeting.replace('Ho', 'Humbug')"
     ],
     "language": "python",
     "metadata": {},
     "outputs": [
      {
       "output_type": "pyout",
       "prompt_number": 98,
       "text": [
        "'Merry Christmas Humbug Humbug Humbug '"
       ]
      }
     ],
     "prompt_number": 98
    },
    {
     "cell_type": "code",
     "collapsed": false,
     "input": [
      "#convert to upper case\n",
      "greeting.upper()"
     ],
     "language": "python",
     "metadata": {},
     "outputs": [
      {
       "output_type": "pyout",
       "prompt_number": 99,
       "text": [
        "'MERRY CHRISTMAS HO HO HO '"
       ]
      }
     ],
     "prompt_number": 99
    },
    {
     "cell_type": "code",
     "collapsed": false,
     "input": [
      "#remove whitespace\n",
      "greeting.strip()"
     ],
     "language": "python",
     "metadata": {},
     "outputs": [
      {
       "output_type": "pyout",
       "prompt_number": 101,
       "text": [
        "'Merry Christmas Ho Ho Ho'"
       ]
      }
     ],
     "prompt_number": 101
    },
    {
     "cell_type": "code",
     "collapsed": false,
     "input": [
      "#numbers to strings\n",
      "s = '23'\n",
      "numbers = int(s)\n",
      "print numbers\n",
      "type(numbers)"
     ],
     "language": "python",
     "metadata": {},
     "outputs": [
      {
       "output_type": "stream",
       "stream": "stdout",
       "text": [
        "23\n"
       ]
      },
      {
       "output_type": "pyout",
       "prompt_number": 105,
       "text": [
        "int"
       ]
      }
     ],
     "prompt_number": 105
    },
    {
     "cell_type": "code",
     "collapsed": false,
     "input": [
      "int('FF',16)"
     ],
     "language": "python",
     "metadata": {},
     "outputs": [
      {
       "output_type": "pyout",
       "prompt_number": 106,
       "text": [
        "255"
       ]
      }
     ],
     "prompt_number": 106
    },
    {
     "cell_type": "code",
     "collapsed": false,
     "input": [
      "float('23')"
     ],
     "language": "python",
     "metadata": {},
     "outputs": [
      {
       "output_type": "pyout",
       "prompt_number": 109,
       "text": [
        "23.0"
       ]
      }
     ],
     "prompt_number": 109
    },
    {
     "cell_type": "markdown",
     "metadata": {},
     "source": [
      "Available string methods"
     ]
    },
    {
     "cell_type": "code",
     "collapsed": false,
     "input": [
      "dir(greeting)"
     ],
     "language": "python",
     "metadata": {},
     "outputs": [
      {
       "output_type": "pyout",
       "prompt_number": 110,
       "text": [
        "['__add__',\n",
        " '__class__',\n",
        " '__contains__',\n",
        " '__delattr__',\n",
        " '__doc__',\n",
        " '__eq__',\n",
        " '__format__',\n",
        " '__ge__',\n",
        " '__getattribute__',\n",
        " '__getitem__',\n",
        " '__getnewargs__',\n",
        " '__getslice__',\n",
        " '__gt__',\n",
        " '__hash__',\n",
        " '__init__',\n",
        " '__le__',\n",
        " '__len__',\n",
        " '__lt__',\n",
        " '__mod__',\n",
        " '__mul__',\n",
        " '__ne__',\n",
        " '__new__',\n",
        " '__reduce__',\n",
        " '__reduce_ex__',\n",
        " '__repr__',\n",
        " '__rmod__',\n",
        " '__rmul__',\n",
        " '__setattr__',\n",
        " '__sizeof__',\n",
        " '__str__',\n",
        " '__subclasshook__',\n",
        " '_formatter_field_name_split',\n",
        " '_formatter_parser',\n",
        " 'capitalize',\n",
        " 'center',\n",
        " 'count',\n",
        " 'decode',\n",
        " 'encode',\n",
        " 'endswith',\n",
        " 'expandtabs',\n",
        " 'find',\n",
        " 'format',\n",
        " 'index',\n",
        " 'isalnum',\n",
        " 'isalpha',\n",
        " 'isdigit',\n",
        " 'islower',\n",
        " 'isspace',\n",
        " 'istitle',\n",
        " 'isupper',\n",
        " 'join',\n",
        " 'ljust',\n",
        " 'lower',\n",
        " 'lstrip',\n",
        " 'partition',\n",
        " 'replace',\n",
        " 'rfind',\n",
        " 'rindex',\n",
        " 'rjust',\n",
        " 'rpartition',\n",
        " 'rsplit',\n",
        " 'rstrip',\n",
        " 'split',\n",
        " 'splitlines',\n",
        " 'startswith',\n",
        " 'strip',\n",
        " 'swapcase',\n",
        " 'title',\n",
        " 'translate',\n",
        " 'upper',\n",
        " 'zfill']"
       ]
      }
     ],
     "prompt_number": 110
    },
    {
     "cell_type": "code",
     "collapsed": false,
     "input": [
      "greeting. #tab completion"
     ],
     "language": "python",
     "metadata": {},
     "outputs": []
    },
    {
     "cell_type": "markdown",
     "metadata": {},
     "source": [
      "Multi-line strings"
     ]
    },
    {
     "cell_type": "code",
     "collapsed": false,
     "input": [
      "#strings in triple quote retain line breaks\n",
      "a = \"\"\"first line\n",
      "second line\n",
      "third line\"\"\"\n",
      "print a"
     ],
     "language": "python",
     "metadata": {},
     "outputs": [
      {
       "output_type": "stream",
       "stream": "stdout",
       "text": [
        "first line\n",
        "second line\n",
        "third line\n"
       ]
      }
     ],
     "prompt_number": 111
    },
    {
     "cell_type": "markdown",
     "metadata": {},
     "source": [
      "Multi-line with parentheses"
     ]
    },
    {
     "cell_type": "code",
     "collapsed": false,
     "input": [
      "#group strings using parentheses\n",
      "a = (\"first line\"\n",
      "     \" also\"\n",
      "     \" first line\")\n",
      "print a"
     ],
     "language": "python",
     "metadata": {},
     "outputs": [
      {
       "output_type": "stream",
       "stream": "stdout",
       "text": [
        "first line also first line\n"
       ]
      }
     ],
     "prompt_number": 113
    },
    {
     "cell_type": "markdown",
     "metadata": {},
     "source": [
      "New line character"
     ]
    },
    {
     "cell_type": "code",
     "collapsed": false,
     "input": [
      "#the \\ character means line continuation. \n",
      "#Be careful because it must be the last character on the line\n",
      "a = \"first line \" \\\n",
      "    \" new line\"\n",
      "print a\n",
      "\n",
      "#b = \"first line \" \\ \"next line\""
     ],
     "language": "python",
     "metadata": {},
     "outputs": [
      {
       "output_type": "stream",
       "stream": "stdout",
       "text": [
        "first line  new line\n"
       ]
      }
     ],
     "prompt_number": 114
    },
    {
     "cell_type": "heading",
     "level": 3,
     "metadata": {},
     "source": [
      "String formatting"
     ]
    },
    {
     "cell_type": "markdown",
     "metadata": {},
     "source": [
      "The format() method replace the replacement fields in the string with values given as arguments. Any other text in the string remains unchanged."
     ]
    },
    {
     "cell_type": "code",
     "collapsed": false,
     "input": [
      "'{0:2d}-{1}: {name}, ${price:.2f}'.format(7, 19, name='SC1', price=3.4)"
     ],
     "language": "python",
     "metadata": {},
     "outputs": [
      {
       "output_type": "pyout",
       "prompt_number": 115,
       "text": [
        "' 7-19: SC1, $3.40'"
       ]
      }
     ],
     "prompt_number": 115
    },
    {
     "cell_type": "markdown",
     "metadata": {},
     "source": [
      "str.format(*args, **kwargs)\n",
      "\n",
      "*Delimited by curly brackets. Use {{and}} to include curly brackets in the output\n",
      "\n",
      "* If field_name is an integer, it refers to a position in the positional arguments:\n",
      "\n",
      "> '{0} is greater than {1}'.format(100,50)\n",
      "\n",
      "* If field_name is a name, it refers to a keyword argument:\n",
      "    \n",
      "> '{last}, {first}'.format(first='Ellen', last = 'Ripley')"
     ]
    },
    {
     "cell_type": "heading",
     "level": 3,
     "metadata": {},
     "source": [
      "String formatting - examples"
     ]
    },
    {
     "cell_type": "code",
     "collapsed": false,
     "input": [
      "#Basic sting formatting\n",
      "print ' {} {} {}'.format('a','b','c')"
     ],
     "language": "python",
     "metadata": {},
     "outputs": [
      {
       "output_type": "stream",
       "stream": "stdout",
       "text": [
        " a b c\n"
       ]
      }
     ],
     "prompt_number": 116
    },
    {
     "cell_type": "code",
     "collapsed": false,
     "input": [
      "#Numbered fields refer to the position of the arguments\n",
      "print '{2} {1} {0}'.format('a','b','c')"
     ],
     "language": "python",
     "metadata": {},
     "outputs": [
      {
       "output_type": "stream",
       "stream": "stdout",
       "text": [
        "c b a\n"
       ]
      }
     ],
     "prompt_number": 117
    },
    {
     "cell_type": "code",
     "collapsed": false,
     "input": [
      "#Named fields refer to keyword arguments\n",
      "print '{color} {n} {x}'.format(n=10, x=1.5, color='blue')"
     ],
     "language": "python",
     "metadata": {},
     "outputs": [
      {
       "output_type": "stream",
       "stream": "stdout",
       "text": [
        "blue 10 1.5\n"
       ]
      }
     ],
     "prompt_number": 118
    },
    {
     "cell_type": "code",
     "collapsed": false,
     "input": [
      "#Positional and keyword arguments can be combined\n",
      "print '{color} {0} {x} {1}'.format(x=1.5,color='blue',10,'something')"
     ],
     "language": "python",
     "metadata": {},
     "outputs": [
      {
       "ename": "SyntaxError",
       "evalue": "non-keyword arg after keyword arg (<ipython-input-120-59b092cfe909>, line 2)",
       "output_type": "pyerr",
       "traceback": [
        "\u001b[0;36m  File \u001b[0;32m\"<ipython-input-120-59b092cfe909>\"\u001b[0;36m, line \u001b[0;32m2\u001b[0m\n\u001b[0;31m    print '{color} {0} {x} {1}'.format(x=1.5,color='blue',10,'something')\u001b[0m\n\u001b[0;31mSyntaxError\u001b[0m\u001b[0;31m:\u001b[0m non-keyword arg after keyword arg\n"
       ]
      }
     ],
     "prompt_number": 120
    },
    {
     "cell_type": "code",
     "collapsed": false,
     "input": [
      "#formatting with %\n",
      "# the % operator formats values to strings using C conventions\n",
      "s = \"some numbers:\"\n",
      "x = 1.23\n",
      "y = 4\n",
      "t = \"%s %f %d\" % (s,x,y)\n",
      "t"
     ],
     "language": "python",
     "metadata": {},
     "outputs": [
      {
       "output_type": "pyout",
       "prompt_number": 123,
       "text": [
        "'some numbers: 1.230000 4'"
       ]
      }
     ],
     "prompt_number": 123
    },
    {
     "cell_type": "code",
     "collapsed": false,
     "input": [
      "y = -2.1\n",
      "print \"%f\\n%f\" % (x,y)"
     ],
     "language": "python",
     "metadata": {},
     "outputs": [
      {
       "output_type": "stream",
       "stream": "stdout",
       "text": [
        "1.230000\n",
        "-2.100000\n"
       ]
      }
     ],
     "prompt_number": 124
    },
    {
     "cell_type": "code",
     "collapsed": false,
     "input": [
      "print \"% f\\n%f\" % (x,y)"
     ],
     "language": "python",
     "metadata": {},
     "outputs": [
      {
       "output_type": "stream",
       "stream": "stdout",
       "text": [
        " 1.230000\n",
        "-2.100000\n"
       ]
      }
     ],
     "prompt_number": 125
    },
    {
     "cell_type": "code",
     "collapsed": false,
     "input": [
      "print \"%4.2f\" % x"
     ],
     "language": "python",
     "metadata": {},
     "outputs": [
      {
       "output_type": "stream",
       "stream": "stdout",
       "text": [
        "1.23\n"
       ]
      }
     ],
     "prompt_number": 126
    },
    {
     "cell_type": "markdown",
     "metadata": {},
     "source": [
      "* d or i     Signed integer decimal\n",
      "\n",
      "* o          Unsigned octal\n",
      "\n",
      "* u          Unsigned decimal\n",
      "\n",
      "* x          Unsigned hexadecimal (lowercase)\n",
      "\n",
      "* X          Unsigned hexadecimal (uppercase)\n",
      "\n",
      "* e          Floating point exponential format (lowercase) \n",
      "\n",
      "* E          Floating point exponential format (uppercase) \n",
      "\n",
      "* F or f     Floating point decimal format\n",
      "\n",
      "* G or g     Floating point format or exponential Single character\n",
      "\n",
      "* r          Converts object using repr() \n",
      "\n",
      "* s          Converts object using str()"
     ]
    },
    {
     "cell_type": "heading",
     "level": 3,
     "metadata": {},
     "source": [
      "Indexing strings"
     ]
    },
    {
     "cell_type": "code",
     "collapsed": false,
     "input": [
      "s = 'text'\n",
      "s[2]"
     ],
     "language": "python",
     "metadata": {},
     "outputs": [
      {
       "output_type": "pyout",
       "prompt_number": 135,
       "text": [
        "'x'"
       ]
      }
     ],
     "prompt_number": 135
    },
    {
     "cell_type": "code",
     "collapsed": false,
     "input": [
      "s[2:]"
     ],
     "language": "python",
     "metadata": {},
     "outputs": [
      {
       "output_type": "pyout",
       "prompt_number": 136,
       "text": [
        "'xt'"
       ]
      }
     ],
     "prompt_number": 136
    },
    {
     "cell_type": "code",
     "collapsed": false,
     "input": [
      "s[:-2]"
     ],
     "language": "python",
     "metadata": {},
     "outputs": [
      {
       "output_type": "pyout",
       "prompt_number": 138,
       "text": [
        "'te'"
       ]
      }
     ],
     "prompt_number": 138
    },
    {
     "cell_type": "heading",
     "level": 3,
     "metadata": {},
     "source": [
      "Lists and list methods"
     ]
    },
    {
     "cell_type": "code",
     "collapsed": false,
     "input": [
      "#create a list with square brackets\n",
      "a = [1,2,3,4,5,6]\n",
      "print a"
     ],
     "language": "python",
     "metadata": {},
     "outputs": [
      {
       "output_type": "stream",
       "stream": "stdout",
       "text": [
        "[1, 2, 3, 4, 5, 6]\n"
       ]
      }
     ],
     "prompt_number": 139
    },
    {
     "cell_type": "code",
     "collapsed": false,
     "input": [
      "#concatenating lists\n",
      "#simply use the + operator\n",
      "a = ['agile '] + ['geocomputing']\n",
      "print a\n",
      "len(a[0])"
     ],
     "language": "python",
     "metadata": {},
     "outputs": [
      {
       "output_type": "stream",
       "stream": "stdout",
       "text": [
        "['agile ', 'geocomputing']\n"
       ]
      },
      {
       "output_type": "pyout",
       "prompt_number": 148,
       "text": [
        "6"
       ]
      }
     ],
     "prompt_number": 148
    },
    {
     "cell_type": "code",
     "collapsed": false,
     "input": [
      "[1,2,3]+[4,5,6]"
     ],
     "language": "python",
     "metadata": {},
     "outputs": [
      {
       "output_type": "pyout",
       "prompt_number": 149,
       "text": [
        "[1, 2, 3, 4, 5, 6]"
       ]
      }
     ],
     "prompt_number": 149
    },
    {
     "cell_type": "code",
     "collapsed": false,
     "input": [
      "#repeating elements in lists\n",
      "# use the multiply operator\n",
      "[10,'matteo']*3"
     ],
     "language": "python",
     "metadata": {},
     "outputs": [
      {
       "output_type": "pyout",
       "prompt_number": 152,
       "text": [
        "[10, 'matteo', 10, 'matteo', 10, 'matteo']"
       ]
      }
     ],
     "prompt_number": 152
    },
    {
     "cell_type": "code",
     "collapsed": false,
     "input": [
      "#range(start,stop,step)\n",
      "#the range function is helpful for creating sequence\n",
      "range(5)"
     ],
     "language": "python",
     "metadata": {},
     "outputs": [
      {
       "output_type": "pyout",
       "prompt_number": 153,
       "text": [
        "[0, 1, 2, 3, 4]"
       ]
      }
     ],
     "prompt_number": 153
    },
    {
     "cell_type": "code",
     "collapsed": false,
     "input": [
      "range(2,13)"
     ],
     "language": "python",
     "metadata": {},
     "outputs": [
      {
       "output_type": "pyout",
       "prompt_number": 154,
       "text": [
        "[2, 3, 4, 5, 6, 7, 8, 9, 10, 11, 12]"
       ]
      }
     ],
     "prompt_number": 154
    },
    {
     "cell_type": "code",
     "collapsed": false,
     "input": [
      "range(2,13,2)"
     ],
     "language": "python",
     "metadata": {},
     "outputs": [
      {
       "output_type": "pyout",
       "prompt_number": 155,
       "text": [
        "[2, 4, 6, 8, 10, 12]"
       ]
      }
     ],
     "prompt_number": 155
    },
    {
     "cell_type": "heading",
     "level": 3,
     "metadata": {},
     "source": [
      "Indexing lists"
     ]
    },
    {
     "cell_type": "code",
     "collapsed": false,
     "input": [
      "#retrieving an element\n",
      "a[0]"
     ],
     "language": "python",
     "metadata": {},
     "outputs": [
      {
       "output_type": "pyout",
       "prompt_number": 156,
       "text": [
        "'agile '"
       ]
      }
     ],
     "prompt_number": 156
    },
    {
     "cell_type": "code",
     "collapsed": false,
     "input": [
      "#setting an elemnt\n",
      "a[1] = 'Geoscience'\n",
      "print a"
     ],
     "language": "python",
     "metadata": {},
     "outputs": [
      {
       "output_type": "stream",
       "stream": "stdout",
       "text": [
        "['agile ', 'Geoscience']\n"
       ]
      }
     ],
     "prompt_number": 158
    },
    {
     "cell_type": "code",
     "collapsed": false,
     "input": [
      "#negative indicies\n",
      "#cont backward from the end of the list\n",
      "a = a[-1]\n",
      "#a =[-2]\n",
      "#a = [-3]\n",
      "print a"
     ],
     "language": "python",
     "metadata": {},
     "outputs": [
      {
       "output_type": "stream",
       "stream": "stdout",
       "text": [
        "-1\n"
       ]
      }
     ],
     "prompt_number": 163
    },
    {
     "cell_type": "heading",
     "level": 3,
     "metadata": {},
     "source": [
      "Some list objects"
     ]
    },
    {
     "cell_type": "code",
     "collapsed": false,
     "input": [
      "#lists can contain anything\n",
      "a = [20,'thirty',[40,50],'sixty',70]\n",
      "a[0]"
     ],
     "language": "python",
     "metadata": {},
     "outputs": [
      {
       "output_type": "pyout",
       "prompt_number": 167,
       "text": [
        "20"
       ]
      }
     ],
     "prompt_number": 167
    },
    {
     "cell_type": "code",
     "collapsed": false,
     "input": [
      "a[2]"
     ],
     "language": "python",
     "metadata": {},
     "outputs": []
    },
    {
     "cell_type": "code",
     "collapsed": false,
     "input": [
      "#use multiple indicies to retrive elements from nested lists\n",
      "a[2][0]"
     ],
     "language": "python",
     "metadata": {},
     "outputs": [
      {
       "output_type": "pyout",
       "prompt_number": 168,
       "text": [
        "40"
       ]
      }
     ],
     "prompt_number": 168
    },
    {
     "cell_type": "code",
     "collapsed": false,
     "input": [
      "#length of a list\n",
      "len(a)"
     ],
     "language": "python",
     "metadata": {},
     "outputs": [
      {
       "output_type": "pyout",
       "prompt_number": 169,
       "text": [
        "5"
       ]
      }
     ],
     "prompt_number": 169
    },
    {
     "cell_type": "code",
     "collapsed": false,
     "input": [
      "#delete an object from a list\n",
      "#use the del keyword\n",
      "del a[2]\n",
      "a"
     ],
     "language": "python",
     "metadata": {},
     "outputs": [
      {
       "output_type": "pyout",
       "prompt_number": 170,
       "text": [
        "[20, 'thirty', 'sixty', 70]"
       ]
      }
     ],
     "prompt_number": 170
    },
    {
     "cell_type": "code",
     "collapsed": false,
     "input": [
      "#does this list contain 70?\n",
      "# use in or not in\n",
      "'70' in '257056'"
     ],
     "language": "python",
     "metadata": {},
     "outputs": [
      {
       "output_type": "pyout",
       "prompt_number": 178,
       "text": [
        "True"
       ]
      }
     ],
     "prompt_number": 178
    },
    {
     "cell_type": "code",
     "collapsed": false,
     "input": [
      "70 not in a "
     ],
     "language": "python",
     "metadata": {},
     "outputs": [
      {
       "output_type": "pyout",
       "prompt_number": 172,
       "text": [
        "False"
       ]
      }
     ],
     "prompt_number": 172
    },
    {
     "cell_type": "heading",
     "level": 3,
     "metadata": {},
     "source": [
      "A few methods for lists objects"
     ]
    },
    {
     "cell_type": "code",
     "collapsed": false,
     "input": [
      "* some_list.append(x) - add the element x to the end of the list \"some list\"\n",
      "\n",
      "* some_list.count(x) - count the number of times x occurs in the list\n",
      "\n",
      "* some_list.extend(sequence) - concatenate sequence onto this list\n",
      "\n",
      "* some_list.index(x) - return the index of the first occurence of x in the list\n",
      "\n",
      "* some_list.insert (index, x) - insert x before the specified index\n",
      "\n",
      "* some_list.pop(index) - return the element at the specified index. Also, remove it from the list\n",
      "\n",
      "* some_list.remove(x) - delete the first occurence of x from the list\n",
      "\n",
      "* some_list.reverse(x) - reverse the order of elements in the list\n",
      "\n",
      "* some_list.sort(x) - by default, sort the elements in ascending order. If a compare function is given, use it to sort the list."
     ],
     "language": "python",
     "metadata": {},
     "outputs": []
    },
    {
     "cell_type": "code",
     "collapsed": false,
     "input": [],
     "language": "python",
     "metadata": {},
     "outputs": []
    },
    {
     "cell_type": "code",
     "collapsed": false,
     "input": [
      "#Mutable objects, such as list can be changed in place"
     ],
     "language": "python",
     "metadata": {},
     "outputs": []
    },
    {
     "cell_type": "code",
     "collapsed": false,
     "input": [
      "a [1:3] = [5,6]"
     ],
     "language": "python",
     "metadata": {},
     "outputs": []
    },
    {
     "cell_type": "heading",
     "level": 3,
     "metadata": {},
     "source": [
      "Tuples (mutable versus immutable)"
     ]
    },
    {
     "cell_type": "code",
     "collapsed": false,
     "input": [
      "#tuple can be changed (makes sense for things that go well together)\n",
      "a = range(10,15)\n",
      "#cast the list to a tuple\n",
      "b = tuple(a)\n",
      "print (b)\n",
      "#try inserting a value\n",
      "b[3] = 23"
     ],
     "language": "python",
     "metadata": {},
     "outputs": []
    },
    {
     "cell_type": "heading",
     "level": 3,
     "metadata": {},
     "source": [
      "Dictionaries"
     ]
    },
    {
     "cell_type": "markdown",
     "metadata": {},
     "source": [
      "Dictionaries store key / value pairs. Indexing a dictionary by a key returns the value associated with it. The key must be immutable."
     ]
    },
    {
     "cell_type": "code",
     "collapsed": false,
     "input": [
      "#create an empty dictionary using curly brackets\n",
      "record = {}"
     ],
     "language": "python",
     "metadata": {},
     "outputs": []
    },
    {
     "cell_type": "code",
     "collapsed": false,
     "input": [
      "#Each indexed assignment creates a new key/value pair.\n",
      "record['first'] = 'Doug'\n",
      "record['last'] = 'Suttles'\n",
      "record['hired'] = 2013\n",
      "print record"
     ],
     "language": "python",
     "metadata": {},
     "outputs": []
    },
    {
     "cell_type": "code",
     "collapsed": false,
     "input": [
      "#acessing and deleting keys and values\n",
      "\n",
      "#accesing using index notation\n",
      "print record['first']\n",
      "\n",
      "#access with get(key,default)\n",
      "\n",
      "#The get() method returns the value associated with a key; the optional second argument is the retunr value if the key is not in the dictionary\n",
      "\n",
      "record.get('hired',0)\n",
      "\n",
      "#remove an entry with del\n",
      "del record['hired']\n",
      "\n",
      "#remove with pop(key,default)\n",
      "#pop() remove the key from the dictionary and returns the value; the optional second argument is the return value if the key is not in the dictionary\n",
      "\n",
      "record.pop('last',0)"
     ],
     "language": "python",
     "metadata": {},
     "outputs": []
    },
    {
     "cell_type": "heading",
     "level": 3,
     "metadata": {},
     "source": [
      "Dictionary methods"
     ]
    },
    {
     "cell_type": "markdown",
     "metadata": {},
     "source": [
      "* some_dict.clear()\n",
      "\n",
      "* some_dict.cop()\n",
      "\n",
      "* x in some_dict\n",
      "\n",
      "* some_dict.keys()\n",
      "\n",
      "* some_dict.values()\n",
      "\n",
      "* some_dict.items()"
     ]
    },
    {
     "cell_type": "heading",
     "level": 3,
     "metadata": {},
     "source": [
      "Set objects"
     ]
    },
    {
     "cell_type": "markdown",
     "metadata": {},
     "source": [
      "A set is an unordered collection of unique immutable objects"
     ]
    },
    {
     "cell_type": "code",
     "collapsed": false,
     "input": [
      "#create an empty set\n",
      "s = set()"
     ],
     "language": "python",
     "metadata": {},
     "outputs": []
    },
    {
     "cell_type": "code",
     "collapsed": false,
     "input": [
      "#convert a sequence to a set\n",
      "t = set( [1,2,3,4,1] )\n",
      "#note the removal of the duplicates\n",
      "t"
     ],
     "language": "python",
     "metadata": {},
     "outputs": []
    },
    {
     "cell_type": "code",
     "collapsed": false,
     "input": [
      "#add elements\n",
      "t.add(5)"
     ],
     "language": "python",
     "metadata": {},
     "outputs": []
    },
    {
     "cell_type": "code",
     "collapsed": false,
     "input": [
      "t.update([5,6,7])"
     ],
     "language": "python",
     "metadata": {},
     "outputs": []
    },
    {
     "cell_type": "code",
     "collapsed": false,
     "input": [
      "#remove elements\n",
      "t.remove(1)"
     ],
     "language": "python",
     "metadata": {},
     "outputs": []
    },
    {
     "cell_type": "code",
     "collapsed": false,
     "input": [
      "#remove an element from the list if it exists\n",
      "t.discard(3)"
     ],
     "language": "python",
     "metadata": {},
     "outputs": []
    },
    {
     "cell_type": "code",
     "collapsed": false,
     "input": [
      "#otherwise do nothing\n",
      "t.discard(20)"
     ],
     "language": "python",
     "metadata": {},
     "outputs": []
    },
    {
     "cell_type": "code",
     "collapsed": false,
     "input": [],
     "language": "python",
     "metadata": {},
     "outputs": []
    },
    {
     "cell_type": "heading",
     "level": 3,
     "metadata": {},
     "source": [
      "Set operations"
     ]
    },
    {
     "cell_type": "code",
     "collapsed": false,
     "input": [
      "#union of two things with interacting elements\n",
      "\n",
      "#Do an exercise doing set operations with lists, then do it with unions\n",
      "\n",
      "#Turns out there is an awesome way to do it with sets"
     ],
     "language": "python",
     "metadata": {},
     "outputs": []
    },
    {
     "cell_type": "code",
     "collapsed": false,
     "input": [
      "a = set([1,2,3,4])\n",
      "b = set([3,4,5,6])\n",
      "a.union(b)"
     ],
     "language": "python",
     "metadata": {},
     "outputs": []
    },
    {
     "cell_type": "code",
     "collapsed": false,
     "input": [
      "a | b"
     ],
     "language": "python",
     "metadata": {},
     "outputs": []
    },
    {
     "cell_type": "code",
     "collapsed": false,
     "input": [
      "a.intersection(b)"
     ],
     "language": "python",
     "metadata": {},
     "outputs": []
    },
    {
     "cell_type": "code",
     "collapsed": false,
     "input": [
      "a & b"
     ],
     "language": "python",
     "metadata": {},
     "outputs": []
    },
    {
     "cell_type": "code",
     "collapsed": false,
     "input": [
      "a.difference(b)"
     ],
     "language": "python",
     "metadata": {},
     "outputs": []
    },
    {
     "cell_type": "code",
     "collapsed": false,
     "input": [
      "a - b"
     ],
     "language": "python",
     "metadata": {},
     "outputs": []
    },
    {
     "cell_type": "code",
     "collapsed": false,
     "input": [
      "a.symmetric_differece(b)"
     ],
     "language": "python",
     "metadata": {},
     "outputs": []
    },
    {
     "cell_type": "code",
     "collapsed": false,
     "input": [
      "a ^ b #xor"
     ],
     "language": "python",
     "metadata": {},
     "outputs": []
    },
    {
     "cell_type": "code",
     "collapsed": false,
     "input": [
      "c = set([1,2,3])\n",
      "d = set([1,2])"
     ],
     "language": "python",
     "metadata": {},
     "outputs": []
    },
    {
     "cell_type": "code",
     "collapsed": false,
     "input": [
      "#is d fully contained in c?\n",
      "d.issubset(c)"
     ],
     "language": "python",
     "metadata": {},
     "outputs": []
    },
    {
     "cell_type": "code",
     "collapsed": false,
     "input": [
      "d <= c"
     ],
     "language": "python",
     "metadata": {},
     "outputs": []
    },
    {
     "cell_type": "code",
     "collapsed": false,
     "input": [
      "#does a fully contain b?\n",
      "d.issuperset(c)"
     ],
     "language": "python",
     "metadata": {},
     "outputs": []
    },
    {
     "cell_type": "heading",
     "level": 3,
     "metadata": {},
     "source": [
      "Assignment of a \"simple\" object"
     ]
    },
    {
     "cell_type": "code",
     "collapsed": false,
     "input": [
      "#assignment creates object references\n",
      "a = ['apples', 'oranges', 'pears']\n",
      "a"
     ],
     "language": "python",
     "metadata": {},
     "outputs": [
      {
       "output_type": "pyout",
       "prompt_number": 9,
       "text": [
        "['apples', 'oranges', 'pears']"
       ]
      }
     ],
     "prompt_number": 9
    },
    {
     "cell_type": "code",
     "collapsed": false,
     "input": [
      "a[0]"
     ],
     "language": "python",
     "metadata": {},
     "outputs": []
    },
    {
     "cell_type": "markdown",
     "metadata": {},
     "source": [
      "unlike MATLAB, indexing starts at 0, not 1."
     ]
    },
    {
     "cell_type": "code",
     "collapsed": false,
     "input": [
      "a[1]"
     ],
     "language": "python",
     "metadata": {},
     "outputs": []
    },
    {
     "cell_type": "code",
     "collapsed": false,
     "input": [
      "a[2]"
     ],
     "language": "python",
     "metadata": {},
     "outputs": []
    },
    {
     "cell_type": "markdown",
     "metadata": {},
     "source": [
      "We can assign a new variable,"
     ]
    },
    {
     "cell_type": "code",
     "collapsed": false,
     "input": [
      "b = a"
     ],
     "language": "python",
     "metadata": {},
     "outputs": [],
     "prompt_number": 10
    },
    {
     "cell_type": "code",
     "collapsed": false,
     "input": [
      "but this is only a reference to \"a\". If you make a change to b, you also change a"
     ],
     "language": "python",
     "metadata": {},
     "outputs": []
    },
    {
     "cell_type": "code",
     "collapsed": false,
     "input": [
      "b[2] = 'plums'\n",
      "a"
     ],
     "language": "python",
     "metadata": {},
     "outputs": [
      {
       "output_type": "pyout",
       "prompt_number": 11,
       "text": [
        "['apples', 'oranges', 'plums']"
       ]
      }
     ],
     "prompt_number": 11
    },
    {
     "cell_type": "code",
     "collapsed": false,
     "input": [
      "Alternately, if we do the following,"
     ],
     "language": "python",
     "metadata": {},
     "outputs": []
    },
    {
     "cell_type": "code",
     "collapsed": false,
     "input": [
      "c = a[:]"
     ],
     "language": "python",
     "metadata": {},
     "outputs": []
    },
    {
     "cell_type": "code",
     "collapsed": false,
     "input": [
      "we get what is called a top-level (shallow) copy of a"
     ],
     "language": "python",
     "metadata": {},
     "outputs": []
    },
    {
     "cell_type": "code",
     "collapsed": false,
     "input": [
      "c[2] = 'bananas'\n",
      "a"
     ],
     "language": "python",
     "metadata": {},
     "outputs": []
    },
    {
     "cell_type": "heading",
     "level": 3,
     "metadata": {},
     "source": [
      "if statements"
     ]
    },
    {
     "cell_type": "code",
     "collapsed": false,
     "input": [
      "if test:\n",
      "    suite 1\n",
      "if test:\n",
      "    suite 2\n",
      "else test:\n",
      "    suite 3\n"
     ],
     "language": "python",
     "metadata": {},
     "outputs": []
    },
    {
     "cell_type": "markdown",
     "metadata": {},
     "source": [
      "The if statement selects from one or more actions (statement blocks), and runs the suite associated with the first if or elif (else if) test that is true, or the else suite if all other statement blocks are false."
     ]
    },
    {
     "cell_type": "heading",
     "level": 3,
     "metadata": {},
     "source": [
      "while loops"
     ]
    },
    {
     "cell_type": "code",
     "collapsed": false,
     "input": [
      "#while loops iterate until a condition is met\n",
      "#while <condition>:\n",
      "#    <statement>"
     ],
     "language": "python",
     "metadata": {},
     "outputs": []
    },
    {
     "cell_type": "code",
     "collapsed": false,
     "input": [
      "lst = range(3)\n",
      "while lst:\n",
      "    print lst\n",
      "    lst = lst[1:]"
     ],
     "language": "python",
     "metadata": {},
     "outputs": [
      {
       "output_type": "stream",
       "stream": "stdout",
       "text": [
        "[0, 1, 2]\n",
        "[1, 2]\n",
        "[2]\n"
       ]
      }
     ],
     "prompt_number": 179
    },
    {
     "cell_type": "code",
     "collapsed": false,
     "input": [
      "#breaking out of a loop\n",
      "lst=0\n",
      "while True:\n",
      "    if i < 3:\n",
      "        print i,\n",
      "    else:\n",
      "        break\n",
      "    i = i + 1\n",
      "    #hit return"
     ],
     "language": "python",
     "metadata": {},
     "outputs": [
      {
       "ename": "NameError",
       "evalue": "name 'i' is not defined",
       "output_type": "pyerr",
       "traceback": [
        "\u001b[0;31m---------------------------------------------------------------------------\u001b[0m\n\u001b[0;31mNameError\u001b[0m                                 Traceback (most recent call last)",
        "\u001b[0;32m<ipython-input-181-31009703b917>\u001b[0m in \u001b[0;36m<module>\u001b[0;34m()\u001b[0m\n\u001b[1;32m      2\u001b[0m \u001b[0mlst\u001b[0m\u001b[0;34m=\u001b[0m\u001b[0;36m0\u001b[0m\u001b[0;34m\u001b[0m\u001b[0m\n\u001b[1;32m      3\u001b[0m \u001b[0;32mwhile\u001b[0m \u001b[0mTrue\u001b[0m\u001b[0;34m:\u001b[0m\u001b[0;34m\u001b[0m\u001b[0m\n\u001b[0;32m----> 4\u001b[0;31m     \u001b[0;32mif\u001b[0m \u001b[0mi\u001b[0m \u001b[0;34m<\u001b[0m \u001b[0;36m3\u001b[0m\u001b[0;34m:\u001b[0m\u001b[0;34m\u001b[0m\u001b[0m\n\u001b[0m\u001b[1;32m      5\u001b[0m         \u001b[0;32mprint\u001b[0m \u001b[0mi\u001b[0m\u001b[0;34m,\u001b[0m\u001b[0;34m\u001b[0m\u001b[0m\n\u001b[1;32m      6\u001b[0m     \u001b[0;32melse\u001b[0m\u001b[0;34m:\u001b[0m\u001b[0;34m\u001b[0m\u001b[0m\n",
        "\u001b[0;31mNameError\u001b[0m: name 'i' is not defined"
       ]
      }
     ],
     "prompt_number": 181
    },
    {
     "cell_type": "heading",
     "level": 3,
     "metadata": {},
     "source": [
      "for loops"
     ]
    },
    {
     "cell_type": "code",
     "collapsed": false,
     "input": [
      "#write a for loop range(10)\n",
      "x = range(10)\n",
      "for n in x:\n",
      "    n = n**2\n",
      "    x.append(n)\n",
      "x"
     ],
     "language": "python",
     "metadata": {},
     "outputs": [
      {
       "output_type": "pyout",
       "prompt_number": 183,
       "text": [
        "[0, 1, 2, 3, 4, 5, 6, 7, 8, 9]"
       ]
      }
     ],
     "prompt_number": 183
    },
    {
     "cell_type": "code",
     "collapsed": false,
     "input": [
      "#example\n",
      "integers = [1,2,3,4,5,6,7,8,9]\n",
      "\n",
      "summation=[]\n",
      "temp = 0\n",
      "for i in integers:\n",
      "    temp = temp + i\n",
      "    summation.append(temp)\n",
      "\n",
      "summation\n"
     ],
     "language": "python",
     "metadata": {},
     "outputs": [
      {
       "output_type": "pyout",
       "prompt_number": 184,
       "text": [
        "[1, 3, 6, 10, 15, 21, 28, 36, 45]"
       ]
      }
     ],
     "prompt_number": 184
    },
    {
     "cell_type": "heading",
     "level": 3,
     "metadata": {},
     "source": [
      "List comprehension"
     ]
    },
    {
     "cell_type": "code",
     "collapsed": false,
     "input": [
      "a = [x **2 for x in range(10)]\n",
      "a"
     ],
     "language": "python",
     "metadata": {},
     "outputs": [
      {
       "output_type": "pyout",
       "prompt_number": 187,
       "text": [
        "[0, 1, 4, 9, 16, 25, 36, 49, 64, 81]"
       ]
      }
     ],
     "prompt_number": 187
    },
    {
     "cell_type": "code",
     "collapsed": false,
     "input": [],
     "language": "python",
     "metadata": {},
     "outputs": []
    },
    {
     "cell_type": "code",
     "collapsed": false,
     "input": [
      "[t / 1000. for t in range(5) ]"
     ],
     "language": "python",
     "metadata": {},
     "outputs": []
    },
    {
     "cell_type": "heading",
     "level": 3,
     "metadata": {},
     "source": [
      "Looping patterns"
     ]
    },
    {
     "cell_type": "code",
     "collapsed": false,
     "input": [
      "for c in 'string':\n",
      "    print c"
     ],
     "language": "python",
     "metadata": {},
     "outputs": [
      {
       "output_type": "stream",
       "stream": "stdout",
       "text": [
        "s\n",
        "t\n",
        "r\n",
        "i\n",
        "n\n",
        "g\n"
       ]
      }
     ],
     "prompt_number": 188
    },
    {
     "cell_type": "heading",
     "level": 3,
     "metadata": {},
     "source": [
      "Looping over dictionaries"
     ]
    },
    {
     "cell_type": "code",
     "collapsed": false,
     "input": [
      "# Looping through a sequence of \n",
      "# tuples allow multiple variables to be assigned\n",
      "pairs = [ (3,(10,20,30)),(2,20),(3,30) ]\n",
      "for index, value in pairs:\n",
      "    print index*value"
     ],
     "language": "python",
     "metadata": {},
     "outputs": [
      {
       "output_type": "stream",
       "stream": "stdout",
       "text": [
        "(10, 20, 30, 10, 20, 30, 10, 20, 30)\n",
        "40\n",
        "90\n"
       ]
      }
     ],
     "prompt_number": 193
    },
    {
     "cell_type": "code",
     "collapsed": false,
     "input": [
      "# enumerate -> index, item.\n",
      "y = ['a', 'b', 'c']\n",
      "for index, value in enumerate(y): \n",
      "    print index,value\n"
     ],
     "language": "python",
     "metadata": {},
     "outputs": [
      {
       "output_type": "stream",
       "stream": "stdout",
       "text": [
        "0 a\n",
        "1 b\n",
        "2 c\n"
       ]
      }
     ],
     "prompt_number": 197
    },
    {
     "cell_type": "code",
     "collapsed": false,
     "input": [
      "# zip 2 or more sequences # into a list of tuples \n",
      "x = [0, 1, 2]\n",
      "y = ['a', 'b', 'c'] \n",
      "zip(x,y)\n",
      "[(0,'a'), (1,'b'), (2,'c')]\n",
      "for cdp, trace in zip(x,y): \n",
      "    print cdp, trace\n"
     ],
     "language": "python",
     "metadata": {},
     "outputs": [
      {
       "output_type": "stream",
       "stream": "stdout",
       "text": [
        "0 a\n",
        "1 b\n",
        "2 c\n"
       ]
      }
     ],
     "prompt_number": 198
    },
    {
     "cell_type": "code",
     "collapsed": false,
     "input": [
      "#REVERSED\n",
      "z = [(0,'a'),(1,'b'),(2,'c')] \n",
      "for index, value in reversed(z):\n",
      "    print index, value"
     ],
     "language": "python",
     "metadata": {},
     "outputs": [
      {
       "output_type": "stream",
       "stream": "stdout",
       "text": [
        "2 c\n",
        "1 b\n",
        "0 a\n"
       ]
      }
     ],
     "prompt_number": 199
    },
    {
     "cell_type": "code",
     "collapsed": false,
     "input": [
      "d = {'IL':1, 'XL':2, 'ZZ':3}\n",
      "for key in d:\n",
      "    print key, d[key]"
     ],
     "language": "python",
     "metadata": {},
     "outputs": [
      {
       "output_type": "stream",
       "stream": "stdout",
       "text": [
        "ZZ 3\n",
        "IL 1\n",
        "XL 2\n"
       ]
      }
     ],
     "prompt_number": 201
    },
    {
     "cell_type": "code",
     "collapsed": false,
     "input": [
      "for key in d.keys():\n",
      "    print key, d[key]"
     ],
     "language": "python",
     "metadata": {},
     "outputs": [
      {
       "output_type": "stream",
       "stream": "stdout",
       "text": [
        "ZZ 3\n",
        "IL 1\n",
        "XL 2\n"
       ]
      }
     ],
     "prompt_number": 202
    },
    {
     "cell_type": "code",
     "collapsed": false,
     "input": [
      "for val in d.values():\n",
      "    print val"
     ],
     "language": "python",
     "metadata": {},
     "outputs": [
      {
       "output_type": "stream",
       "stream": "stdout",
       "text": [
        "3\n",
        "1\n",
        "2\n"
       ]
      }
     ],
     "prompt_number": 203
    },
    {
     "cell_type": "code",
     "collapsed": false,
     "input": [
      "for key, val in d.items():\n",
      "    print key, val"
     ],
     "language": "python",
     "metadata": {},
     "outputs": [
      {
       "output_type": "stream",
       "stream": "stdout",
       "text": [
        "ZZ 3\n",
        "IL 1\n",
        "XL 2\n"
       ]
      }
     ],
     "prompt_number": 204
    },
    {
     "cell_type": "heading",
     "level": 3,
     "metadata": {},
     "source": [
      "Sorting"
     ]
    },
    {
     "cell_type": "code",
     "collapsed": false,
     "input": [
      "#write sort function before going .sort"
     ],
     "language": "python",
     "metadata": {},
     "outputs": []
    },
    {
     "cell_type": "heading",
     "level": 2,
     "metadata": {},
     "source": [
      "Modules"
     ]
    },
    {
     "cell_type": "markdown",
     "metadata": {},
     "source": [
      "A Python file can be used as a script, or as a module, or both\n",
      "\n",
      "#### import Variations\n",
      "\n",
      "* basic imports\n",
      "\n",
      "* aliasing a name\n",
      "\n",
      "* importing specific symbols\n",
      "\n",
      "* importing everything\n",
      "\n",
      "* Packages\n",
      "\n",
      "* file structure\n",
      "\n",
      "#### Setting up PYTHONPATH\n",
      "\n",
      "* Reading files\n",
      "\n",
      "* Writing files"
     ]
    },
    {
     "cell_type": "heading",
     "level": 3,
     "metadata": {},
     "source": [
      "A very simple program"
     ]
    },
    {
     "cell_type": "markdown",
     "metadata": {},
     "source": [
      "-read from a file \n",
      "\n",
      "-do something\n",
      "\n",
      "-then plot it\n",
      "\n",
      "Then unpack the bits\n",
      "\n",
      "-file handling (open a file using the WITH statement. Better than f = open (file, 'r'), have to remember to close it.\n",
      "\n",
      "-variable assignment\n",
      "\n",
      "-lists,\n",
      "\n",
      "-dictionaries,\n",
      "\n",
      "-math,\n",
      "\n",
      "-arrays\n",
      "\n",
      "-plotting"
     ]
    },
    {
     "cell_type": "heading",
     "level": 2,
     "metadata": {},
     "source": [
      "NumPy and SciPy"
     ]
    },
    {
     "cell_type": "markdown",
     "metadata": {},
     "source": [
      "These are toolboxes or libraries (but there are thousands of them, an incredible ecosystem for all this)\n",
      "\n",
      "- NumPy (Data Structure Core) NDArray - array data structures allow us to look at numeric data very seriously, and UFunc - fast array math operations.\n",
      "- SciPy ( Scientific Algorithms )\n",
      "\n",
      "Helpful sites: http://docs.scipy.org/docs\n",
      "               scipy.org/Numpy_Examples_List_With_Doc (what are all the functions)        "
     ]
    },
    {
     "cell_type": "markdown",
     "metadata": {},
     "source": [
      "Import NumPy"
     ]
    },
    {
     "cell_type": "code",
     "collapsed": false,
     "input": [
      "from numpy import * "
     ],
     "language": "python",
     "metadata": {},
     "outputs": [],
     "prompt_number": 30
    },
    {
     "cell_type": "markdown",
     "metadata": {},
     "source": [
      "\"it's very bad manners to do this at the top of your scripts\""
     ]
    },
    {
     "cell_type": "code",
     "collapsed": false,
     "input": [
      "from numpy import #now put the name of the functions you are going to use"
     ],
     "language": "python",
     "metadata": {},
     "outputs": []
    },
    {
     "cell_type": "heading",
     "level": 3,
     "metadata": {},
     "source": [
      "Arrays, indexing and slicing"
     ]
    },
    {
     "cell_type": "markdown",
     "metadata": {},
     "source": [
      "This is a list"
     ]
    },
    {
     "cell_type": "code",
     "collapsed": false,
     "input": [
      "a = [1,2,3]\n",
      "a"
     ],
     "language": "python",
     "metadata": {},
     "outputs": [],
     "prompt_number": 31
    },
    {
     "cell_type": "markdown",
     "metadata": {},
     "source": [
      "this is an array."
     ]
    },
    {
     "cell_type": "code",
     "collapsed": false,
     "input": [
      "array(a)"
     ],
     "language": "python",
     "metadata": {},
     "outputs": [],
     "prompt_number": 31
    },
    {
     "cell_type": "markdown",
     "metadata": {},
     "source": [
      "This is not a list, it's a tuple:"
     ]
    },
    {
     "cell_type": "code",
     "collapsed": false,
     "input": [
      "b = (1,2,3)"
     ],
     "language": "python",
     "metadata": {},
     "outputs": []
    },
    {
     "cell_type": "code",
     "collapsed": false,
     "input": [
      "print array(b)"
     ],
     "language": "python",
     "metadata": {},
     "outputs": []
    },
    {
     "cell_type": "markdown",
     "metadata": {},
     "source": [
      "and I get exactly the same thing. Array is a casting operation that can take any sequence and cast it into an array.\n",
      "\n",
      "If we do <code>arange</code>, this is the same thing as range, except it makes an array instead of a list."
     ]
    },
    {
     "cell_type": "code",
     "collapsed": false,
     "input": [
      "a = arange(11.)\n",
      "a"
     ],
     "language": "python",
     "metadata": {},
     "outputs": []
    },
    {
     "cell_type": "markdown",
     "metadata": {},
     "source": [
      "This gives me a slightly different result than,"
     ]
    },
    {
     "cell_type": "code",
     "collapsed": false,
     "input": [
      "a = arange(11)\n",
      "a"
     ],
     "language": "python",
     "metadata": {},
     "outputs": []
    },
    {
     "cell_type": "code",
     "collapsed": false,
     "input": [
      "type(11.)"
     ],
     "language": "python",
     "metadata": {},
     "outputs": []
    },
    {
     "cell_type": "code",
     "collapsed": false,
     "input": [
      "type(11)"
     ],
     "language": "python",
     "metadata": {},
     "outputs": []
    },
    {
     "cell_type": "heading",
     "level": 3,
     "metadata": {},
     "source": [
      "Array operations"
     ]
    },
    {
     "cell_type": "code",
     "collapsed": false,
     "input": [
      "a = array((1,2,3))"
     ],
     "language": "python",
     "metadata": {},
     "outputs": []
    },
    {
     "cell_type": "code",
     "collapsed": false,
     "input": [
      "b = array((2,3,4))"
     ],
     "language": "python",
     "metadata": {},
     "outputs": []
    },
    {
     "cell_type": "code",
     "collapsed": false,
     "input": [
      "a + 1"
     ],
     "language": "python",
     "metadata": {},
     "outputs": []
    },
    {
     "cell_type": "code",
     "collapsed": false,
     "input": [
      "a*b "
     ],
     "language": "python",
     "metadata": {},
     "outputs": []
    },
    {
     "cell_type": "code",
     "collapsed": false,
     "input": [
      "a**b \n",
      "#raise to the power of"
     ],
     "language": "python",
     "metadata": {},
     "outputs": []
    },
    {
     "cell_type": "heading",
     "level": 3,
     "metadata": {},
     "source": [
      "Slicing and indexing"
     ]
    },
    {
     "cell_type": "code",
     "collapsed": false,
     "input": [
      "#Slicing lists\n",
      "#indicies 0  1  2  3  4  5\n",
      "a  = array([[10,11,12,13,14],\n",
      "            [20,21,22,23,24]])\n",
      "# [10,11,12,13,14]\n",
      "\n",
      "print a.T\n",
      "\n",
      "b = a[1:,:]\n",
      "c = a[:-1,:]\n",
      "\n",
      "r = c-b\n",
      "\n",
      "#print a[-4:3]\n",
      "\n",
      "#omitting indices\n",
      "#omitted boundaries are assumed to be the beginning (or end ) of the list"
     ],
     "language": "python",
     "metadata": {},
     "outputs": []
    },
    {
     "cell_type": "code",
     "collapsed": false,
     "input": [
      "#grab the first three elements\n",
      "print a[:3]\n",
      "\n",
      "#last two elements of an array\n",
      "print a[-2:]\n",
      "\n",
      "#every other element (even values)\n",
      "print a[::2] #go to the \n",
      "\n",
      "#every other element (odd values)\n",
      "print a[1::2]"
     ],
     "language": "python",
     "metadata": {},
     "outputs": []
    },
    {
     "cell_type": "code",
     "collapsed": false,
     "input": [
      "#A bit of calculus\n",
      "z = array([5.,5.,5.,5.,5.,5.,6.,6.,6.,6.,6.,7.,7.,7.,7.,7.,6.,6.,6.,6.,6.,7.,7.,7.,7.,7.,7.,8.,8.,8.,8.,8.,8.,6.,6.,6.,6.,6.,7.,7.,7.,7.,7.,7.])\n",
      "upper = z[:-1] #takes all but the last element\n",
      "lower = z[1:] #takes all but the first element\n",
      "\n",
      "rc = (lower - upper) / (upper+lower)"
     ],
     "language": "python",
     "metadata": {},
     "outputs": [],
     "prompt_number": 90
    },
    {
     "cell_type": "code",
     "collapsed": false,
     "input": [
      "t = linspace(0.,len(rc),len(rc))"
     ],
     "language": "python",
     "metadata": {},
     "outputs": [],
     "prompt_number": 93
    },
    {
     "cell_type": "code",
     "collapsed": false,
     "input": [
      "plot(rc,t,'o-')\n",
      "grid()"
     ],
     "language": "python",
     "metadata": {},
     "outputs": [
      {
       "output_type": "display_data",
       "png": "[encoded data removed]",
       "text": [
        "<matplotlib.figure.Figure at 0x10d2ed650>"
       ]
      }
     ],
     "prompt_number": 94
    },
    {
     "cell_type": "heading",
     "level": 3,
     "metadata": {},
     "source": [
      "Multi-dimensional arrays"
     ]
    },
    {
     "cell_type": "code",
     "collapsed": false,
     "input": [
      "#How to create a multi-dimensional array in Python\n",
      "# give it a sequence of sequences\n",
      "a = array(\n",
      "            [\n",
      "               [0,1,2,3],\n",
      "               [10,11,12,13],\n",
      "               [20,21,22,23],\n",
      "               [31,32,33,34]\n",
      "             ] \n",
      "        )\n",
      "print a\n",
      "print a.shape\n",
      "print a.ndim\n",
      "\n",
      "print a[1,3]\n",
      "#row. column\n",
      "a[1,3] = 100\n",
      "print a\n",
      "#Array slicing in two dimensions\n",
      "#slicing works much like standard python slicing\n",
      "a[0,3:5]\n",
      "a[4:,4:]\n",
      "a[:,2]\n",
      "#strides are also possible \n",
      "a[2::2,::2]"
     ],
     "language": "python",
     "metadata": {},
     "outputs": [
      {
       "output_type": "stream",
       "stream": "stdout",
       "text": [
        "[[ 0  1  2  3]\n",
        " [10 11 12 13]\n",
        " [20 21 22 23]\n",
        " [31 32 33 34]]\n",
        "(4, 4)\n",
        "2\n",
        "13\n",
        "[[  0   1   2   3]\n",
        " [ 10  11  12 100]\n",
        " [ 20  21  22  23]\n",
        " [ 31  32  33  34]]\n"
       ]
      },
      {
       "output_type": "pyout",
       "prompt_number": 95,
       "text": [
        "array([[20, 22]])"
       ]
      }
     ],
     "prompt_number": 95
    },
    {
     "cell_type": "heading",
     "level": 3,
     "metadata": {},
     "source": [
      "Getting arrays from / to ASCII files"
     ]
    },
    {
     "cell_type": "markdown",
     "metadata": {},
     "source": [
      "BASIC PATTERN"
     ]
    },
    {
     "cell_type": "code",
     "collapsed": false,
     "input": [
      "USE WITH \n",
      "Checkout csv file reader"
     ],
     "language": "python",
     "metadata": {},
     "outputs": []
    },
    {
     "cell_type": "code",
     "collapsed": false,
     "input": [
      "#How do I read data from a file into an array? You typically don't. You read it into a list first and then convert the list into an array\n",
      "\n",
      "#  Read data into a list of lists, and THEN convert to an array\n",
      "with open('myfile.txt') as f:\n",
      "#create a list for all the data\n",
      "    data=[]\n",
      "    \n",
      "    for line in f.readlines():\n",
      "        #Read each row of data into a list of floats\n",
      "        #CSV file example with commas\n",
      "        fields = line.split(',')\n",
      "        row_data = [float(x) for x in fields]\n",
      "        #And add this row to the entire data set\n",
      "        data.append(row_data)\n",
      "    \n",
      "    #Finally, convert the \"list of lists\" into a 2D array\n",
      "    data = array(data)"
     ],
     "language": "python",
     "metadata": {},
     "outputs": []
    },
    {
     "cell_type": "markdown",
     "metadata": {},
     "source": [
      "Another example"
     ]
    },
    {
     "cell_type": "code",
     "collapsed": false,
     "input": [
      "#Data.txt\n",
      "#--Beginning of the file\n",
      "#% Day, Month, Year, Skip, Avg Power\n",
      "#01, 01, 2000, x876, 13 % crazy day!\n",
      "#% we don't have Jan 03rd\n",
      "#04, 01, 200, xfed, 55\n",
      "\n",
      "\n",
      "#some great commands\n",
      "\n",
      "#loadtxt() automatically generates an array from the txt file\n",
      "arr = loadtxt('Data.txt',skipwrows = 1,dtype=int,delimiter=\",\", usecols = (0,1,2,4), comment = '%')\n",
      "#genfromtxt()          "
     ],
     "language": "python",
     "metadata": {},
     "outputs": []
    },
    {
     "cell_type": "heading",
     "level": 2,
     "metadata": {},
     "source": [
      "Array methods"
     ]
    },
    {
     "cell_type": "markdown",
     "metadata": {},
     "source": [
      "* \"flattening\" arrays\n",
      "\n",
      "* ravel and unraveling arrays\n",
      "\n",
      "* Reshaping arrays\n",
      "\n",
      "* Transpose\n",
      "\n",
      "* Squeeze\n",
      "\n",
      "* Diagonals\n",
      "\n",
      "* Complex numbers\n",
      "\n",
      "* Array constructor examples\n",
      "\n",
      "* NumPy data types (dtypes)\n",
      "\n",
      "* Type casting\n",
      "\n",
      "* Array calculation methods\n",
      "- min, max, argmin, argmax, mean, standard deviation, variance\n",
      "- clip, peak-to-peak (ptp), round, search, sort, argsort, find, nonzero, "
     ]
    },
    {
     "cell_type": "heading",
     "level": 2,
     "metadata": {},
     "source": [
      "The basics of a simple plot"
     ]
    },
    {
     "cell_type": "code",
     "collapsed": false,
     "input": [
      "x = linspace(-0.256 , 0.255, 256)\n",
      "f = 5\n",
      "y = (1.-2.*(pi**2)*(f**2)*(x**2))*exp(-(pi**2)*(f**2)*(x**2))\n",
      "plt.figure()\n",
      "plt.plot(x,y)\n",
      "plt.grid()\n",
      "plt.show()\n",
      "y.ptp()"
     ],
     "language": "python",
     "metadata": {},
     "outputs": []
    },
    {
     "cell_type": "code",
     "collapsed": false,
     "input": [
      "#plot red circles connected by a line\n",
      "plt.figure()\n",
      "#plot(x,y, 'r-o')\n",
      "# now overlay the same function, \n",
      "#but only do every 5th point, as blue square, with 50% transparency.\n",
      "plt.plot(x[::5],y[::5], 'b-o', alpha=0.15, markersize = 15, lw=4)\n",
      "#for more on awesome plotting, see http://www.loria.fr/~rougier/teaching/matplotlib/\n",
      "plt.grid()\n",
      "plt.show()\n"
     ],
     "language": "python",
     "metadata": {},
     "outputs": []
    },
    {
     "cell_type": "heading",
     "level": 2,
     "metadata": {},
     "source": [
      "Anatomy of a function"
     ]
    },
    {
     "cell_type": "code",
     "collapsed": false,
     "input": [
      "#The keyword def indicates the start of a function.\n",
      "#The function is called add and it takes (requires) two arguments)\n",
      "#A colon (:) terminates the function signature\n",
      "def add(arg0, arg1):\n",
      "    \"\"\"Add two numbers\"\"\"\n",
      "    #an optional docstring is used to document the function in a standard way for tools like iPython\n",
      "    #Indentation is used to indicate the contents of the function. It is NOT optional, it is part of the required syntax, 4 spaces!!!\n",
      "    \n",
      "    a = arg0 + arg1\n",
      "    #An optional return statement specifies the value return from the function. If return is omitted, the function returns the special value \"None\"\n",
      "    return a"
     ],
     "language": "python",
     "metadata": {},
     "outputs": []
    },
    {
     "cell_type": "markdown",
     "metadata": {},
     "source": [
      "Our new function in action (we just created it in the code block above, but you can do it line by line in the interpreter"
     ]
    },
    {
     "cell_type": "code",
     "collapsed": false,
     "input": [
      "x = 2\n",
      "y = 3\n",
      "add(x,y)"
     ],
     "language": "python",
     "metadata": {},
     "outputs": []
    },
    {
     "cell_type": "code",
     "collapsed": false,
     "input": [
      "#How about strings?\n",
      "s1 = 'www.Agile'\n",
      "s2 = 'Geoscience.com'\n",
      "add(s1,s2)"
     ],
     "language": "python",
     "metadata": {},
     "outputs": []
    },
    {
     "cell_type": "code",
     "collapsed": false,
     "input": [
      "#Function can be assigned to variables\n",
      "add_operator = add\n",
      "add_operator(x,y)"
     ],
     "language": "python",
     "metadata": {},
     "outputs": []
    },
    {
     "cell_type": "code",
     "collapsed": false,
     "input": [
      "#How about numbers and strings?\n",
      "#add('abc', 1)\n",
      "\n",
      "add(2,1)\n",
      "\n",
      "add('2', '1')"
     ],
     "language": "python",
     "metadata": {},
     "outputs": []
    },
    {
     "cell_type": "heading",
     "level": 3,
     "metadata": {},
     "source": [
      "Function calling conventions"
     ]
    },
    {
     "cell_type": "code",
     "collapsed": false,
     "input": [
      "#positional arguments, does the contents of the function in the return statement\n",
      "def empower(x,y):\n",
      "    return x**y\n",
      "empower(2,3)"
     ],
     "language": "python",
     "metadata": {},
     "outputs": []
    },
    {
     "cell_type": "code",
     "collapsed": false,
     "input": [
      "#Keyword arguments\n",
      "def subtract(first, second):\n",
      "    \"\"\"subtract the second value from the first\"\"\"\n",
      "    return first - second\n",
      "#specify argument names,\n",
      "subtract(first=10,second=3)"
     ],
     "language": "python",
     "metadata": {},
     "outputs": []
    },
    {
     "cell_type": "code",
     "collapsed": false,
     "input": [
      "subtract(10,3)"
     ],
     "language": "python",
     "metadata": {},
     "outputs": []
    },
    {
     "cell_type": "code",
     "collapsed": false,
     "input": [
      "#when the arguments are named, the order doesn't matter\n",
      "subtract(second=10, first=3)"
     ],
     "language": "python",
     "metadata": {},
     "outputs": []
    },
    {
     "cell_type": "code",
     "collapsed": false,
     "input": [
      "#and you can even do a mixture if you are careful about the order\n",
      "subtract(10, second=3)\n",
      "#try:\n",
      "#>>>subtract(second=3, 10) #...what happens?"
     ],
     "language": "python",
     "metadata": {},
     "outputs": []
    },
    {
     "cell_type": "code",
     "collapsed": false,
     "input": [
      "#Default values\n",
      "#(Arguments can be assigned default values)\n",
      "def quad(x, a=1, b=1, c=0):\n",
      "    return a*x**2+ b*x + c"
     ],
     "language": "python",
     "metadata": {},
     "outputs": []
    },
    {
     "cell_type": "code",
     "collapsed": false,
     "input": [
      "#use defaults for a, b, and c.\n",
      "quad(2.0)\n"
     ],
     "language": "python",
     "metadata": {},
     "outputs": []
    },
    {
     "cell_type": "code",
     "collapsed": false,
     "input": [
      "#Set b=3. Defaults for a & c.\n",
      "quad(2.0, b=3)"
     ],
     "language": "python",
     "metadata": {},
     "outputs": []
    },
    {
     "cell_type": "code",
     "collapsed": false,
     "input": [
      "#Keyword argumnets can be passed in and out of order\n",
      "quad(2.0, c=1, a=3, b=2)"
     ],
     "language": "python",
     "metadata": {},
     "outputs": []
    },
    {
     "cell_type": "code",
     "collapsed": false,
     "input": [
      "#but the positional arguments must come before the default values\n",
      "#try: quad(c=1, 2.0, a=3, b=2)\n",
      "#try: quad(c=1, x=2.0, a=3, b=2)"
     ],
     "language": "python",
     "metadata": {},
     "outputs": []
    },
    {
     "cell_type": "code",
     "collapsed": false,
     "input": [
      "#Variable number of arguments (args)\n",
      "#Pass in any number of arguments. Extra arguments are put in the tuple 'args'.\n",
      "\n",
      "def func(x, y, *args):\n",
      "    print x, y, args\n",
      "    \n",
      "func(2,3,'hello',4, 5,'goodbye')"
     ],
     "language": "python",
     "metadata": {},
     "outputs": []
    },
    {
     "cell_type": "code",
     "collapsed": false,
     "input": [
      "#Variable keyword arguments\n",
      "#Extra keyword arguments are put in the dictionary \"kw\"\n",
      "def funk(x, y, **kw):\n",
      "    print x, y, kw\n",
      "    \n",
      "funk(1,2,a=3,b=4,c=5)"
     ],
     "language": "python",
     "metadata": {},
     "outputs": []
    },
    {
     "cell_type": "code",
     "collapsed": false,
     "input": [
      "#The \"anything\" signature\n",
      "#This signature takes any number of positional and keyword arguments\n",
      "\n",
      "def whatever(*args, **kw):\n",
      "    print args, kw\n",
      "    \n",
      "whatever(2,3,x='hello', y='stranger')"
     ],
     "language": "python",
     "metadata": {},
     "outputs": []
    },
    {
     "cell_type": "code",
     "collapsed": false,
     "input": [
      "#Multiple function returns\n",
      "#To return multiple values from a function, we return a tuple containing those values. This is a common use of multiple (tuple) assignment.\n",
      "def functions(x):\n",
      "    y1 = x**2+x\n",
      "    y2 = x**3 + x**2 + 2*x\n",
      "    return y1, y2\n",
      "\n",
      "a,b = functions(2)\n",
      "print a,b"
     ],
     "language": "python",
     "metadata": {},
     "outputs": []
    },
    {
     "cell_type": "code",
     "collapsed": false,
     "input": [
      "#Expanding function arguments\n",
      "\n",
      "#positional argument expansion\n",
      "def add(x,y):\n",
      "    return x + y\n",
      "\n",
      "# '*' in a function call converts a sequence into the arguments to a function\n",
      "\n",
      "vars = [1,2]\n",
      "\n",
      "add(*vars)"
     ],
     "language": "python",
     "metadata": {},
     "outputs": []
    },
    {
     "cell_type": "code",
     "collapsed": false,
     "input": [
      "#Keyword argument expansion\n",
      "def funky(x, y=1, **kw):\n",
      "    print x, y, kw\n",
      "\n",
      "# '**' expands a dictionary into keyword arguments for a function\n",
      "vars = {'y':3, 'z':4}\n",
      "funky(1, **vars)"
     ],
     "language": "python",
     "metadata": {},
     "outputs": []
    }
   ],
   "metadata": {}
  }
 ]
}