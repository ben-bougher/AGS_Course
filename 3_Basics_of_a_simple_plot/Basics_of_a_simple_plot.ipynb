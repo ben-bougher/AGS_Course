{
 "metadata": {
  "name": "Basics_of_a_simple_plot.ipynb"
 },
 "nbformat": 3,
 "nbformat_minor": 0,
 "worksheets": [
  {
   "cells": [
    {
     "cell_type": "heading",
     "level": 1,
     "metadata": {},
     "source": [
      "The basics of a simple plot"
     ]
    },
    {
     "cell_type": "code",
     "collapsed": false,
     "input": [
      "x = linspace(-0.256 , 0.255, 256)\n",
      "f = 5\n",
      "y = (1.-2.*(pi**2)*(f**2)*(x**2))*exp(-(pi**2)*(f**2)*(x**2))\n",
      "plt.figure()\n",
      "plt.plot(x,y)\n",
      "plt.grid()\n",
      "plt.show()\n",
      "y.ptp()"
     ],
     "language": "python",
     "metadata": {},
     "outputs": []
    },
    {
     "cell_type": "code",
     "collapsed": false,
     "input": [
      "#plot red circles connected by a line\n",
      "plt.figure()\n",
      "#plot(x,y, 'r-o')\n",
      "# now overlay the same function, \n",
      "#but only do every 5th point, as blue square, with 50% transparency.\n",
      "plt.plot(x[::5],y[::5], 'b-o', alpha=0.15, markersize = 15, lw=4)\n",
      "#for more on awesome plotting, see http://www.loria.fr/~rougier/teaching/matplotlib/\n",
      "plt.grid()\n",
      "plt.show()\n"
     ],
     "language": "python",
     "metadata": {},
     "outputs": []
    }
   ],
   "metadata": {}
  }
 ]
}