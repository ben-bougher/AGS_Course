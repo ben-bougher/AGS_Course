{
 "metadata": {
  "name": "Ex2.ipynb"
 },
 "nbformat": 3,
 "nbformat_minor": 0,
 "worksheets": [
  {
   "cells": [
    {
     "cell_type": "heading",
     "level": 1,
     "metadata": {},
     "source": [
      "Exercise 2:"
     ]
    },
    {
     "cell_type": "markdown",
     "metadata": {},
     "source": [
      "Write three functions named <code>file_to_list()</code>, <code>mean()</code>, and <code>variance()</code>, and save them into a single text file (with *.py as the file extension)."
     ]
    },
    {
     "cell_type": "heading",
     "level": 2,
     "metadata": {},
     "source": [
      "Learning objectives:"
     ]
    },
    {
     "cell_type": "markdown",
     "metadata": {},
     "source": [
      "* you will learn how to write a function and why it is useful.\n",
      "* You will be able to describe the anatomy of a function.\n",
      "* you will be introduced to Python syntax for writing functions.\n",
      "* you will place several functions within a single file, effectively creating a mini-library of code!"
     ]
    },
    {
     "cell_type": "markdown",
     "metadata": {},
     "source": [
      "Read more about Python functions in the Python documentation\n",
      "\n",
      "http://docs.python.org/release/1.5.1p1/tut/functions.html"
     ]
    },
    {
     "cell_type": "heading",
     "level": 3,
     "metadata": {},
     "source": [
      "Anatomy of a function"
     ]
    },
    {
     "cell_type": "code",
     "collapsed": false,
     "input": [
      "def name(args):"
     ],
     "language": "python",
     "metadata": {},
     "outputs": []
    },
    {
     "cell_type": "markdown",
     "metadata": {},
     "source": [
      "* Python has a special word called <code>def</code> that indicates the start of a function."
     ]
    },
    {
     "cell_type": "code",
     "collapsed": false,
     "input": [
      "def"
     ],
     "language": "python",
     "metadata": {},
     "outputs": []
    },
    {
     "cell_type": "markdown",
     "metadata": {},
     "source": [
      "* The function is given a name. In this case it is called <code>name</code>.\n",
      "\n",
      "* The word <code>args</code> in parentheses after the function name is called the *argument*. You can write functions with any number of arguments, i.e. <code>name(arg1,arg2,arg3,...)</code> or you can define a function that doesn't take any arguments at all.\n",
      "\n",
      "* The <code>:</code> after the arguments is not option is a requirement of the syntax."
     ]
    },
    {
     "cell_type": "heading",
     "level": 3,
     "metadata": {},
     "source": [
      "Write a function that adds two numbers"
     ]
    },
    {
     "cell_type": "code",
     "collapsed": false,
     "input": [
      "def add(arg0, arg1):\n",
      "    \"\"\"Add two numbers\"\"\"\n",
      "    # Notice the triple quotes. \n",
      "    # It describes what the function does,\n",
      "    # and what you need to know to use it\n",
      "    \n",
      "    # Notice how in IPython or the code editor,\n",
      "    # You automaticall get indented (4 spaces)\n",
      "    \n",
      "    a = arg0 + arg1  # this what is done to the function\n",
      "    \n",
      "    #An optional return statement specifies the value return from the function. If return is omitted, the function returns the special value \"None\"\n",
      "    \n",
      "    return a"
     ],
     "language": "python",
     "metadata": {},
     "outputs": [],
     "prompt_number": 27
    },
    {
     "cell_type": "markdown",
     "metadata": {},
     "source": [
      "Let's put our function to work:"
     ]
    },
    {
     "cell_type": "code",
     "collapsed": false,
     "input": [
      "x = 2\n",
      "y = 3\n",
      "add(x,y) #we call our function like this"
     ],
     "language": "python",
     "metadata": {},
     "outputs": []
    },
    {
     "cell_type": "markdown",
     "metadata": {},
     "source": [
      "What happens if <code>x</code> and <code>y</code> aren't numbers?"
     ]
    },
    {
     "cell_type": "code",
     "collapsed": false,
     "input": [
      "x = 'www.Agile'\n",
      "y = 'Geoscience.com'\n",
      "add(x,y)"
     ],
     "language": "python",
     "metadata": {},
     "outputs": []
    },
    {
     "cell_type": "markdown",
     "metadata": {},
     "source": [
      "Bonus points: what happens if you try to add a number and a string?"
     ]
    },
    {
     "cell_type": "heading",
     "level": 3,
     "metadata": {},
     "source": [
      "A function that takes a file and makes a list of numbers"
     ]
    },
    {
     "cell_type": "code",
     "collapsed": false,
     "input": [
      "def file_to_list(filename):\n",
      "\n",
      "    # Note the indentation of 4 spaces while we are inside a funciton.\n",
      "    \n",
      "    # The r tells python we are only going to read from the file\n",
      "    f = open(filename, 'r')\n",
      "\n",
      "    \"\"\"\n",
      "    Now that the file is open, we want to read all the numbers into a\n",
      "    list. We will initialize an empty list, then append each value to it\n",
      "    as we read in the file.\n",
      "    \"\"\"\n",
      "    \n",
      "    numbers = [] # An empty list\n",
      "\n",
      "    \"\"\"\n",
      "    Pay attention to the syntax of this for loop. If you have written for\n",
      "    loops in other languages, the python syntax will be new, and hopefully\n",
      "    easier. It reads very intuitively, for every line in the file, we will\n",
      "    do something.\n",
      "    \"\"\"\n",
      "    for line in f.readlines():\n",
      "        \n",
      "        # When inside a for loop, lines need to be indented 4 spaces\n",
      "        \"\"\"\n",
      "        txt files are read as strings, we need it to be a number. Python\n",
      "        is a dynamic language, so we can deal with very easily and\n",
      "        intuitively.\n",
      "        \"\"\"\n",
      "\n",
      "        number = float(line)\n",
      "        \n",
      "        # We will add this to our list, using the append function.\n",
      "        numbers.append(number)\n",
      "\n",
      "        \"\"\"\n",
      "        Note the syntax with the '.'. The list type in python has several\n",
      "        built in functions we can call, append being one of them. Check\n",
      "        the python docs for about lists:\n",
      "        http://docs.python.org/2/tutorial/datastructures.html\n",
      "        \"\"\"\n",
      "\n",
      "    \"\"\"\n",
      "    The return value is what the user will receive when the\n",
      "    function is called. We are returning the list of numbers.\n",
      "    \"\"\"\n",
      "    return numbers"
     ],
     "language": "python",
     "metadata": {},
     "outputs": []
    },
    {
     "cell_type": "heading",
     "level": 4,
     "metadata": {},
     "source": [
      "Test it out"
     ]
    },
    {
     "cell_type": "markdown",
     "metadata": {},
     "source": [
      "did it work?"
     ]
    },
    {
     "cell_type": "markdown",
     "metadata": {},
     "source": [
      "Make sure you are in the right directory and can see the data"
     ]
    },
    {
     "cell_type": "code",
     "collapsed": false,
     "input": [
      "ls"
     ],
     "language": "python",
     "metadata": {},
     "outputs": [
      {
       "output_type": "stream",
       "stream": "stdout",
       "text": [
        "\u001b[34mApplications\u001b[m\u001b[m/     \u001b[34mUsers\u001b[m\u001b[m/            \u001b[35metc\u001b[m\u001b[m@              \u001b[34mprivate\u001b[m\u001b[m/\r\n",
        "\u001b[34mLibrary\u001b[m\u001b[m/          \u001b[30m\u001b[42mVolumes\u001b[m\u001b[m/          \u001b[34mhome\u001b[m\u001b[m/             \u001b[34msbin\u001b[m\u001b[m/\r\n",
        "\u001b[34mNetwork\u001b[m\u001b[m/          \u001b[34mbin\u001b[m\u001b[m/              mach_kernel       \u001b[35mtmp\u001b[m\u001b[m@\r\n",
        "\u001b[34mSystem\u001b[m\u001b[m/           \u001b[34mcores\u001b[m\u001b[m/            \u001b[34mnet\u001b[m\u001b[m/              \u001b[34musr\u001b[m\u001b[m/\r\n",
        "\u001b[35mUser Information\u001b[m\u001b[m@ \u001b[34mdev\u001b[m\u001b[m/              \u001b[34mopt\u001b[m\u001b[m/              \u001b[35mvar\u001b[m\u001b[m@\r\n"
       ]
      }
     ],
     "prompt_number": 15
    },
    {
     "cell_type": "code",
     "collapsed": false,
     "input": [
      "cd Users/Evan/Dropbox/Agile/Code/gc101/AGS_07Feb14/Ex1/"
     ],
     "language": "python",
     "metadata": {},
     "outputs": [
      {
       "output_type": "stream",
       "stream": "stdout",
       "text": [
        "/Users/Evan/Dropbox/Agile/Code/gc101/AGS_07Feb14/Ex1"
       ]
      },
      {
       "output_type": "stream",
       "stream": "stdout",
       "text": [
        "\n"
       ]
      }
     ],
     "prompt_number": 16
    },
    {
     "cell_type": "code",
     "collapsed": false,
     "input": [
      "ls"
     ],
     "language": "python",
     "metadata": {},
     "outputs": [
      {
       "output_type": "stream",
       "stream": "stdout",
       "text": [
        "Ex1.ipynb        \u001b[31mmean_script.py\u001b[m\u001b[m*  \u001b[31msample_data.txt\u001b[m\u001b[m*\r\n"
       ]
      }
     ],
     "prompt_number": 18
    },
    {
     "cell_type": "heading",
     "level": 3,
     "metadata": {},
     "source": [
      "Many functions in one script"
     ]
    },
    {
     "cell_type": "markdown",
     "metadata": {},
     "source": [
      "You can put as many functions as you like in one script. The order doesn't matter, just put them one after another."
     ]
    },
    {
     "cell_type": "heading",
     "level": 3,
     "metadata": {},
     "source": [
      "Write a functions for calculating the mean and variance of a set of numbers"
     ]
    },
    {
     "cell_type": "markdown",
     "metadata": {},
     "source": [
      "Hints:\n",
      "    \n",
      "* to calculate the mean, we need to sum the numbers and divide by N the total number of samples\n",
      "\n",
      "* Get the number of elements in the sum, using the built in len() function. Check out all of pythons built in functions at: http://docs.python.org/2/library/functions.html\n",
      "        \n",
      "* For variance you will need toloop through the numbers and calculate the variance. (x-x_mean)^2 / N"
     ]
    },
    {
     "cell_type": "code",
     "collapsed": false,
     "input": [
      "def mean(numbers):\n",
      "\n",
      "    total = 0 # initialization\n",
      "    for i in numbers:\n",
      "\n",
      "        total += i # adds each number to the total\n",
      "\n",
      "    N = len(numbers)\n",
      "        \n",
      "    mean = total / N\n",
      "\n",
      "    return mean"
     ],
     "language": "python",
     "metadata": {},
     "outputs": [],
     "prompt_number": 29
    },
    {
     "cell_type": "code",
     "collapsed": false,
     "input": [
      "def variance(numbers, mean):\n",
      "    \n",
      "    variance = 0 # intialization\n",
      "    N = len(numbers)\n",
      "    \n",
      "    for i in numbers:\n",
      "\n",
      "        variance += ((i - mean) * (i - mean))/N\n",
      "    \n",
      "    return variance"
     ],
     "language": "python",
     "metadata": {},
     "outputs": []
    },
    {
     "cell_type": "markdown",
     "metadata": {},
     "source": [
      "save these functions with the name \"function_calls.py\" if you want to use them with additional functionality"
     ]
    },
    {
     "cell_type": "heading",
     "level": 3,
     "metadata": {},
     "source": [
      "Getting to your functions"
     ]
    },
    {
     "cell_type": "markdown",
     "metadata": {},
     "source": [
      "For additional functionality, learn about the os module that has useful functions for dealing with directory structures. See \"function_calls.py\" for more information"
     ]
    },
    {
     "cell_type": "markdown",
     "metadata": {},
     "source": [
      "Read more about the os module in the PYDOCS:\n",
      "http://docs.python.org/2/library/os.html"
     ]
    },
    {
     "cell_type": "markdown",
     "metadata": {},
     "source": [
      "This script will read in all files in a folder, calculate the mean and variance, and keep the results in a dictionary.\n",
      "\n",
      "Read more on dictionaries in the PYDOCS:\n",
      "http://docs.python.org/2/tutorial/datastructures.html#dictionaries"
     ]
    },
    {
     "cell_type": "code",
     "collapsed": false,
     "input": [
      "#function_calls.py\n",
      "import os\n",
      "\n",
      "# Note the \"as\" You can rename modules to better suit your namespace\n",
      "import AGS_functions as AGS\n",
      "\n",
      "directory = \"all_sample_data\"\n",
      "# An empty dictionary\n",
      "out = {}\n",
      "\n",
      "# Use the power of the os module to make it easy\n",
      "for f in os.listdir(directory):\n",
      "\n",
      "    # Note the use of namespace to access our functions\n",
      "\n",
      "    # os.path module makes it easy to make the full path\n",
      "    data = AGS.file_to_list(os.path.join(directory,f))\n",
      "    mean = AGS.mean(data)\n",
      "    variance = AGS.variance(data, mean)\n",
      "\n",
      "    # Note the syntax of adding elements to a dictionary\n",
      "    out[f] = (mean, variance)\n",
      "\n",
      "for i in out:\n",
      "    print(i, out[i])"
     ],
     "language": "python",
     "metadata": {},
     "outputs": [
      {
       "ename": "ImportError",
       "evalue": "No module named AGS_functions",
       "output_type": "pyerr",
       "traceback": [
        "\u001b[0;31m---------------------------------------------------------------------------\u001b[0m\n\u001b[0;31mImportError\u001b[0m                               Traceback (most recent call last)",
        "\u001b[0;32m<ipython-input-32-ac5701f01b89>\u001b[0m in \u001b[0;36m<module>\u001b[0;34m()\u001b[0m\n\u001b[1;32m      3\u001b[0m \u001b[0;34m\u001b[0m\u001b[0m\n\u001b[1;32m      4\u001b[0m \u001b[0;31m# Note the \"as\" You can rename modules to better suit your namespace\u001b[0m\u001b[0;34m\u001b[0m\u001b[0;34m\u001b[0m\u001b[0m\n\u001b[0;32m----> 5\u001b[0;31m \u001b[0;32mimport\u001b[0m \u001b[0mAGS_functions\u001b[0m \u001b[0;32mas\u001b[0m \u001b[0mAGS\u001b[0m\u001b[0;34m\u001b[0m\u001b[0m\n\u001b[0m\u001b[1;32m      6\u001b[0m \u001b[0;34m\u001b[0m\u001b[0m\n\u001b[1;32m      7\u001b[0m \u001b[0mdirectory\u001b[0m \u001b[0;34m=\u001b[0m \u001b[0;34m\"all_sample_data\"\u001b[0m\u001b[0;34m\u001b[0m\u001b[0m\n",
        "\u001b[0;31mImportError\u001b[0m: No module named AGS_functions"
       ]
      }
     ],
     "prompt_number": 32
    },
    {
     "cell_type": "code",
     "collapsed": false,
     "input": [],
     "language": "python",
     "metadata": {},
     "outputs": []
    }
   ],
   "metadata": {}
  }
 ]
}