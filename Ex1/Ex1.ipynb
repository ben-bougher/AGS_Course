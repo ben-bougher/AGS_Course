{
 "metadata": {
  "name": "Ex1.ipynb"
 },
 "nbformat": 3,
 "nbformat_minor": 0,
 "worksheets": [
  {
   "cells": [
    {
     "cell_type": "heading",
     "level": 1,
     "metadata": {},
     "source": [
      "Exercise 1:"
     ]
    },
    {
     "cell_type": "markdown",
     "metadata": {},
     "source": [
      "Read a sequence of numbers from a text file and calculate the mean and variance."
     ]
    },
    {
     "cell_type": "heading",
     "level": 2,
     "metadata": {},
     "source": [
      "Learning objectives:"
     ]
    },
    {
     "cell_type": "markdown",
     "metadata": {},
     "source": [
      "* you will be introduced to Python syntax and operations.\n",
      "\n",
      "* you will about the **list** data structure and some built-in **functions** in Python.\n",
      "\n",
      "* you will learn the anatomy of a **for loop**, and why it is useful\n",
      "\n",
      "* you will be able to **read a file**, loop through a sequence of numbers and use some basic math operations on it."
     ]
    },
    {
     "cell_type": "heading",
     "level": 4,
     "metadata": {},
     "source": [
      "Use comments to make your code readable (for other people and for yourself):"
     ]
    },
    {
     "cell_type": "code",
     "collapsed": false,
     "input": [
      "print \"For commenting your code, you can use Triple quotes...\"\n",
      "\"\"\"\n",
      "Triple quotation marks are for long comments. Comments that use triple \n",
      "quotation marks will be read by the interpreter. This is a great way \n",
      "to expose documentation within your scripts, without needing to open\n",
      "the file.\n",
      "\"\"\"\n",
      "print \"...you can also can use hashtags ...\"\n",
      "\n",
      "print \"hastags comments can be on their own line,\"\n",
      "# The hashtag is the syntax for single line comments...\n",
      "\n",
      "print \"or they can be used on the same line as code\" # like this one here\n",
      "\n",
      "# It is convention and good coding practice to stay under 80 characters per \n",
      "# line. But this is not a requirement"
     ],
     "language": "python",
     "metadata": {},
     "outputs": [
      {
       "output_type": "stream",
       "stream": "stdout",
       "text": [
        "For commenting your code, you can use Triple quotes...\n",
        "...you can also can use hashtags ...\n",
        "hastags comments can be on their own line,\n",
        "or they can be used on the same line as code\n"
       ]
      }
     ],
     "prompt_number": 9
    },
    {
     "cell_type": "markdown",
     "metadata": {},
     "source": [
      "Make sure you are in the right directory and can see the data"
     ]
    },
    {
     "cell_type": "code",
     "collapsed": false,
     "input": [
      "ls"
     ],
     "language": "python",
     "metadata": {},
     "outputs": [
      {
       "output_type": "stream",
       "stream": "stdout",
       "text": [
        "\u001b[34mApplications\u001b[m\u001b[m/     \u001b[34mUsers\u001b[m\u001b[m/            \u001b[35metc\u001b[m\u001b[m@              \u001b[34mprivate\u001b[m\u001b[m/\r\n",
        "\u001b[34mLibrary\u001b[m\u001b[m/          \u001b[30m\u001b[42mVolumes\u001b[m\u001b[m/          \u001b[34mhome\u001b[m\u001b[m/             \u001b[34msbin\u001b[m\u001b[m/\r\n",
        "\u001b[34mNetwork\u001b[m\u001b[m/          \u001b[34mbin\u001b[m\u001b[m/              mach_kernel       \u001b[35mtmp\u001b[m\u001b[m@\r\n",
        "\u001b[34mSystem\u001b[m\u001b[m/           \u001b[34mcores\u001b[m\u001b[m/            \u001b[34mnet\u001b[m\u001b[m/              \u001b[34musr\u001b[m\u001b[m/\r\n",
        "\u001b[35mUser Information\u001b[m\u001b[m@ \u001b[34mdev\u001b[m\u001b[m/              \u001b[34mopt\u001b[m\u001b[m/              \u001b[35mvar\u001b[m\u001b[m@\r\n"
       ]
      }
     ],
     "prompt_number": 15
    },
    {
     "cell_type": "code",
     "collapsed": false,
     "input": [
      "cd Users/Evan/Dropbox/Agile/Code/gc101/AGS_07Feb14/Ex1/"
     ],
     "language": "python",
     "metadata": {},
     "outputs": [
      {
       "output_type": "stream",
       "stream": "stdout",
       "text": [
        "/Users/Evan/Dropbox/Agile/Code/gc101/AGS_07Feb14/Ex1"
       ]
      },
      {
       "output_type": "stream",
       "stream": "stdout",
       "text": [
        "\n"
       ]
      }
     ],
     "prompt_number": 16
    },
    {
     "cell_type": "code",
     "collapsed": false,
     "input": [
      "ls"
     ],
     "language": "python",
     "metadata": {},
     "outputs": [
      {
       "output_type": "stream",
       "stream": "stdout",
       "text": [
        "Ex1.ipynb        \u001b[31mmean_script.py\u001b[m\u001b[m*  \u001b[31msample_data.txt\u001b[m\u001b[m*\r\n"
       ]
      }
     ],
     "prompt_number": 18
    },
    {
     "cell_type": "heading",
     "level": 4,
     "metadata": {},
     "source": [
      "To read a text file"
     ]
    },
    {
     "cell_type": "markdown",
     "metadata": {},
     "source": [
      "Python has a native file reader function for reading a file from disk. Read the description of the function in the Python documentation: http://docs.python.org/2/library/functions.html#open"
     ]
    },
    {
     "cell_type": "code",
     "collapsed": false,
     "input": [
      "f = open('sample_data.txt', 'r')"
     ],
     "language": "python",
     "metadata": {},
     "outputs": [],
     "prompt_number": 19
    },
    {
     "cell_type": "markdown",
     "metadata": {},
     "source": [
      "The <code>r</code> tells python we are only going to **read** from the file.\n",
      "\n",
      "* Now that the file is open, we want to read all the numbers into a **list**.\n",
      "* We do this by first initializing an empty list, then append each value to it as we read in each line of the file."
     ]
    },
    {
     "cell_type": "code",
     "collapsed": false,
     "input": [
      "numbers = [] # An empty list"
     ],
     "language": "python",
     "metadata": {},
     "outputs": [],
     "prompt_number": 20
    },
    {
     "cell_type": "heading",
     "level": 3,
     "metadata": {},
     "source": [
      "The for loop"
     ]
    },
    {
     "cell_type": "markdown",
     "metadata": {},
     "source": [
      "\n",
      "Pay attention to the syntax of this for loop. If you have written for\n",
      "loops in other languages, the python syntax will be new, and hopefully\n",
      "easier. It reads very intuitively, for every line in the file, we will\n",
      "do something.\n",
      "\n",
      "(Draw the anatomy of a for loop)"
     ]
    },
    {
     "cell_type": "code",
     "collapsed": false,
     "input": [
      "for line in f.readlines():\n",
      "    \n",
      "    # When inside a for loop, lines need to be indented 4 spaces\n",
      "    \"\"\"\n",
      "    txt files are read as strings, we need it to be a number. Python\n",
      "    is a dynamic language, so we can deal with very easily and\n",
      "    intuitively.\n",
      "    \"\"\"\n",
      "    number = float(line)\n",
      "\n",
      "    # We will add this to our list, using the append function.\n",
      "    numbers.append(number)\n",
      "\n",
      "    \"\"\"\n",
      "    Note the syntax with the '.'. The list type in python has several\n",
      "    built in functions we can call, append being one of them. Check\n",
      "    the python docs for about lists:\n",
      "    http://docs.python.org/2/tutorial/datastructures.html\n",
      "    \"\"\"\n",
      "\n",
      "# Note the indentation is finished, telling python the for loop is done"
     ],
     "language": "python",
     "metadata": {},
     "outputs": [],
     "prompt_number": 21
    },
    {
     "cell_type": "heading",
     "level": 3,
     "metadata": {},
     "source": [
      "Calculate the mean"
     ]
    },
    {
     "cell_type": "markdown",
     "metadata": {},
     "source": [
      "we need to <code>sum</code> the numbers then divide by <code>N</code> (the number of numbers)"
     ]
    },
    {
     "cell_type": "code",
     "collapsed": false,
     "input": [
      "total = 0 # we will add to it\n",
      "for i in numbers:\n",
      "\n",
      "    # The += is shorthand notation for total = total + i\n",
      "    total += i"
     ],
     "language": "python",
     "metadata": {},
     "outputs": [],
     "prompt_number": 22
    },
    {
     "cell_type": "heading",
     "level": 3,
     "metadata": {},
     "source": [
      "The built-in len() function"
     ]
    },
    {
     "cell_type": "markdown",
     "metadata": {},
     "source": [
      "In order to get the number of elements in our list of numbers, we can use the built-in len()\n",
      "function. \n",
      "\n",
      "Check out all of pythons built in functions at:\n",
      "    \n",
      "http://docs.python.org/2/library/functions.html"
     ]
    },
    {
     "cell_type": "code",
     "collapsed": false,
     "input": [
      "N = len(numbers)"
     ],
     "language": "python",
     "metadata": {},
     "outputs": [],
     "prompt_number": 23
    },
    {
     "cell_type": "markdown",
     "metadata": {},
     "source": [
      "Calculate the mean:"
     ]
    },
    {
     "cell_type": "code",
     "collapsed": false,
     "input": [
      "mean = total / N"
     ],
     "language": "python",
     "metadata": {},
     "outputs": [],
     "prompt_number": 24
    },
    {
     "cell_type": "markdown",
     "metadata": {},
     "source": [
      "The Print function will write a message to the interpreter:"
     ]
    },
    {
     "cell_type": "code",
     "collapsed": false,
     "input": [
      "print(\"Mean = \", mean)"
     ],
     "language": "python",
     "metadata": {},
     "outputs": [
      {
       "output_type": "stream",
       "stream": "stdout",
       "text": [
        "('Mean = ', 506.1355076928272)\n"
       ]
      }
     ],
     "prompt_number": 25
    },
    {
     "cell_type": "markdown",
     "metadata": {},
     "source": [
      "Calculate the variance:\n",
      "    \n",
      "    * Set the initial value of variance to zero,\n",
      "    * We will loop through the numbers and calculate the variance. (x-x_mean)^2 / N,\n",
      "    * Mathematical operations follow typical BEDMAS "
     ]
    },
    {
     "cell_type": "code",
     "collapsed": false,
     "input": [
      "variance = 0 \n",
      "\n",
      "for i in numbers:\n",
      "\n",
      "    variance += ((i - mean) * (i - mean))/N\n",
      "\n",
      "print(\"Variance =\", variance)"
     ],
     "language": "python",
     "metadata": {},
     "outputs": [
      {
       "output_type": "stream",
       "stream": "stdout",
       "text": [
        "('Variance =', 86657.6087226227)\n"
       ]
      }
     ],
     "prompt_number": 26
    }
   ],
   "metadata": {}
  }
 ]
}