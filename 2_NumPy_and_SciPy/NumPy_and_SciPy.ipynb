{
 "metadata": {
  "name": "NumPy_and_SciPy.ipynb"
 },
 "nbformat": 3,
 "nbformat_minor": 0,
 "worksheets": [
  {
   "cells": [
    {
     "cell_type": "heading",
     "level": 1,
     "metadata": {},
     "source": [
      "Agile Geocomputing 101"
     ]
    },
    {
     "cell_type": "heading",
     "level": 2,
     "metadata": {},
     "source": [
      "NumPy and SciPy"
     ]
    },
    {
     "cell_type": "markdown",
     "metadata": {},
     "source": [
      "These are toolboxes or libraries (but there are thousands of them, an incredible ecosystem for all this)\n",
      "\n",
      "- NumPy (Data Structure Core) NDArray - array data structures allow us to look at numeric data very seriously, and UFunc - fast array math operations.\n",
      "\n",
      "- SciPy ( Scientific Algorithms )\n",
      "\n",
      "Helpful sites: \n",
      "    \n",
      "    http://docs.scipy.org/docs\n",
      "        \n",
      "    http://scipy.org/Numpy_Examples_List_With_Doc \n",
      "    (what are all the functions?)        "
     ]
    },
    {
     "cell_type": "markdown",
     "metadata": {},
     "source": [
      "To load the entire NumPy library into your workspace:"
     ]
    },
    {
     "cell_type": "code",
     "collapsed": false,
     "input": [
      "from numpy import * "
     ],
     "language": "python",
     "metadata": {},
     "outputs": [],
     "prompt_number": 30
    },
    {
     "cell_type": "markdown",
     "metadata": {},
     "source": [
      "But, it is very bad manners to do this at the top of your scripts."
     ]
    },
    {
     "cell_type": "code",
     "collapsed": false,
     "input": [
      "from numpy import #now put the name of the functions you are going to use"
     ],
     "language": "python",
     "metadata": {},
     "outputs": []
    },
    {
     "cell_type": "code",
     "collapsed": false,
     "input": [
      "import numpy as np"
     ],
     "language": "python",
     "metadata": {},
     "outputs": []
    },
    {
     "cell_type": "heading",
     "level": 3,
     "metadata": {},
     "source": [
      "Arrays, indexing and slicing"
     ]
    },
    {
     "cell_type": "markdown",
     "metadata": {},
     "source": [
      "This is a list"
     ]
    },
    {
     "cell_type": "code",
     "collapsed": false,
     "input": [
      "a = [1,2,3]\n",
      "a"
     ],
     "language": "python",
     "metadata": {},
     "outputs": [],
     "prompt_number": 31
    },
    {
     "cell_type": "markdown",
     "metadata": {},
     "source": [
      "this is an array."
     ]
    },
    {
     "cell_type": "code",
     "collapsed": false,
     "input": [
      "np.array(a)"
     ],
     "language": "python",
     "metadata": {},
     "outputs": [],
     "prompt_number": 31
    },
    {
     "cell_type": "markdown",
     "metadata": {},
     "source": [
      "This is not a list, it's a tuple:"
     ]
    },
    {
     "cell_type": "code",
     "collapsed": false,
     "input": [
      "b = (1,2,3)"
     ],
     "language": "python",
     "metadata": {},
     "outputs": []
    },
    {
     "cell_type": "code",
     "collapsed": false,
     "input": [
      "print np.array(b)"
     ],
     "language": "python",
     "metadata": {},
     "outputs": []
    },
    {
     "cell_type": "markdown",
     "metadata": {},
     "source": [
      "Notice how you get exactly the same thing. <code>numpy.array</code> is a casting operation that can take any sequence and cast it into an array.\n",
      "\n",
      "If we do <code>np.arange</code>, this is the same thing as <code>range</code>, except it makes an array instead of a list."
     ]
    },
    {
     "cell_type": "code",
     "collapsed": false,
     "input": [
      "a = np.arange(11.)\n",
      "a"
     ],
     "language": "python",
     "metadata": {},
     "outputs": []
    },
    {
     "cell_type": "markdown",
     "metadata": {},
     "source": [
      "This gives me a slightly different result than,"
     ]
    },
    {
     "cell_type": "code",
     "collapsed": false,
     "input": [
      "a = np.arange(11)\n",
      "a"
     ],
     "language": "python",
     "metadata": {},
     "outputs": []
    },
    {
     "cell_type": "code",
     "collapsed": false,
     "input": [
      "type(11.)"
     ],
     "language": "python",
     "metadata": {},
     "outputs": []
    },
    {
     "cell_type": "code",
     "collapsed": false,
     "input": [
      "type(11)"
     ],
     "language": "python",
     "metadata": {},
     "outputs": []
    },
    {
     "cell_type": "heading",
     "level": 3,
     "metadata": {},
     "source": [
      "Array operations"
     ]
    },
    {
     "cell_type": "code",
     "collapsed": false,
     "input": [
      "a = np.array((1,2,3))"
     ],
     "language": "python",
     "metadata": {},
     "outputs": []
    },
    {
     "cell_type": "code",
     "collapsed": false,
     "input": [
      "b = np.array((4,5,6))"
     ],
     "language": "python",
     "metadata": {},
     "outputs": []
    },
    {
     "cell_type": "code",
     "collapsed": false,
     "input": [
      "a + 1"
     ],
     "language": "python",
     "metadata": {},
     "outputs": []
    },
    {
     "cell_type": "code",
     "collapsed": false,
     "input": [
      "a*b "
     ],
     "language": "python",
     "metadata": {},
     "outputs": []
    },
    {
     "cell_type": "code",
     "collapsed": false,
     "input": [
      "a**b "
     ],
     "language": "python",
     "metadata": {},
     "outputs": []
    },
    {
     "cell_type": "heading",
     "level": 3,
     "metadata": {},
     "source": [
      "Slicing and indexing"
     ]
    },
    {
     "cell_type": "markdown",
     "metadata": {},
     "source": [
      "We can access elements in an array in a number of ways:"
     ]
    },
    {
     "cell_type": "code",
     "collapsed": false,
     "input": [
      "a = np.array([1,2,3,4,5,6,7,8,9])"
     ],
     "language": "python",
     "metadata": {},
     "outputs": []
    },
    {
     "cell_type": "code",
     "collapsed": false,
     "input": [
      "#first three elements of an array\n",
      "print a[:3]"
     ],
     "language": "python",
     "metadata": {},
     "outputs": []
    },
    {
     "cell_type": "code",
     "collapsed": false,
     "input": [
      "#last two elements of an array\n",
      "print a[-2:]"
     ],
     "language": "python",
     "metadata": {},
     "outputs": []
    },
    {
     "cell_type": "code",
     "collapsed": false,
     "input": [
      "#every other element (even values)\n",
      "print a[::2]  "
     ],
     "language": "python",
     "metadata": {},
     "outputs": []
    },
    {
     "cell_type": "code",
     "collapsed": false,
     "input": [
      "#every other element (odd values)\n",
      "print a[1::2]"
     ],
     "language": "python",
     "metadata": {},
     "outputs": []
    },
    {
     "cell_type": "code",
     "collapsed": true,
     "input": [
      "trace = a[0]"
     ],
     "language": "python",
     "metadata": {},
     "outputs": [],
     "prompt_number": 10
    },
    {
     "cell_type": "markdown",
     "metadata": {},
     "source": [
      "<Fast way to compute reflection coefficients"
     ]
    },
    {
     "cell_type": "code",
     "collapsed": false,
     "input": [
      "zp = np.array([5.,5.,5.,5.,6.,6.,6.,7.,7.,6.,6.,6.,6.,6.,7.,7.,8.,8.,8.,8.,6.,6.,6.,6.,7.,7.,7.])\n",
      "upper = zp[:-1] #takes all but the last element\n",
      "lower = zp[1:] #takes all but the first element\n",
      "rc = (lower - upper) / (upper + lower)"
     ],
     "language": "python",
     "metadata": {},
     "outputs": [],
     "prompt_number": 90
    },
    {
     "cell_type": "code",
     "collapsed": false,
     "input": [
      "t = linspace(0.,len(rc),len(rc))"
     ],
     "language": "python",
     "metadata": {},
     "outputs": [],
     "prompt_number": 93
    },
    {
     "cell_type": "code",
     "collapsed": false,
     "input": [
      "plot(rc,t,'o-')\n",
      "grid()"
     ],
     "language": "python",
     "metadata": {},
     "outputs": [
      {
       "output_type": "display_data",
       "png": "[encoded data removed]",
       "text": [
        "<matplotlib.figure.Figure at 0x10d2ed650>"
       ]
      }
     ],
     "prompt_number": 94
    },
    {
     "cell_type": "heading",
     "level": 3,
     "metadata": {},
     "source": [
      "Multi-dimensional arrays"
     ]
    },
    {
     "cell_type": "code",
     "collapsed": false,
     "input": [
      "To make a multidimensional array in Python, give <code>array</code> a sequence of sequences."
     ],
     "language": "python",
     "metadata": {},
     "outputs": []
    },
    {
     "cell_type": "code",
     "collapsed": false,
     "input": [
      "a = array(\n",
      "            [\n",
      "               [0,1,2,3],\n",
      "               [10,11,12,13],\n",
      "               [20,21,22,23],\n",
      "               [31,32,33,34]\n",
      "             ] \n",
      "        )\n",
      "print a\n",
      "print a.shape\n",
      "print a.ndim\n",
      "\n",
      "print a[1,3]\n",
      "#row. column\n",
      "a[1,3] = 100\n",
      "print a\n",
      "#Array slicing in two dimensions\n",
      "#slicing works much like standard python slicing\n",
      "a[0,3:5]\n",
      "a[4:,4:]\n",
      "a[:,2]\n",
      "#strides are also possible \n",
      "a[2::2,::2]"
     ],
     "language": "python",
     "metadata": {},
     "outputs": [
      {
       "output_type": "stream",
       "stream": "stdout",
       "text": [
        "[[ 0  1  2  3]\n",
        " [10 11 12 13]\n",
        " [20 21 22 23]\n",
        " [31 32 33 34]]\n",
        "(4, 4)\n",
        "2\n",
        "13\n",
        "[[  0   1   2   3]\n",
        " [ 10  11  12 100]\n",
        " [ 20  21  22  23]\n",
        " [ 31  32  33  34]]\n"
       ]
      },
      {
       "output_type": "pyout",
       "prompt_number": 95,
       "text": [
        "array([[20, 22]])"
       ]
      }
     ],
     "prompt_number": 95
    },
    {
     "cell_type": "heading",
     "level": 3,
     "metadata": {},
     "source": [
      "Getting arrays from / to ASCII files"
     ]
    },
    {
     "cell_type": "markdown",
     "metadata": {},
     "source": [
      "How do I read data from a file into an array? You typically don't. You read it into a list first and then convert the list into an array"
     ]
    },
    {
     "cell_type": "markdown",
     "metadata": {},
     "source": [
      "Basic pattern"
     ]
    },
    {
     "cell_type": "code",
     "collapsed": false,
     "input": [
      "with open('myfile.txt') as f:\n",
      "#create a list for all the data\n",
      "    data=[]\n",
      "    \n",
      "    for line in f.readlines():\n",
      "        #Read each row of data into a list of floats\n",
      "        #CSV file example with commas\n",
      "        fields = line.split(',')\n",
      "        row_data = [float(x) for x in fields]\n",
      "        #And add this row to the entire data set\n",
      "        data.append(row_data)\n",
      "    \n",
      "    #Finally, convert the \"list of lists\" into a 2D array\n",
      "    data = array(data)"
     ],
     "language": "python",
     "metadata": {},
     "outputs": []
    },
    {
     "cell_type": "markdown",
     "metadata": {},
     "source": [
      "Some great commands (see .py file on text loading)"
     ]
    },
    {
     "cell_type": "code",
     "collapsed": false,
     "input": [
      "#loadtxt() automatically generates an array from the txt file\n",
      "arr = loadtxt('Data.txt',skipwrows = 1,dtype=int,delimiter=\",\", usecols = (0,1,2,4), comment = '%')\n",
      "#genfromtxt()          "
     ],
     "language": "python",
     "metadata": {},
     "outputs": []
    },
    {
     "cell_type": "heading",
     "level": 2,
     "metadata": {},
     "source": [
      "Array methods"
     ]
    },
    {
     "cell_type": "markdown",
     "metadata": {},
     "source": [
      "* \"flattening\" arrays\n",
      "\n",
      "* ravel and unraveling arrays\n",
      "\n",
      "* Reshaping arrays\n",
      "\n",
      "* Transpose\n",
      "\n",
      "* Squeeze\n",
      "\n",
      "* Diagonals\n",
      "\n",
      "* Complex numbers\n",
      "\n",
      "* Array constructor examples\n",
      "\n",
      "* NumPy data types (dtypes)\n",
      "\n",
      "* Type casting\n",
      "\n",
      "* Array calculation methods\n",
      "- min, max, argmin, argmax, mean, standard deviation, variance\n",
      "- clip, peak-to-peak (ptp), round, search, sort, argsort, find, nonzero, "
     ]
    }
   ],
   "metadata": {}
  }
 ]
}